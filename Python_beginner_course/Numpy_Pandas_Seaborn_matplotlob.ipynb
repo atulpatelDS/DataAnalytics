{
 "cells": [
  {
   "cell_type": "code",
   "execution_count": 1,
   "metadata": {},
   "outputs": [
    {
     "name": "stdout",
     "output_type": "stream",
     "text": [
      "Hello World\n"
     ]
    }
   ],
   "source": [
    "print(\"Hello World\")"
   ]
  },
  {
   "cell_type": "code",
   "execution_count": 2,
   "metadata": {},
   "outputs": [
    {
     "name": "stdout",
     "output_type": "stream",
     "text": [
      "My first name is Atul and my last name is Patel\n"
     ]
    }
   ],
   "source": [
    "print(\"My first name is {} and my last name is {}\".format(\"Atul\",\"Patel\"))"
   ]
  },
  {
   "cell_type": "code",
   "execution_count": 3,
   "metadata": {},
   "outputs": [
    {
     "name": "stdout",
     "output_type": "stream",
     "text": [
      "My first name is Atul and my last name is Patel\n"
     ]
    }
   ],
   "source": [
    "print(\"My first name is {first} and my last name is {last}\".format(first=\"Atul\",last=\"Patel\"))"
   ]
  },
  {
   "cell_type": "code",
   "execution_count": 4,
   "metadata": {},
   "outputs": [],
   "source": [
    " my_str = \"Atul Patel\""
   ]
  },
  {
   "cell_type": "code",
   "execution_count": 5,
   "metadata": {},
   "outputs": [],
   "source": [
    "emp_list = list()"
   ]
  },
  {
   "cell_type": "code",
   "execution_count": 6,
   "metadata": {},
   "outputs": [
    {
     "data": {
      "text/plain": [
       "list"
      ]
     },
     "execution_count": 6,
     "metadata": {},
     "output_type": "execute_result"
    }
   ],
   "source": [
    "type(emp_list)"
   ]
  },
  {
   "cell_type": "code",
   "execution_count": 7,
   "metadata": {},
   "outputs": [],
   "source": [
    "list1 = [1,2,3,4,\"Red\",\"Yellow\"]"
   ]
  },
  {
   "cell_type": "code",
   "execution_count": 8,
   "metadata": {},
   "outputs": [
    {
     "name": "stdout",
     "output_type": "stream",
     "text": [
      "[1, 2, 3, 4, 'Red', 'Yellow', 'Java']\n",
      "7\n"
     ]
    }
   ],
   "source": [
    "list1.append(\"Java\")\n",
    "print(list1)\n",
    "print(len(list1))"
   ]
  },
  {
   "cell_type": "code",
   "execution_count": 9,
   "metadata": {},
   "outputs": [
    {
     "name": "stdout",
     "output_type": "stream",
     "text": [
      "[1, 2, 45, 4, 'Red', 'Yellow', 'Java']\n"
     ]
    }
   ],
   "source": [
    "list1[2] = 45\n",
    "print(list1)"
   ]
  },
  {
   "cell_type": "code",
   "execution_count": 10,
   "metadata": {},
   "outputs": [
    {
     "name": "stdout",
     "output_type": "stream",
     "text": [
      "[1, 2, 45, 4, 'Red', 'Yellow', 'Java', ['Rahul', 67, 'Kohli', 89]]\n"
     ]
    }
   ],
   "source": [
    "# add list inside list\n",
    "list1.append([\"Rahul\",67,\"Kohli\",89])\n",
    "print(list1)"
   ]
  },
  {
   "cell_type": "code",
   "execution_count": 11,
   "metadata": {},
   "outputs": [
    {
     "name": "stdout",
     "output_type": "stream",
     "text": [
      "[1, 2, 45, ['Ram', 76], 4, 'Red', 'Yellow', 'Java', ['Rahul', 67, 'Kohli', 89]]\n"
     ]
    }
   ],
   "source": [
    "# use insert function to add value in list as per indexing\n",
    "# If I want to add value 67 at index 3\n",
    "list1.insert(3,[\"Ram\",76])\n",
    "print(list1)"
   ]
  },
  {
   "cell_type": "code",
   "execution_count": 12,
   "metadata": {},
   "outputs": [
    {
     "name": "stdout",
     "output_type": "stream",
     "text": [
      "[1, 2, 3, 4, 'Red', 'Yellow', 'Ravi', 56]\n"
     ]
    }
   ],
   "source": [
    "# use extend function to extend the list e.g If you add list in list then this will be added as separate elements in list.\n",
    "list1 = [1,2,3,4,\"Red\",\"Yellow\"]\n",
    "# lets added below list in list1\n",
    "added_list = [\"Ravi\",56]\n",
    "list1.extend(added_list)\n",
    "print(list1)"
   ]
  },
  {
   "cell_type": "code",
   "execution_count": 13,
   "metadata": {},
   "outputs": [
    {
     "name": "stdout",
     "output_type": "stream",
     "text": [
      "39\n"
     ]
    }
   ],
   "source": [
    "# sum of list elements having int and str--will get error\n",
    "#list1 = [1,2,3,4,\"Red\",\"Yellow\"]\n",
    "#print(sum(list1))\n",
    "list2 = [1,4,6,8,9,11]\n",
    "print(sum(list2))\n"
   ]
  },
  {
   "cell_type": "code",
   "execution_count": 14,
   "metadata": {},
   "outputs": [
    {
     "name": "stdout",
     "output_type": "stream",
     "text": [
      "[1, 2, 3, 4, 'Red']\n",
      "[1, 2, 4, 'Red', 'Yellow']\n"
     ]
    }
   ],
   "source": [
    "# remove elements in list\n",
    "list1 = [1,2,3,4,\"Red\",\"Yellow\"]\n",
    "list1.pop() #  remove last element\n",
    "print(list1)\n",
    "list1 = [1,2,3,4,\"Red\",\"Yellow\"]\n",
    "list1.pop(2)  # want to remove element which has index = 2\n",
    "print(list1)"
   ]
  },
  {
   "cell_type": "code",
   "execution_count": 15,
   "metadata": {},
   "outputs": [
    {
     "name": "stdout",
     "output_type": "stream",
     "text": [
      "3\n",
      "12\n",
      "2\n",
      "7\n",
      "8\n"
     ]
    }
   ],
   "source": [
    "list2 = [1,1,5,2,2,3,4,5,5,6,7,8]\n",
    "print(list2.count(5))\n",
    "print(len(list2))\n",
    "print(list2.index(5))\n",
    "print(list2.index(5,3,10))\n",
    "print(list2.index(5,8,10))"
   ]
  },
  {
   "cell_type": "code",
   "execution_count": 16,
   "metadata": {},
   "outputs": [
    {
     "name": "stdout",
     "output_type": "stream",
     "text": [
      "1\n",
      "8\n"
     ]
    }
   ],
   "source": [
    "print(min(list2))\n",
    "print(max(list2))"
   ]
  },
  {
   "cell_type": "code",
   "execution_count": 17,
   "metadata": {},
   "outputs": [
    {
     "name": "stdout",
     "output_type": "stream",
     "text": [
      "{1, 2, 3, 4, 'Java', 'Yellow', 'Red'}\n",
      "{1, 2, 3, 4, 'Java', 'Yellow', 'Red'}\n"
     ]
    }
   ],
   "source": [
    "# set -unordered and not have duplicate and does not support indexing\n",
    "set1 = {1, 2, 3, 4, 'Red', 'Yellow', 'Java'}\n",
    "print(set1)\n",
    "# check duplicate value-- Only print non Duplicate value\n",
    "set2 = {1, 2, 3, 4,4, 'Red', 'Java','Red', 'Yellow'}\n",
    "print(set2)"
   ]
  },
  {
   "cell_type": "code",
   "execution_count": 18,
   "metadata": {},
   "outputs": [
    {
     "ename": "TypeError",
     "evalue": "'set' object is not subscriptable",
     "output_type": "error",
     "traceback": [
      "\u001b[1;31m---------------------------------------------------------------------------\u001b[0m",
      "\u001b[1;31mTypeError\u001b[0m                                 Traceback (most recent call last)",
      "\u001b[1;32m<ipython-input-18-e1f2c4642e20>\u001b[0m in \u001b[0;36m<module>\u001b[1;34m\u001b[0m\n\u001b[0;32m      1\u001b[0m \u001b[1;31m# set not support indexing\u001b[0m\u001b[1;33m\u001b[0m\u001b[1;33m\u001b[0m\u001b[1;33m\u001b[0m\u001b[0m\n\u001b[1;32m----> 2\u001b[1;33m \u001b[0mprint\u001b[0m\u001b[1;33m(\u001b[0m\u001b[0mset2\u001b[0m\u001b[1;33m[\u001b[0m\u001b[1;36m2\u001b[0m\u001b[1;33m]\u001b[0m\u001b[1;33m)\u001b[0m\u001b[1;33m\u001b[0m\u001b[1;33m\u001b[0m\u001b[0m\n\u001b[0m",
      "\u001b[1;31mTypeError\u001b[0m: 'set' object is not subscriptable"
     ]
    }
   ],
   "source": [
    "# set not support indexing\n",
    "print(set2[2])"
   ]
  },
  {
   "cell_type": "code",
   "execution_count": null,
   "metadata": {},
   "outputs": [],
   "source": [
    "# add elemnts in set\n",
    "set2.add(\"Green\")\n",
    "print(set2)"
   ]
  },
  {
   "cell_type": "code",
   "execution_count": 19,
   "metadata": {},
   "outputs": [
    {
     "name": "stdout",
     "output_type": "stream",
     "text": [
      "{}\n"
     ]
    },
    {
     "data": {
      "text/plain": [
       "dict"
      ]
     },
     "execution_count": 19,
     "metadata": {},
     "output_type": "execute_result"
    }
   ],
   "source": [
    "# Dictionary is a unordered, changeable and Indexed. have curly brackets and key: value pairs.\n",
    "dict1 = {} # empty dictonary\n",
    "print(dict1)\n",
    "type(dict1)"
   ]
  },
  {
   "cell_type": "code",
   "execution_count": 20,
   "metadata": {},
   "outputs": [
    {
     "name": "stdout",
     "output_type": "stream",
     "text": [
      "{1, 2, 3, 4, 'yellow'}\n"
     ]
    },
    {
     "data": {
      "text/plain": [
       "set"
      ]
     },
     "execution_count": 20,
     "metadata": {},
     "output_type": "execute_result"
    }
   ],
   "source": [
    "# Difference bw Dict and set\n",
    "dict2 =  {1,2,3,4,\"yellow\"}  \n",
    "print(dict2)\n",
    "type(dict2)  # dict with without key and value is  set , see type of dict2"
   ]
  },
  {
   "cell_type": "code",
   "execution_count": 21,
   "metadata": {},
   "outputs": [
    {
     "data": {
      "text/plain": [
       "array([1, 3, 5, 6, 8])"
      ]
     },
     "execution_count": 21,
     "metadata": {},
     "output_type": "execute_result"
    }
   ],
   "source": [
    "# Array- It is a data structure that sore values of same data type and that is the main difference array and dict\n",
    "import numpy as np\n",
    "list3 = [1,3,5,6,8]\n",
    "np_array1 = np.array(list3)\n",
    "np_array1"
   ]
  },
  {
   "cell_type": "code",
   "execution_count": 22,
   "metadata": {},
   "outputs": [
    {
     "name": "stdout",
     "output_type": "stream",
     "text": [
      "<class 'numpy.ndarray'>\n",
      "(5,)\n"
     ]
    }
   ],
   "source": [
    "print(type(np_array1))\n",
    "print(np_array1.shape)"
   ]
  },
  {
   "cell_type": "code",
   "execution_count": 23,
   "metadata": {},
   "outputs": [
    {
     "name": "stdout",
     "output_type": "stream",
     "text": [
      "[[1 2 5 6 8]\n",
      " [2 4 7 5 9]\n",
      " [3 5 8 9 2]]\n",
      "<class 'numpy.ndarray'>\n",
      "(3, 5)\n"
     ]
    }
   ],
   "source": [
    "list4 = [1,2,5,6,8]\n",
    "list5 = [2,4,7,5,9]\n",
    "list6 = [3,5,8,9,2]\n",
    "np_array2 = np.array([list4,list5,list6])\n",
    "print(np_array2)\n",
    "print(type(np_array2))\n",
    "print(np_array2.shape)"
   ]
  },
  {
   "cell_type": "code",
   "execution_count": 24,
   "metadata": {},
   "outputs": [
    {
     "name": "stdout",
     "output_type": "stream",
     "text": [
      "[[1 2 5 6 8]\n",
      " [2 4 7 5 9]\n",
      " [3 5 8 9 2]]\n",
      "[[1 2 5 6 8 2 4 7 5 9 3 5 8 9 2]]\n"
     ]
    }
   ],
   "source": [
    "# reshape the array\n",
    "np_array3 = np_array2.reshape(1,15)\n",
    "print(np_array2)\n",
    "print(np_array3)"
   ]
  },
  {
   "cell_type": "code",
   "execution_count": 25,
   "metadata": {},
   "outputs": [
    {
     "name": "stdout",
     "output_type": "stream",
     "text": [
      "[[7]]\n"
     ]
    }
   ],
   "source": [
    "# Indexing\n",
    "print(np_array2[1:2,2:3])"
   ]
  },
  {
   "cell_type": "code",
   "execution_count": 26,
   "metadata": {},
   "outputs": [
    {
     "name": "stdout",
     "output_type": "stream",
     "text": [
      "[0 1 2 3 4 5 6 7 8 9]\n"
     ]
    }
   ],
   "source": [
    "np_array4 = np.arange(0,10)\n",
    "print(np_array4)"
   ]
  },
  {
   "cell_type": "code",
   "execution_count": 27,
   "metadata": {},
   "outputs": [
    {
     "name": "stdout",
     "output_type": "stream",
     "text": [
      "[0 2 4 6 8]\n",
      "<class 'numpy.ndarray'>\n",
      "(5,)\n"
     ]
    }
   ],
   "source": [
    "np_array4 = np.arange(0,10,2)\n",
    "print(np_array4)\n",
    "print(type(np_array4))\n",
    "print(np_array4.shape)"
   ]
  },
  {
   "cell_type": "code",
   "execution_count": 28,
   "metadata": {},
   "outputs": [
    {
     "name": "stdout",
     "output_type": "stream",
     "text": [
      "[0 2 4 6 8]\n",
      "[100 100 100   6   8]\n"
     ]
    }
   ],
   "source": [
    "#Boradcasting\n",
    "print(np_array4)\n",
    "np_array4[:3] = 100\n",
    "print(np_array4)"
   ]
  },
  {
   "cell_type": "code",
   "execution_count": 29,
   "metadata": {},
   "outputs": [
    {
     "name": "stdout",
     "output_type": "stream",
     "text": [
      "[ 1.          1.18367347  1.36734694  1.55102041  1.73469388  1.91836735\n",
      "  2.10204082  2.28571429  2.46938776  2.65306122  2.83673469  3.02040816\n",
      "  3.20408163  3.3877551   3.57142857  3.75510204  3.93877551  4.12244898\n",
      "  4.30612245  4.48979592  4.67346939  4.85714286  5.04081633  5.2244898\n",
      "  5.40816327  5.59183673  5.7755102   5.95918367  6.14285714  6.32653061\n",
      "  6.51020408  6.69387755  6.87755102  7.06122449  7.24489796  7.42857143\n",
      "  7.6122449   7.79591837  7.97959184  8.16326531  8.34693878  8.53061224\n",
      "  8.71428571  8.89795918  9.08163265  9.26530612  9.44897959  9.63265306\n",
      "  9.81632653 10.        ]\n"
     ]
    }
   ],
   "source": [
    "# arrange number equally divided\n",
    "np_array5 = np.linspace(1,10,num = 50)\n",
    "print(np_array5)"
   ]
  },
  {
   "cell_type": "code",
   "execution_count": 30,
   "metadata": {},
   "outputs": [
    {
     "name": "stdout",
     "output_type": "stream",
     "text": [
      "[ 1  2  3  4  5  6  7  8  9 10]\n",
      "[ 1  2  3  4  5  6  7  8  9 10]\n",
      "[  1   2   3 100 100 100 100 100 100 100]\n",
      "[  1   2   3 100 100 100 100 100 100 100]\n"
     ]
    }
   ],
   "source": [
    "# Copy\n",
    "a = np.array([1,2,3,4,5,6,7,8,9,10])\n",
    "print(a)\n",
    "# assign new vairable b \n",
    "b = a  \n",
    "print(b)\n",
    "b[3:] = 100\n",
    "print(b)\n",
    "print(a)\n"
   ]
  },
  {
   "cell_type": "code",
   "execution_count": 31,
   "metadata": {},
   "outputs": [
    {
     "name": "stdout",
     "output_type": "stream",
     "text": [
      "[ 1  2  3  4  5  6  7  8  9 10]\n",
      "[ 1  2  3  4  5  6  7  8  9 10]\n",
      "[  1   2   3 100 100 100 100 100 100 100]\n",
      "[ 1  2  3  4  5  6  7  8  9 10]\n"
     ]
    }
   ],
   "source": [
    "# in the above eg you can see that \n",
    "#we are using same memory cell to store the value ig we change in any variable it reflect on both varible\n",
    "# we use copy function\n",
    "# Copy\n",
    "a = np.array([1,2,3,4,5,6,7,8,9,10])\n",
    "print(a)\n",
    "# assign new vairable b \n",
    "b = a.copy() # assign a new memory cell\n",
    "print(b)\n",
    "b[3:] = 100\n",
    "print(b)\n",
    "print(a)"
   ]
  },
  {
   "cell_type": "code",
   "execution_count": 32,
   "metadata": {},
   "outputs": [
    {
     "name": "stdout",
     "output_type": "stream",
     "text": [
      "[ 1  2  3  4  5  6  7  8  9 10]\n"
     ]
    },
    {
     "data": {
      "text/plain": [
       "array([ True,  True, False, False, False, False, False, False, False,\n",
       "       False])"
      ]
     },
     "execution_count": 32,
     "metadata": {},
     "output_type": "execute_result"
    }
   ],
   "source": [
    "# some conditions are very usefull during EDA\n",
    "print(a)\n",
    "val = 2\n",
    "a < 3"
   ]
  },
  {
   "cell_type": "code",
   "execution_count": 33,
   "metadata": {},
   "outputs": [
    {
     "name": "stdout",
     "output_type": "stream",
     "text": [
      "[ 1  2  3  4  5  6  7  8  9 10]\n",
      "[ 2  4  6  8 10 12 14 16 18 20]\n",
      "[ 3  4  5  6  7  8  9 10 11 12]\n",
      "[0.5 1.  1.5 2.  2.5 3.  3.5 4.  4.5 5. ]\n",
      "[-1  0  1  2  3  4  5  6  7  8]\n"
     ]
    }
   ],
   "source": [
    "# arthmetic operation\n",
    "print(a)\n",
    "print(a * 2)\n",
    "print(a + 2)\n",
    "print(a / 2)\n",
    "print(a - 2)"
   ]
  },
  {
   "cell_type": "code",
   "execution_count": 34,
   "metadata": {},
   "outputs": [
    {
     "name": "stdout",
     "output_type": "stream",
     "text": [
      "[ 1  2  3  4  5  6  7  8  9 10]\n",
      "[ 5  6  7  8  9 10]\n",
      "[15 18 21 24 27 30]\n"
     ]
    }
   ],
   "source": [
    "# want to show only those elements which are > 4 inan array\n",
    "print(a)\n",
    "print(a[a>4])\n",
    "# show only elements > 4 and then multiply by 3\n",
    "print(a[a>4]* 3)"
   ]
  },
  {
   "cell_type": "code",
   "execution_count": 35,
   "metadata": {},
   "outputs": [
    {
     "name": "stdout",
     "output_type": "stream",
     "text": [
      "[[1 2 5 6 8]\n",
      " [2 4 7 5 9]\n",
      " [3 5 8 9 2]]\n",
      "[5 6 8 7 5 9 5 8 9]\n",
      "(9,)\n",
      "[15 18 24 21 15 27 15 24 27]\n",
      "(9,)\n"
     ]
    }
   ],
   "source": [
    "# want to show only those elements which are > 4 inan array\n",
    "print(np_array2)\n",
    "np_array6 = np_array2[np_array2>4]\n",
    "print(np_array6)\n",
    "print(np_array6.shape)\n",
    "# show only elements > 4 and then multiply by 3\n",
    "np_array7 = np_array6 * 3\n",
    "print(np_array7)\n",
    "print(np_array7.shape)"
   ]
  },
  {
   "cell_type": "code",
   "execution_count": 36,
   "metadata": {},
   "outputs": [
    {
     "data": {
      "text/plain": [
       "array([[ 1,  2,  3],\n",
       "       [ 4,  5,  6],\n",
       "       [ 7,  8,  9],\n",
       "       [10, 11, 12],\n",
       "       [13, 14, 15]])"
      ]
     },
     "execution_count": 36,
     "metadata": {},
     "output_type": "execute_result"
    }
   ],
   "source": [
    "# Create an array and reshape\n",
    "np.arange(1,16).reshape(5,3)"
   ]
  },
  {
   "cell_type": "code",
   "execution_count": 37,
   "metadata": {},
   "outputs": [
    {
     "name": "stdout",
     "output_type": "stream",
     "text": [
      "[1. 1. 1. 1. 1.]\n",
      "[[1 1 1 1 1 1]\n",
      " [1 1 1 1 1 1]]\n",
      "[[1. 1. 1. 1. 1. 1.]\n",
      " [1. 1. 1. 1. 1. 1.]]\n"
     ]
    }
   ],
   "source": [
    "# Create array with all one value\n",
    "print(np.ones(5))\n",
    "print(np.ones((2,6),dtype = int))\n",
    "print(np.ones((2,6),dtype = float))"
   ]
  },
  {
   "cell_type": "code",
   "execution_count": 38,
   "metadata": {},
   "outputs": [
    {
     "data": {
      "text/plain": [
       "array([[0.19619747, 0.73853883, 0.59436993],\n",
       "       [0.5634917 , 0.43891838, 0.53370494],\n",
       "       [0.38543125, 0.52116508, 0.16773555]])"
      ]
     },
     "execution_count": 38,
     "metadata": {},
     "output_type": "execute_result"
    }
   ],
   "source": [
    "# Random distribution--Create array of given shape and populate it with random sample from a uniform distribition\n",
    "# Uniform distribution -- value between 0 and 1\n",
    "np.random.rand(3,3)"
   ]
  },
  {
   "cell_type": "code",
   "execution_count": 39,
   "metadata": {},
   "outputs": [
    {
     "name": "stdout",
     "output_type": "stream",
     "text": [
      "[[-0.25465652  1.65462786  1.34330082  0.19502989]\n",
      " [ 0.02892318 -0.61933242 -0.16206634 -0.04311169]\n",
      " [-0.55296286  1.55933637 -0.74154697  1.28575174]\n",
      " [-2.24890982 -0.78419354 -0.17321333  0.85394472]]\n"
     ]
    }
   ],
   "source": [
    "# Return a sample (or samples) from the \"standard normal\" \n",
    "np_array8 = np.random.randn(4,4)\n",
    "print(np_array8)"
   ]
  },
  {
   "cell_type": "code",
   "execution_count": 40,
   "metadata": {},
   "outputs": [],
   "source": [
    "import numpy as np\n",
    "import seaborn as sns\n",
    "import pandas as pd"
   ]
  },
  {
   "cell_type": "code",
   "execution_count": 41,
   "metadata": {},
   "outputs": [
    {
     "data": {
      "text/plain": [
       "<matplotlib.axes._subplots.AxesSubplot at 0x19a000e64c8>"
      ]
     },
     "execution_count": 41,
     "metadata": {},
     "output_type": "execute_result"
    },
    {
     "data": {
      "image/png": "[encoded data removed]",
      "text/plain": [
       "<Figure size 432x288 with 1 Axes>"
      ]
     },
     "metadata": {
      "needs_background": "light"
     },
     "output_type": "display_data"
    }
   ],
   "source": [
    "sns.distplot(pd.DataFrame(np_array8.reshape(16,1)))\n",
    "# you can see bell curve and this is the main property of gussian distribution"
   ]
  },
  {
   "cell_type": "code",
   "execution_count": 42,
   "metadata": {},
   "outputs": [
    {
     "name": "stdout",
     "output_type": "stream",
     "text": [
      "[37 92]\n",
      "[79 57 58  6 59 93 12  6 49 88 42 46 28 66 63 65 61 98 42 86]\n",
      "[97 22 44 90 51 23 37 30]\n",
      "[[31 19 25 45 99]\n",
      " [55 37 38 10 51]]\n"
     ]
    }
   ],
   "source": [
    "print(np.random.randint(1,100,2))\n",
    "print(np.random.randint(1,100,20))\n",
    "print(np.random.randint(1,100,8))\n",
    "print(np.random.randint(1,100,10).reshape(2,5))"
   ]
  },
  {
   "cell_type": "code",
   "execution_count": 43,
   "metadata": {},
   "outputs": [
    {
     "name": "stdout",
     "output_type": "stream",
     "text": [
      "[[0.14282075 0.13248432 0.17870333]\n",
      " [0.09871295 0.18327189 0.32278986]\n",
      " [0.94175376 0.35476858 0.30027858]]\n",
      "[[0.0126636  0.02618838 0.48807432 0.5846908  0.87772816]]\n"
     ]
    }
   ],
   "source": [
    "# Return random floats in the half-open interval [0.0, 1.0).\n",
    "print(np.random.random_sample((3,3)))\n",
    "print(np.random.random_sample((1,5)))"
   ]
  },
  {
   "cell_type": "code",
   "execution_count": 44,
   "metadata": {},
   "outputs": [],
   "source": [
    "# DataFrame\n",
    "import numpy as np\n",
    "import pandas as pd"
   ]
  },
  {
   "cell_type": "code",
   "execution_count": 45,
   "metadata": {},
   "outputs": [
    {
     "name": "stdout",
     "output_type": "stream",
     "text": [
      "    C1  C2  C3  C4\n",
      "R1   0   1   2   3\n",
      "R2   4   5   6   7\n",
      "R3   8   9  10  11\n",
      "R4  12  13  14  15\n",
      "R5  16  17  18  19\n",
      "R6  20  21  22  23\n",
      "<class 'pandas.core.frame.DataFrame'>\n"
     ]
    }
   ],
   "source": [
    "df1 = pd.DataFrame(np.arange(0,24).reshape(6,4),index=[\"R1\",\"R2\",\"R3\",\"R4\",\"R5\",\"R6\"],columns=[\"C1\",\"C2\",\"C3\",\"C4\"])\n",
    "print(df1)\n",
    "print(type(df1))\n",
    "#print(df1.type) # will show error -- 'DataFrame' object has no attribute 'type' so need to convert in array"
   ]
  },
  {
   "cell_type": "code",
   "execution_count": 46,
   "metadata": {},
   "outputs": [
    {
     "name": "stdout",
     "output_type": "stream",
     "text": [
      "    C1  C2  C3  C4\n",
      "R1   0   1   2   3\n",
      "R2   4   5   6   7\n",
      "R3   8   9  10  11\n",
      "R4  12  13  14  15\n",
      "R5  16  17  18  19\n",
      "    C1  C2  C3  C4\n",
      "R1   0   1   2   3\n",
      "R2   4   5   6   7\n",
      "R3   8   9  10  11\n"
     ]
    }
   ],
   "source": [
    "print(df1.head()) # default will show 5 rows\n",
    "print(df1.head(3)) # mention required value to show Row- eg = 3"
   ]
  },
  {
   "cell_type": "code",
   "execution_count": 47,
   "metadata": {},
   "outputs": [],
   "source": [
    "# export created Dataframe in CSV format in local system\n",
    "df1.to_csv(\"test_df1.csv\")"
   ]
  },
  {
   "cell_type": "code",
   "execution_count": 48,
   "metadata": {},
   "outputs": [
    {
     "name": "stdout",
     "output_type": "stream",
     "text": [
      "C1    0\n",
      "C2    1\n",
      "C3    2\n",
      "C4    3\n",
      "Name: R1, dtype: int32\n",
      "<class 'pandas.core.series.Series'>\n"
     ]
    }
   ],
   "source": [
    "# Accessing the element\n",
    "# 1. .loc(Normal Location) and 2. .iloc(Index Location)\n",
    "print(df1.loc[\"R1\"])\n",
    "print(type(df1.loc[\"R1\"]))\n"
   ]
  },
  {
   "cell_type": "code",
   "execution_count": 49,
   "metadata": {},
   "outputs": [
    {
     "name": "stdout",
     "output_type": "stream",
     "text": [
      "    C1\n",
      "R1   0\n",
      "<class 'pandas.core.frame.DataFrame'>\n"
     ]
    }
   ],
   "source": [
    "# compare Dataframe and Data series , \n",
    "# Dataframe is a combination of more than and equal one columns and one row and series is a single column or single row\n",
    "print(df1.iloc[:1,:1])\n",
    "print(type(df1.iloc[1:,1:]))"
   ]
  },
  {
   "cell_type": "code",
   "execution_count": 50,
   "metadata": {},
   "outputs": [
    {
     "name": "stdout",
     "output_type": "stream",
     "text": [
      "   C1  C2  C3  C4\n",
      "0   0   1   2   3\n",
      "1   4   5   6   7\n",
      "2   8   9  10  11\n",
      "3  12  13  14  15\n",
      "4  16  17  18  19\n",
      "5  20  21  22  23\n"
     ]
    }
   ],
   "source": [
    "# Difference between loc and iloc\n",
    "# df2 = pd.DataFrame(np.arange(0,24).reshape(6,4),index=[\"R1\",\"R2\",\"R3\",\"R4\",\"R5\",\"R6\"],columns=[\"C1\",\"C2\",\"C3\",\"C4\"])\n",
    "# print(df2)\n",
    "#print(type(df1))\n",
    "\n",
    "# Difference between loc and iloc\n",
    "df2 = pd.DataFrame(np.arange(0,24).reshape(6,4),columns=[\"C1\",\"C2\",\"C3\",\"C4\"])\n",
    "print(df2)\n",
    "#print(type(df1))"
   ]
  },
  {
   "cell_type": "code",
   "execution_count": 51,
   "metadata": {},
   "outputs": [
    {
     "data": {
      "text/plain": [
       "6"
      ]
     },
     "execution_count": 51,
     "metadata": {},
     "output_type": "execute_result"
    }
   ],
   "source": [
    "# To reshape the dataframe\n",
    "df2.shape[0]"
   ]
  },
  {
   "cell_type": "code",
   "execution_count": 52,
   "metadata": {},
   "outputs": [
    {
     "name": "stdout",
     "output_type": "stream",
     "text": [
      "R1     0\n",
      "R2     4\n",
      "R3     8\n",
      "R4    12\n",
      "R5    16\n",
      "R6    20\n",
      "Name: C1, dtype: int32\n",
      "    C1  C2\n",
      "R1   0   1\n",
      "R2   4   5\n",
      "R3   8   9\n",
      "R4  12  13\n",
      "R5  16  17\n",
      "R6  20  21\n",
      "C1    0\n",
      "C2    1\n",
      "C3    2\n",
      "C4    3\n",
      "Name: R1, dtype: int32\n",
      "    C1  C2  C3  C4\n",
      "R1   0   1   2   3\n",
      "R2   4   5   6   7\n"
     ]
    }
   ],
   "source": [
    "# indexing with the help of column and row name\n",
    "print(df1[\"C1\"])\n",
    "print(df1[[\"C1\",\"C2\"]])\n",
    "print(df1.loc[\"R1\"])\n",
    "print(df1.loc[[\"R1\",\"R2\"]])"
   ]
  },
  {
   "cell_type": "code",
   "execution_count": 53,
   "metadata": {},
   "outputs": [
    {
     "name": "stdout",
     "output_type": "stream",
     "text": [
      "C1    0\n",
      "C2    1\n",
      "C3    2\n",
      "C4    3\n",
      "Name: 0, dtype: int32\n",
      "C1    0\n",
      "C2    1\n",
      "C3    2\n",
      "C4    3\n",
      "Name: 0, dtype: int32\n"
     ]
    }
   ],
   "source": [
    "# Print row of the dataframe using loc and iloc using df2\n",
    "print(df2.loc[0])\n",
    "print(df2.iloc[0])\n",
    "\n",
    "# getting same value "
   ]
  },
  {
   "cell_type": "code",
   "execution_count": 54,
   "metadata": {},
   "outputs": [
    {
     "name": "stdout",
     "output_type": "stream",
     "text": [
      "[2 3 5 1 0 4]\n",
      "<class 'numpy.ndarray'>\n"
     ]
    }
   ],
   "source": [
    "# lets shuffle the data and then print the row \n",
    "import numpy as np\n",
    "import pandas as pd\n",
    "df3 = np.random.permutation(df2.shape[0])\n",
    "print(df3)\n",
    "print(type(df3))"
   ]
  },
  {
   "cell_type": "code",
   "execution_count": 55,
   "metadata": {},
   "outputs": [
    {
     "name": "stdout",
     "output_type": "stream",
     "text": [
      "   C1  C2  C3  C4\n",
      "0   0   1   2   3\n",
      "1   4   5   6   7\n",
      "2   8   9  10  11\n",
      "3  12  13  14  15\n",
      "4  16  17  18  19\n",
      "5  20  21  22  23\n",
      "   C1  C2  C3  C4\n",
      "2   8   9  10  11\n",
      "3  12  13  14  15\n",
      "5  20  21  22  23\n",
      "1   4   5   6   7\n",
      "0   0   1   2   3\n",
      "4  16  17  18  19\n"
     ]
    }
   ],
   "source": [
    "# shuffle the row position of dataframe df2\n",
    "print(df2)\n",
    "df4 = df2.iloc[df3]\n",
    "print(df4)"
   ]
  },
  {
   "cell_type": "code",
   "execution_count": 56,
   "metadata": {},
   "outputs": [
    {
     "name": "stdout",
     "output_type": "stream",
     "text": [
      "C1    4\n",
      "C2    5\n",
      "C3    6\n",
      "C4    7\n",
      "Name: 1, dtype: int32\n",
      "C1    4\n",
      "C2    5\n",
      "C3    6\n",
      "C4    7\n",
      "Name: 1, dtype: int32\n",
      "C1    4\n",
      "C2    5\n",
      "C3    6\n",
      "C4    7\n",
      "Name: 1, dtype: int32\n",
      "C1    12\n",
      "C2    13\n",
      "C3    14\n",
      "C4    15\n",
      "Name: 3, dtype: int32\n"
     ]
    }
   ],
   "source": [
    "# after shuffle compare loc(work on Row or column value) and iloc(work on indexing)\n",
    "print(df2.loc[1])\n",
    "print(df2.iloc[1])\n",
    "# after shuffle\n",
    "print(df4.loc[1])\n",
    "print(df4.iloc[1])\n",
    "# to remember iloc and loc: Even after shuffling the data \n",
    "# to access with index number use loc, to access the elements through indexing after shuffling, use iloc"
   ]
  },
  {
   "cell_type": "code",
   "execution_count": 57,
   "metadata": {},
   "outputs": [
    {
     "name": "stdout",
     "output_type": "stream",
     "text": [
      "   C1  C2  C3  C4\n",
      "0   0   1   2   3\n",
      "1   4   5   6   7\n",
      "2   8   9  10  11\n",
      "3  12  13  14  15\n",
      "4  16  17  18  19\n",
      "5  20  21  22  23\n",
      "<class 'pandas.core.frame.DataFrame'>\n",
      "[[ 0  1  2  3]\n",
      " [ 4  5  6  7]\n",
      " [ 8  9 10 11]\n",
      " [12 13 14 15]\n",
      " [16 17 18 19]\n",
      " [20 21 22 23]]\n",
      "<class 'numpy.ndarray'>\n",
      "(6, 4)\n"
     ]
    }
   ],
   "source": [
    "print(df2)\n",
    "print(type(df2))\n",
    "# convert Dataframe into Array\n",
    "print(df2.values)\n",
    "print(type(df2.values))\n",
    "print(df2.values.shape)"
   ]
  },
  {
   "cell_type": "code",
   "execution_count": 58,
   "metadata": {},
   "outputs": [
    {
     "name": "stdout",
     "output_type": "stream",
     "text": [
      "   C1  C2  C3\n",
      "0   1   5   1\n",
      "1   2   6   3\n",
      "2   2   7   4\n",
      "3   4   8   5\n",
      "[1 2 4]\n"
     ]
    }
   ],
   "source": [
    "# show how many unique value we have\n",
    "df5 = pd.DataFrame({\"C1\":[1,2,2,4],\"C2\":[5,6,7,8],\"C3\":[1,3,4,5]})\n",
    "print(df5)\n",
    "print(df5[\"C1\"].unique())"
   ]
  },
  {
   "cell_type": "code",
   "execution_count": 59,
   "metadata": {},
   "outputs": [
    {
     "name": "stdout",
     "output_type": "stream",
     "text": [
      "   C1  C2  C3\n",
      "0   1   5   1\n",
      "1   2   6   3\n",
      "2   2   7   4\n",
      "3   4   8   5\n",
      "Check unique value in column C1\n",
      "2    2\n",
      "1    1\n",
      "4    1\n",
      "Name: C1, dtype: int64\n"
     ]
    }
   ],
   "source": [
    "# check elements count present in DF\n",
    "print(df5)\n",
    "print(\"Check unique value in column C1\")\n",
    "print(df5[\"C1\"].value_counts())"
   ]
  },
  {
   "cell_type": "code",
   "execution_count": 60,
   "metadata": {},
   "outputs": [
    {
     "name": "stdout",
     "output_type": "stream",
     "text": [
      "0             2\n",
      "1             3\n",
      "2           NaN\n",
      "3             7\n",
      "4    The Hobbit\n",
      "dtype: object\n",
      "0    False\n",
      "1    False\n",
      "2     True\n",
      "3    False\n",
      "4    False\n",
      "dtype: bool\n",
      "   C1  C2   C3\n",
      "0   1   5  NaN\n",
      "1   2   6  NaN\n",
      "2   2   7  4.0\n",
      "3   4   8  5.0\n",
      "      C1     C2     C3\n",
      "0  False  False   True\n",
      "1  False  False   True\n",
      "2  False  False  False\n",
      "3  False  False  False\n",
      "C1    0\n",
      "C2    0\n",
      "C3    2\n",
      "dtype: int64\n"
     ]
    }
   ],
   "source": [
    "# Create Dataseries which has null value\n",
    "ds1 = pd.Series([2,3,np.nan,7,\"The Hobbit\"])\n",
    "print(ds1)\n",
    "print(ds1.isnull())\n",
    "df6 = df5.replace(df5.iloc[0:2,2:3],np.nan)\n",
    "print(df6)\n",
    "print(df6.isnull())\n",
    "# Check null value count\n",
    "print(df6.isnull().sum())"
   ]
  },
  {
   "cell_type": "code",
   "execution_count": 61,
   "metadata": {},
   "outputs": [],
   "source": [
    "import numpy as np\n",
    "import pandas as pd"
   ]
  },
  {
   "cell_type": "code",
   "execution_count": 62,
   "metadata": {},
   "outputs": [
    {
     "name": "stdout",
     "output_type": "stream",
     "text": [
      "   ID       y  X0 X1  X2 X3 X4 X5 X6 X8  ...  X375  X376  X377  X378  X379  \\\n",
      "0   0  130.81   k  v  at  a  d  u  j  o  ...     0     0     1     0     0   \n",
      "1   6   88.53   k  t  av  e  d  y  l  o  ...     1     0     0     0     0   \n",
      "2   7   76.26  az  w   n  c  d  x  j  x  ...     0     0     0     0     0   \n",
      "3   9   80.62  az  t   n  f  d  x  l  e  ...     0     0     0     0     0   \n",
      "4  13   78.02  az  v   n  f  d  h  d  n  ...     0     0     0     0     0   \n",
      "\n",
      "   X380  X382  X383  X384  X385  \n",
      "0     0     0     0     0     0  \n",
      "1     0     0     0     0     0  \n",
      "2     0     1     0     0     0  \n",
      "3     0     0     0     0     0  \n",
      "4     0     0     0     0     0  \n",
      "\n",
      "[5 rows x 378 columns]\n"
     ]
    }
   ],
   "source": [
    "# read csv file\n",
    "df7 = pd.read_csv(\"C:\\E\\Data_Science\\KrishNaik_Youtube\\ML\\Machine_Learning_master\\Section_1_Python_Crash_Course\\mercedesbenz.csv\")\n",
    "print(df7.head())"
   ]
  },
  {
   "cell_type": "code",
   "execution_count": 63,
   "metadata": {},
   "outputs": [
    {
     "name": "stdout",
     "output_type": "stream",
     "text": [
      "<class 'pandas.core.frame.DataFrame'>\n",
      "RangeIndex: 4209 entries, 0 to 4208\n",
      "Columns: 378 entries, ID to X385\n",
      "dtypes: float64(1), int64(369), object(8)\n",
      "memory usage: 12.1+ MB\n",
      "None\n"
     ]
    }
   ],
   "source": [
    "print(df7.info())"
   ]
  },
  {
   "cell_type": "code",
   "execution_count": 64,
   "metadata": {},
   "outputs": [
    {
     "name": "stdout",
     "output_type": "stream",
     "text": [
      "                ID            y          X10     X11          X12  \\\n",
      "count  4209.000000  4209.000000  4209.000000  4209.0  4209.000000   \n",
      "mean   4205.960798   100.669318     0.013305     0.0     0.075077   \n",
      "std    2437.608688    12.679381     0.114590     0.0     0.263547   \n",
      "min       0.000000    72.110000     0.000000     0.0     0.000000   \n",
      "25%    2095.000000    90.820000     0.000000     0.0     0.000000   \n",
      "50%    4220.000000    99.150000     0.000000     0.0     0.000000   \n",
      "75%    6314.000000   109.010000     0.000000     0.0     0.000000   \n",
      "max    8417.000000   265.320000     1.000000     0.0     1.000000   \n",
      "\n",
      "               X13          X14          X15          X16          X17  ...  \\\n",
      "count  4209.000000  4209.000000  4209.000000  4209.000000  4209.000000  ...   \n",
      "mean      0.057971     0.428130     0.000475     0.002613     0.007603  ...   \n",
      "std       0.233716     0.494867     0.021796     0.051061     0.086872  ...   \n",
      "min       0.000000     0.000000     0.000000     0.000000     0.000000  ...   \n",
      "25%       0.000000     0.000000     0.000000     0.000000     0.000000  ...   \n",
      "50%       0.000000     0.000000     0.000000     0.000000     0.000000  ...   \n",
      "75%       0.000000     1.000000     0.000000     0.000000     0.000000  ...   \n",
      "max       1.000000     1.000000     1.000000     1.000000     1.000000  ...   \n",
      "\n",
      "              X375         X376         X377         X378         X379  \\\n",
      "count  4209.000000  4209.000000  4209.000000  4209.000000  4209.000000   \n",
      "mean      0.318841     0.057258     0.314802     0.020670     0.009503   \n",
      "std       0.466082     0.232363     0.464492     0.142294     0.097033   \n",
      "min       0.000000     0.000000     0.000000     0.000000     0.000000   \n",
      "25%       0.000000     0.000000     0.000000     0.000000     0.000000   \n",
      "50%       0.000000     0.000000     0.000000     0.000000     0.000000   \n",
      "75%       1.000000     0.000000     1.000000     0.000000     0.000000   \n",
      "max       1.000000     1.000000     1.000000     1.000000     1.000000   \n",
      "\n",
      "              X380         X382         X383         X384         X385  \n",
      "count  4209.000000  4209.000000  4209.000000  4209.000000  4209.000000  \n",
      "mean      0.008078     0.007603     0.001663     0.000475     0.001426  \n",
      "std       0.089524     0.086872     0.040752     0.021796     0.037734  \n",
      "min       0.000000     0.000000     0.000000     0.000000     0.000000  \n",
      "25%       0.000000     0.000000     0.000000     0.000000     0.000000  \n",
      "50%       0.000000     0.000000     0.000000     0.000000     0.000000  \n",
      "75%       0.000000     0.000000     0.000000     0.000000     0.000000  \n",
      "max       1.000000     1.000000     1.000000     1.000000     1.000000  \n",
      "\n",
      "[8 rows x 370 columns]\n"
     ]
    }
   ],
   "source": [
    "print(df7.describe())"
   ]
  },
  {
   "cell_type": "code",
   "execution_count": 65,
   "metadata": {},
   "outputs": [
    {
     "name": "stdout",
     "output_type": "stream",
     "text": [
      "z     360\n",
      "ak    349\n",
      "y     324\n",
      "ay    313\n",
      "t     306\n",
      "x     300\n",
      "o     269\n",
      "f     227\n",
      "n     195\n",
      "w     182\n",
      "j     181\n",
      "az    175\n",
      "aj    151\n",
      "s     106\n",
      "ap    103\n",
      "h      75\n",
      "d      73\n",
      "al     67\n",
      "v      36\n",
      "af     35\n",
      "ai     34\n",
      "m      34\n",
      "e      32\n",
      "ba     27\n",
      "at     25\n",
      "a      21\n",
      "ax     19\n",
      "i      18\n",
      "am     18\n",
      "aq     18\n",
      "u      17\n",
      "l      16\n",
      "aw     16\n",
      "ad     14\n",
      "k      11\n",
      "au     11\n",
      "b      11\n",
      "r      10\n",
      "as     10\n",
      "bc      6\n",
      "ao      4\n",
      "c       3\n",
      "aa      2\n",
      "q       2\n",
      "ab      1\n",
      "ac      1\n",
      "g       1\n",
      "Name: X0, dtype: int64\n",
      "Total unique value sum should be 4209\n",
      "4209\n"
     ]
    }
   ],
   "source": [
    "# get the unique category count\n",
    "print(df7[\"X0\"].value_counts())\n",
    "print(\"Total unique value sum should be 4209\")\n",
    "\n",
    "print(df7[\"X0\"].value_counts().sum())"
   ]
  },
  {
   "cell_type": "code",
   "execution_count": 66,
   "metadata": {},
   "outputs": [
    {
     "name": "stdout",
     "output_type": "stream",
     "text": [
      "    ID       y  X0  X1  X2 X3 X4 X5 X6 X8  ...  X375  X376  X377  X378  X379  \\\n",
      "0    0  130.81   k   v  at  a  d  u  j  o  ...     0     0     1     0     0   \n",
      "6   24  128.76  al   r   e  f  d  f  h  s  ...     0     0     0     0     0   \n",
      "8   27  108.67   w   s  as  e  d  f  i  h  ...     1     0     0     0     0   \n",
      "9   30  126.99   j   b  aq  c  d  f  a  e  ...     0     0     1     0     0   \n",
      "10  31  102.09   h   r   r  f  d  f  h  p  ...     0     0     0     0     0   \n",
      "16  39  106.10  al   r   e  f  d  j  h  o  ...     0     0     0     0     0   \n",
      "17  40  114.13  ay  aa  as  c  d  j  c  d  ...     0     0     1     0     0   \n",
      "\n",
      "    X380  X382  X383  X384  X385  \n",
      "0      0     0     0     0     0  \n",
      "6      0     0     0     0     0  \n",
      "8      0     0     0     0     0  \n",
      "9      0     0     0     0     0  \n",
      "10     0     0     0     0     0  \n",
      "16     0     0     0     0     0  \n",
      "17     0     0     0     0     0  \n",
      "\n",
      "[7 rows x 378 columns]\n"
     ]
    }
   ],
   "source": [
    "# show only those value which are > 100 in column \"y\"\n",
    "print(df7[df7[\"y\"]>100].head(7))"
   ]
  },
  {
   "cell_type": "code",
   "execution_count": 67,
   "metadata": {},
   "outputs": [],
   "source": [
    "from io import StringIO,BytesIO"
   ]
  },
  {
   "cell_type": "code",
   "execution_count": 68,
   "metadata": {},
   "outputs": [],
   "source": [
    "data1 = (\"C1,C2,C3\\n\"\n",
    "         \"x,y,1\\n\"\n",
    "         \"a,b,2\\n\"\n",
    "         \"c,d,3\")"
   ]
  },
  {
   "cell_type": "code",
   "execution_count": 69,
   "metadata": {},
   "outputs": [
    {
     "name": "stdout",
     "output_type": "stream",
     "text": [
      "C1,C2,C3\n",
      "x,y,1\n",
      "a,b,2\n",
      "c,d,3\n"
     ]
    }
   ],
   "source": [
    "print(data1)"
   ]
  },
  {
   "cell_type": "code",
   "execution_count": 70,
   "metadata": {},
   "outputs": [
    {
     "data": {
      "text/plain": [
       "str"
      ]
     },
     "execution_count": 70,
     "metadata": {},
     "output_type": "execute_result"
    }
   ],
   "source": [
    "type(data1)"
   ]
  },
  {
   "cell_type": "code",
   "execution_count": 71,
   "metadata": {},
   "outputs": [
    {
     "name": "stdout",
     "output_type": "stream",
     "text": [
      "  C1 C2  C3\n",
      "0  x  y   1\n",
      "1  a  b   2\n",
      "2  c  d   3\n"
     ]
    },
    {
     "data": {
      "text/plain": [
       "pandas.core.frame.DataFrame"
      ]
     },
     "execution_count": 71,
     "metadata": {},
     "output_type": "execute_result"
    }
   ],
   "source": [
    "# Text I/O implementation using an in-memory buffer.\n",
    "df8 = pd.read_csv(StringIO(data1))\n",
    "print(df8)\n",
    "type(df8)"
   ]
  },
  {
   "cell_type": "code",
   "execution_count": 72,
   "metadata": {},
   "outputs": [
    {
     "name": "stdout",
     "output_type": "stream",
     "text": [
      "  C1 C2\n",
      "0  x  y\n",
      "1  a  b\n",
      "2  c  d\n"
     ]
    }
   ],
   "source": [
    "#df9 = pd.read_csv(StringIO(data1),usecols=[\"C1\",\"C2\"])\n",
    "df9 = pd.read_csv(StringIO(data1),usecols= lambda x : x.upper() in [\"C1\",\"C2\"])\n",
    "print(df9)"
   ]
  },
  {
   "cell_type": "code",
   "execution_count": 73,
   "metadata": {},
   "outputs": [],
   "source": [
    "# specify column DataType\n",
    "# lets create data\n",
    "data2 = ('c1,c2,c3,c4\\n'\n",
    "         '1,2,3,4\\n'\n",
    "         '5,6,7,8\\n'\n",
    "         '9,10,11,12\\n')"
   ]
  },
  {
   "cell_type": "code",
   "execution_count": 74,
   "metadata": {},
   "outputs": [
    {
     "name": "stdout",
     "output_type": "stream",
     "text": [
      "c1,c2,c3,c4\n",
      "1,2,3,4\n",
      "5,6,7,8\n",
      "9,10,11,12\n",
      "\n"
     ]
    }
   ],
   "source": [
    "print(data2)"
   ]
  },
  {
   "cell_type": "code",
   "execution_count": 75,
   "metadata": {},
   "outputs": [
    {
     "name": "stdout",
     "output_type": "stream",
     "text": [
      "    c1    c2    c3    c4\n",
      "0  1.0   2.0   3.0   4.0\n",
      "1  5.0   6.0   7.0   8.0\n",
      "2  9.0  10.0  11.0  12.0\n",
      "0    1.0\n",
      "1    5.0\n",
      "2    9.0\n",
      "Name: c1, dtype: float64\n",
      "5.0\n",
      "   c1  c2  c3  c4\n",
      "0   1   2   3   4\n",
      "1   5   6   7   8\n",
      "2   9  10  11  12\n",
      "0     2\n",
      "1     6\n",
      "2    10\n",
      "Name: c2, dtype: int32\n"
     ]
    }
   ],
   "source": [
    "# select dtype = float \n",
    "df10 = pd.read_csv(StringIO(data2,),dtype=float)\n",
    "print(df10)\n",
    "# select any column value and find the datatype\n",
    "print(df10[\"c1\"])\n",
    "print(df10[\"c1\"][1])\n",
    "# select dtype = int\n",
    "df10 = pd.read_csv(StringIO(data2,),dtype=int)\n",
    "print(df10)\n",
    "# select any column value and find the datatype\n",
    "print(df10[\"c2\"])"
   ]
  },
  {
   "cell_type": "code",
   "execution_count": 76,
   "metadata": {},
   "outputs": [],
   "source": [
    "# specify column null value ,, here we are not mentiong value 12 in row 3\n",
    "# lets create data\n",
    "data3 = ('c1,c2,c3,c4\\n'\n",
    "         '1,2,3,4\\n'\n",
    "         '5,6,7,8\\n'\n",
    "         '9,10,11\\n')"
   ]
  },
  {
   "cell_type": "code",
   "execution_count": 77,
   "metadata": {},
   "outputs": [
    {
     "name": "stdout",
     "output_type": "stream",
     "text": [
      "c1,c2,c3,c4\n",
      "1,2,3,4\n",
      "5,6,7,8\n",
      "9,10,11\n",
      "\n"
     ]
    }
   ],
   "source": [
    "print(data3)"
   ]
  },
  {
   "cell_type": "code",
   "execution_count": 78,
   "metadata": {
    "scrolled": true
   },
   "outputs": [
    {
     "name": "stdout",
     "output_type": "stream",
     "text": [
      "    c1    c2    c3   c4\n",
      "0  1.0   2.0   3.0  4.0\n",
      "1  5.0   6.0   7.0  8.0\n",
      "2  9.0  10.0  11.0  NaN\n",
      "c1    0\n",
      "c2    0\n",
      "c3    0\n",
      "c4    1\n",
      "dtype: int64\n"
     ]
    }
   ],
   "source": [
    "# check NaN value in row 3 \n",
    "df11 = pd.read_csv(StringIO(data3),dtype=float)\n",
    "print(df11)\n",
    "# check null value count coulumn wise\n",
    "print(df11.isnull().sum())"
   ]
  },
  {
   "cell_type": "code",
   "execution_count": 79,
   "metadata": {},
   "outputs": [
    {
     "name": "stdout",
     "output_type": "stream",
     "text": [
      "c1,c2,c3,c4\n",
      "1,2,3,4\n",
      "5,6,7,8\n",
      "9,10,11\n",
      "\n",
      "   c1    c2  c3   c4\n",
      "0   1   2.0   3    4\n",
      "1   5   6.0   7    8\n",
      "2   9  10.0  11  NaN\n",
      "c1      int32\n",
      "c2    float64\n",
      "c3      int32\n",
      "c4     object\n",
      "dtype: object\n"
     ]
    }
   ],
   "source": [
    "# some time you need to update the dtype of some columns in your data.\n",
    "print(data3)\n",
    "# lets update datatype c1 = Int, c2 = float, c3 = int, c4 = str. enter datatype in the form of Dictionary\n",
    "df12 = pd.read_csv(StringIO(data3),dtype={\"c1\":int,\"c2\":float,\"c3\":int,\"c4\":str})\n",
    "print(df12)\n",
    "print(df12.dtypes)"
   ]
  },
  {
   "cell_type": "code",
   "execution_count": 80,
   "metadata": {},
   "outputs": [],
   "source": [
    "# Make column to our Index\n",
    "data4 = (\"Index,name,run,rank\\n\"\n",
    "         \"1,kohli,160,1\\n\"\n",
    "         \"2,rohit,212,2\\n\"\n",
    "         \"3,rahul,115,3\\n\"\n",
    "         \"4,dhavan,130,4\")"
   ]
  },
  {
   "cell_type": "code",
   "execution_count": 81,
   "metadata": {},
   "outputs": [
    {
     "name": "stdout",
     "output_type": "stream",
     "text": [
      "Index,name,run,rank\n",
      "1,kohli,160,1\n",
      "2,rohit,212,2\n",
      "3,rahul,115,3\n",
      "4,dhavan,130,4\n"
     ]
    }
   ],
   "source": [
    "print(data4)"
   ]
  },
  {
   "cell_type": "code",
   "execution_count": 82,
   "metadata": {},
   "outputs": [
    {
     "name": "stdout",
     "output_type": "stream",
     "text": [
      "   Index    name  run  rank\n",
      "0      1   kohli  160     1\n",
      "1      2   rohit  212     2\n",
      "2      3   rahul  115     3\n",
      "3      4  dhavan  130     4\n"
     ]
    }
   ],
   "source": [
    "df13 = pd.read_csv(StringIO(data4))\n",
    "print(df13)"
   ]
  },
  {
   "cell_type": "code",
   "execution_count": 83,
   "metadata": {},
   "outputs": [
    {
     "name": "stdout",
     "output_type": "stream",
     "text": [
      "         name  run  rank\n",
      "Index                   \n",
      "1       kohli  160     1\n",
      "2       rohit  212     2\n",
      "3       rahul  115     3\n",
      "4      dhavan  130     4\n"
     ]
    }
   ],
   "source": [
    "# let make Index column to make Index\n",
    "df14 = pd.read_csv(StringIO(data4),index_col=0)\n",
    "print(df14)"
   ]
  },
  {
   "cell_type": "code",
   "execution_count": 84,
   "metadata": {},
   "outputs": [
    {
     "name": "stdout",
     "output_type": "stream",
     "text": [
      "        name  run\n",
      "Index            \n",
      "1      kohli  160\n"
     ]
    }
   ],
   "source": [
    "print(df14.iloc[0:1,0:2])"
   ]
  },
  {
   "cell_type": "code",
   "execution_count": 85,
   "metadata": {},
   "outputs": [
    {
     "name": "stdout",
     "output_type": "stream",
     "text": [
      "name    kohli\n",
      "run       160\n",
      "rank        1\n",
      "Name: 1, dtype: object\n"
     ]
    }
   ],
   "source": [
    "print(df14.loc[1])"
   ]
  },
  {
   "cell_type": "code",
   "execution_count": 86,
   "metadata": {},
   "outputs": [
    {
     "name": "stdout",
     "output_type": "stream",
     "text": [
      "name,run,rank\n",
      "kohli,160,1,\n",
      "rohit,212,2,\n",
      "rahul,115,3,\n",
      "dhavan,130,4\n"
     ]
    }
   ],
   "source": [
    "# when default data type is None then it follow below senario\n",
    "data4 = (\"name,run,rank\\n\"\n",
    "         \"kohli,160,1,\\n\"\n",
    "         \"rohit,212,2,\\n\"\n",
    "         \"rahul,115,3,\\n\"\n",
    "         \"dhavan,130,4\")\n",
    "print(data4)"
   ]
  },
  {
   "cell_type": "code",
   "execution_count": 87,
   "metadata": {},
   "outputs": [
    {
     "name": "stdout",
     "output_type": "stream",
     "text": [
      "        name  run  rank\n",
      "kohli    160    1   NaN\n",
      "rohit    212    2   NaN\n",
      "rahul    115    3   NaN\n",
      "dhavan   130    4   NaN\n",
      "     name  run  rank\n",
      "0   kohli  160     1\n",
      "1   rohit  212     2\n",
      "2   rahul  115     3\n",
      "3  dhavan  130     4\n"
     ]
    }
   ],
   "source": [
    "df15 = pd.read_csv(StringIO(data4))  #  when default dtype is None thwn it follow the same order of data4\n",
    "print(df15)\n",
    "\n",
    "df16 = pd.read_csv(StringIO(data4),index_col= False)  #  when default dtype is None and want to follow that same data should come under column and null should not come\n",
    "print(df16)"
   ]
  },
  {
   "cell_type": "code",
   "execution_count": 88,
   "metadata": {},
   "outputs": [
    {
     "name": "stdout",
     "output_type": "stream",
     "text": [
      "     name  run\n",
      "0   kohli  160\n",
      "1   rohit  212\n",
      "2   rahul  115\n",
      "3  dhavan  130\n"
     ]
    }
   ],
   "source": [
    "# lets combile usecols and index_col in above eg\n",
    "df17 = pd.read_csv(StringIO(data4),index_col= False,usecols=[\"name\",\"run\"])\n",
    "print(df17)"
   ]
  },
  {
   "cell_type": "code",
   "execution_count": 89,
   "metadata": {},
   "outputs": [],
   "source": [
    "import numpy as np\n",
    "import pandas as pd\n",
    "from io import StringIO,BytesIO"
   ]
  },
  {
   "cell_type": "code",
   "execution_count": 90,
   "metadata": {},
   "outputs": [
    {
     "name": "stdout",
     "output_type": "stream",
     "text": [
      "a,b\n",
      "\"hello,\\\"Bob\\\",nice to see you\",10\n"
     ]
    }
   ],
   "source": [
    "# quoting and escaping chanracters. Its important for NLP\n",
    "data5 = 'a,b\\n\"hello,\\\\\"Bob\\\\\",nice to see you\",10'\n",
    "print(data5)"
   ]
  },
  {
   "cell_type": "code",
   "execution_count": 91,
   "metadata": {},
   "outputs": [
    {
     "name": "stdout",
     "output_type": "stream",
     "text": [
      "                             a   b\n",
      "0  hello,\"Bob\",nice to see you  10\n"
     ]
    }
   ],
   "source": [
    "df18 = pd.read_csv(StringIO(data5),escapechar=\"\\\\\")\n",
    "print(df18)"
   ]
  },
  {
   "cell_type": "code",
   "execution_count": 92,
   "metadata": {},
   "outputs": [
    {
     "name": "stdout",
     "output_type": "stream",
     "text": [
      "  item_code                                          item_name  display_level  \\\n",
      "0       AA0                               All items - old base              0   \n",
      "1      AA0R  Purchasing power of the consumer dollar - old ...              0   \n",
      "2       SA0                                          All items              0   \n",
      "3      SA0E                                             Energy              1   \n",
      "4     SA0L1                                All items less food              1   \n",
      "\n",
      "  selectable  sort_sequence  \n",
      "0          T              2  \n",
      "1          T            399  \n",
      "2          T              1  \n",
      "3          T            374  \n",
      "4          T            358  \n"
     ]
    }
   ],
   "source": [
    "# read data from URL\n",
    "df19 = pd.read_csv(\"https://download.bls.gov/pub/time.series/cu/cu.item\", sep='\\t')\n",
    "print(df19.head())"
   ]
  },
  {
   "cell_type": "code",
   "execution_count": 93,
   "metadata": {},
   "outputs": [],
   "source": [
    "# Read json to CSV\n",
    "# lets create a json file\n",
    "data6 = '{\"emp_name\":\"Atul\",\"email\": \"atul@ds.com\",\"job_profile\":[{\"Role1\":\"Jr Data Scientist\",\"Role2\":\"Data Scientist\"}]}'"
   ]
  },
  {
   "cell_type": "code",
   "execution_count": 94,
   "metadata": {},
   "outputs": [
    {
     "name": "stdout",
     "output_type": "stream",
     "text": [
      "{\"emp_name\":\"Atul\",\"email\": \"atul@ds.com\",\"job_profile\":[{\"Role1\":\"Jr Data Scientist\",\"Role2\":\"Data Scientist\"}]}\n"
     ]
    }
   ],
   "source": [
    "print(data6)"
   ]
  },
  {
   "cell_type": "code",
   "execution_count": 95,
   "metadata": {},
   "outputs": [
    {
     "data": {
      "text/plain": [
       "str"
      ]
     },
     "execution_count": 95,
     "metadata": {},
     "output_type": "execute_result"
    }
   ],
   "source": [
    "type(data6)"
   ]
  },
  {
   "cell_type": "code",
   "execution_count": 96,
   "metadata": {},
   "outputs": [
    {
     "name": "stdout",
     "output_type": "stream",
     "text": [
      "  emp_name        email                                        job_profile\n",
      "0     Atul  atul@ds.com  {'Role1': 'Jr Data Scientist', 'Role2': 'Data ...\n"
     ]
    }
   ],
   "source": [
    "df20 = pd.read_json(data6)\n",
    "print(df20)"
   ]
  },
  {
   "cell_type": "code",
   "execution_count": 97,
   "metadata": {},
   "outputs": [
    {
     "name": "stdout",
     "output_type": "stream",
     "text": [
      "   0      1     2     3     4    5     6     7     8     9     10    11    12  \\\n",
      "0   1  14.23  1.71  2.43  15.6  127  2.80  3.06  0.28  2.29  5.64  1.04  3.92   \n",
      "1   1  13.20  1.78  2.14  11.2  100  2.65  2.76  0.26  1.28  4.38  1.05  3.40   \n",
      "2   1  13.16  2.36  2.67  18.6  101  2.80  3.24  0.30  2.81  5.68  1.03  3.17   \n",
      "3   1  14.37  1.95  2.50  16.8  113  3.85  3.49  0.24  2.18  7.80  0.86  3.45   \n",
      "4   1  13.24  2.59  2.87  21.0  118  2.80  2.69  0.39  1.82  4.32  1.04  2.93   \n",
      "\n",
      "     13  \n",
      "0  1065  \n",
      "1  1050  \n",
      "2  1185  \n",
      "3  1480  \n",
      "4   735  \n"
     ]
    }
   ],
   "source": [
    "# Read csv file from URl\n",
    "df21 = pd.read_csv(\"https://archive.ics.uci.edu/ml/machine-learning-databases/wine/wine.data\",header=None) \n",
    "print(df21.head()) \n",
    "# below structure will only comes when we have data in Dict or key and value pair If we have data in nested dict formati then we have to use custom parsing methon to read the data"
   ]
  },
  {
   "cell_type": "code",
   "execution_count": 98,
   "metadata": {},
   "outputs": [],
   "source": [
    "# convert json to csv\n",
    "df21.to_csv(\"wine.csv\")"
   ]
  },
  {
   "cell_type": "code",
   "execution_count": 99,
   "metadata": {},
   "outputs": [
    {
     "name": "stdout",
     "output_type": "stream",
     "text": [
      "<class 'str'>\n",
      "{\"0\":{\"0\":1,\"1\":1,\"2\":1,\"3\":1,\"4\":1,\"5\":1,\"6\":1,\"7\":1,\"8\":1,\"9\":1,\"10\":1,\"11\":1,\"12\":1,\"13\":1,\"14\":1,\"15\":1,\"16\":1,\"17\":1,\"18\":1,\"19\":1,\"20\":1,\"21\":1,\"22\":1,\"23\":1,\"24\":1,\"25\":1,\"26\":1,\"27\":1,\"28\":1,\"29\":1,\"30\":1,\"31\":1,\"32\":1,\"33\":1,\"34\":1,\"35\":1,\"36\":1,\"37\":1,\"38\":1,\"39\":1,\"40\":1,\"41\":1,\"42\":1,\"43\":1,\"44\":1,\"45\":1,\"46\":1,\"47\":1,\"48\":1,\"49\":1,\"50\":1,\"51\":1,\"52\":1,\"53\":1,\"54\":1,\"55\":1,\"56\":1,\"57\":1,\"58\":1,\"59\":2,\"60\":2,\"61\":2,\"62\":2,\"63\":2,\"64\":2,\"65\":2,\"66\":2,\"67\":2,\"68\":2,\"69\":2,\"70\":2,\"71\":2,\"72\":2,\"73\":2,\"74\":2,\"75\":2,\"76\":2,\"77\":2,\"78\":2,\"79\":2,\"80\":2,\"81\":2,\"82\":2,\"83\":2,\"84\":2,\"85\":2,\"86\":2,\"87\":2,\"88\":2,\"89\":2,\"90\":2,\"91\":2,\"92\":2,\"93\":2,\"94\":2,\"95\":2,\"96\":2,\"97\":2,\"98\":2,\"99\":2,\"100\":2,\"101\":2,\"102\":2,\"103\":2,\"104\":2,\"105\":2,\"106\":2,\"107\":2,\"108\":2,\"109\":2,\"110\":2,\"111\":2,\"112\":2,\"113\":2,\"114\":2,\"115\":2,\"116\":2,\"117\":2,\"118\":2,\"119\":2,\"120\":2,\"121\":2,\"122\":2,\"123\":2,\"124\":2,\"125\":2,\"126\":2,\"127\":2,\"128\":2,\"129\":2,\"130\":3,\"131\":3,\"132\":3,\"133\":3,\"134\":3,\"135\":3,\"136\":3,\"137\":3,\"138\":3,\"139\":3,\"140\":3,\"141\":3,\"142\":3,\"143\":3,\"144\":3,\"145\":3,\"146\":3,\"147\":3,\"148\":3,\"149\":3,\"150\":3,\"151\":3,\"152\":3,\"153\":3,\"154\":3,\"155\":3,\"156\":3,\"157\":3,\"158\":3,\"159\":3,\"160\":3,\"161\":3,\"162\":3,\"163\":3,\"164\":3,\"165\":3,\"166\":3,\"167\":3,\"168\":3,\"169\":3,\"170\":3,\"171\":3,\"172\":3,\"173\":3,\"174\":3,\"175\":3,\"176\":3,\"177\":3},\"1\":{\"0\":14.23,\"1\":13.2,\"2\":13.16,\"3\":14.37,\"4\":13.24,\"5\":14.2,\"6\":14.39,\"7\":14.06,\"8\":14.83,\"9\":13.86,\"10\":14.1,\"11\":14.12,\"12\":13.75,\"13\":14.75,\"14\":14.38,\"15\":13.63,\"16\":14.3,\"17\":13.83,\"18\":14.19,\"19\":13.64,\"20\":14.06,\"21\":12.93,\"22\":13.71,\"23\":12.85,\"24\":13.5,\"25\":13.05,\"26\":13.39,\"27\":13.3,\"28\":13.87,\"29\":14.02,\"30\":13.73,\"31\":13.58,\"32\":13.68,\"33\":13.76,\"34\":13.51,\"35\":13.48,\"36\":13.28,\"37\":13.05,\"38\":13.07,\"39\":14.22,\"40\":13.56,\"41\":13.41,\"42\":13.88,\"43\":13.24,\"44\":13.05,\"45\":14.21,\"46\":14.38,\"47\":13.9,\"48\":14.1,\"49\":13.94,\"50\":13.05,\"51\":13.83,\"52\":13.82,\"53\":13.77,\"54\":13.74,\"55\":13.56,\"56\":14.22,\"57\":13.29,\"58\":13.72,\"59\":12.37,\"60\":12.33,\"61\":12.64,\"62\":13.67,\"63\":12.37,\"64\":12.17,\"65\":12.37,\"66\":13.11,\"67\":12.37,\"68\":13.34,\"69\":12.21,\"70\":12.29,\"71\":13.86,\"72\":13.49,\"73\":12.99,\"74\":11.96,\"75\":11.66,\"76\":13.03,\"77\":11.84,\"78\":12.33,\"79\":12.7,\"80\":12.0,\"81\":12.72,\"82\":12.08,\"83\":13.05,\"84\":11.84,\"85\":12.67,\"86\":12.16,\"87\":11.65,\"88\":11.64,\"89\":12.08,\"90\":12.08,\"91\":12.0,\"92\":12.69,\"93\":12.29,\"94\":11.62,\"95\":12.47,\"96\":11.81,\"97\":12.29,\"98\":12.37,\"99\":12.29,\"100\":12.08,\"101\":12.6,\"102\":12.34,\"103\":11.82,\"104\":12.51,\"105\":12.42,\"106\":12.25,\"107\":12.72,\"108\":12.22,\"109\":11.61,\"110\":11.46,\"111\":12.52,\"112\":11.76,\"113\":11.41,\"114\":12.08,\"115\":11.03,\"116\":11.82,\"117\":12.42,\"118\":12.77,\"119\":12.0,\"120\":11.45,\"121\":11.56,\"122\":12.42,\"123\":13.05,\"124\":11.87,\"125\":12.07,\"126\":12.43,\"127\":11.79,\"128\":12.37,\"129\":12.04,\"130\":12.86,\"131\":12.88,\"132\":12.81,\"133\":12.7,\"134\":12.51,\"135\":12.6,\"136\":12.25,\"137\":12.53,\"138\":13.49,\"139\":12.84,\"140\":12.93,\"141\":13.36,\"142\":13.52,\"143\":13.62,\"144\":12.25,\"145\":13.16,\"146\":13.88,\"147\":12.87,\"148\":13.32,\"149\":13.08,\"150\":13.5,\"151\":12.79,\"152\":13.11,\"153\":13.23,\"154\":12.58,\"155\":13.17,\"156\":13.84,\"157\":12.45,\"158\":14.34,\"159\":13.48,\"160\":12.36,\"161\":13.69,\"162\":12.85,\"163\":12.96,\"164\":13.78,\"165\":13.73,\"166\":13.45,\"167\":12.82,\"168\":13.58,\"169\":13.4,\"170\":12.2,\"171\":12.77,\"172\":14.16,\"173\":13.71,\"174\":13.4,\"175\":13.27,\"176\":13.17,\"177\":14.13},\"2\":{\"0\":1.71,\"1\":1.78,\"2\":2.36,\"3\":1.95,\"4\":2.59,\"5\":1.76,\"6\":1.87,\"7\":2.15,\"8\":1.64,\"9\":1.35,\"10\":2.16,\"11\":1.48,\"12\":1.73,\"13\":1.73,\"14\":1.87,\"15\":1.81,\"16\":1.92,\"17\":1.57,\"18\":1.59,\"19\":3.1,\"20\":1.63,\"21\":3.8,\"22\":1.86,\"23\":1.6,\"24\":1.81,\"25\":2.05,\"26\":1.77,\"27\":1.72,\"28\":1.9,\"29\":1.68,\"30\":1.5,\"31\":1.66,\"32\":1.83,\"33\":1.53,\"34\":1.8,\"35\":1.81,\"36\":1.64,\"37\":1.65,\"38\":1.5,\"39\":3.99,\"40\":1.71,\"41\":3.84,\"42\":1.89,\"43\":3.98,\"44\":1.77,\"45\":4.04,\"46\":3.59,\"47\":1.68,\"48\":2.02,\"49\":1.73,\"50\":1.73,\"51\":1.65,\"52\":1.75,\"53\":1.9,\"54\":1.67,\"55\":1.73,\"56\":1.7,\"57\":1.97,\"58\":1.43,\"59\":0.94,\"60\":1.1,\"61\":1.36,\"62\":1.25,\"63\":1.13,\"64\":1.45,\"65\":1.21,\"66\":1.01,\"67\":1.17,\"68\":0.94,\"69\":1.19,\"70\":1.61,\"71\":1.51,\"72\":1.66,\"73\":1.67,\"74\":1.09,\"75\":1.88,\"76\":0.9,\"77\":2.89,\"78\":0.99,\"79\":3.87,\"80\":0.92,\"81\":1.81,\"82\":1.13,\"83\":3.86,\"84\":0.89,\"85\":0.98,\"86\":1.61,\"87\":1.67,\"88\":2.06,\"89\":1.33,\"90\":1.83,\"91\":1.51,\"92\":1.53,\"93\":2.83,\"94\":1.99,\"95\":1.52,\"96\":2.12,\"97\":1.41,\"98\":1.07,\"99\":3.17,\"100\":2.08,\"101\":1.34,\"102\":2.45,\"103\":1.72,\"104\":1.73,\"105\":2.55,\"106\":1.73,\"107\":1.75,\"108\":1.29,\"109\":1.35,\"110\":3.74,\"111\":2.43,\"112\":2.68,\"113\":0.74,\"114\":1.39,\"115\":1.51,\"116\":1.47,\"117\":1.61,\"118\":3.43,\"119\":3.43,\"120\":2.4,\"121\":2.05,\"122\":4.43,\"123\":5.8,\"124\":4.31,\"125\":2.16,\"126\":1.53,\"127\":2.13,\"128\":1.63,\"129\":4.3,\"130\":1.35,\"131\":2.99,\"132\":2.31,\"133\":3.55,\"134\":1.24,\"135\":2.46,\"136\":4.72,\"137\":5.51,\"138\":3.59,\"139\":2.96,\"140\":2.81,\"141\":2.56,\"142\":3.17,\"143\":4.95,\"144\":3.88,\"145\":3.57,\"146\":5.04,\"147\":4.61,\"148\":3.24,\"149\":3.9,\"150\":3.12,\"151\":2.67,\"152\":1.9,\"153\":3.3,\"154\":1.29,\"155\":5.19,\"156\":4.12,\"157\":3.03,\"158\":1.68,\"159\":1.67,\"160\":3.83,\"161\":3.26,\"162\":3.27,\"163\":3.45,\"164\":2.76,\"165\":4.36,\"166\":3.7,\"167\":3.37,\"168\":2.58,\"169\":4.6,\"170\":3.03,\"171\":2.39,\"172\":2.51,\"173\":5.65,\"174\":3.91,\"175\":4.28,\"176\":2.59,\"177\":4.1},\"3\":{\"0\":2.43,\"1\":2.14,\"2\":2.67,\"3\":2.5,\"4\":2.87,\"5\":2.45,\"6\":2.45,\"7\":2.61,\"8\":2.17,\"9\":2.27,\"10\":2.3,\"11\":2.32,\"12\":2.41,\"13\":2.39,\"14\":2.38,\"15\":2.7,\"16\":2.72,\"17\":2.62,\"18\":2.48,\"19\":2.56,\"20\":2.28,\"21\":2.65,\"22\":2.36,\"23\":2.52,\"24\":2.61,\"25\":3.22,\"26\":2.62,\"27\":2.14,\"28\":2.8,\"29\":2.21,\"30\":2.7,\"31\":2.36,\"32\":2.36,\"33\":2.7,\"34\":2.65,\"35\":2.41,\"36\":2.84,\"37\":2.55,\"38\":2.1,\"39\":2.51,\"40\":2.31,\"41\":2.12,\"42\":2.59,\"43\":2.29,\"44\":2.1,\"45\":2.44,\"46\":2.28,\"47\":2.12,\"48\":2.4,\"49\":2.27,\"50\":2.04,\"51\":2.6,\"52\":2.42,\"53\":2.68,\"54\":2.25,\"55\":2.46,\"56\":2.3,\"57\":2.68,\"58\":2.5,\"59\":1.36,\"60\":2.28,\"61\":2.02,\"62\":1.92,\"63\":2.16,\"64\":2.53,\"65\":2.56,\"66\":1.7,\"67\":1.92,\"68\":2.36,\"69\":1.75,\"70\":2.21,\"71\":2.67,\"72\":2.24,\"73\":2.6,\"74\":2.3,\"75\":1.92,\"76\":1.71,\"77\":2.23,\"78\":1.95,\"79\":2.4,\"80\":2.0,\"81\":2.2,\"82\":2.51,\"83\":2.32,\"84\":2.58,\"85\":2.24,\"86\":2.31,\"87\":2.62,\"88\":2.46,\"89\":2.3,\"90\":2.32,\"91\":2.42,\"92\":2.26,\"93\":2.22,\"94\":2.28,\"95\":2.2,\"96\":2.74,\"97\":1.98,\"98\":2.1,\"99\":2.21,\"100\":1.7,\"101\":1.9,\"102\":2.46,\"103\":1.88,\"104\":1.98,\"105\":2.27,\"106\":2.12,\"107\":2.28,\"108\":1.94,\"109\":2.7,\"110\":1.82,\"111\":2.17,\"112\":2.92,\"113\":2.5,\"114\":2.5,\"115\":2.2,\"116\":1.99,\"117\":2.19,\"118\":1.98,\"119\":2.0,\"120\":2.42,\"121\":3.23,\"122\":2.73,\"123\":2.13,\"124\":2.39,\"125\":2.17,\"126\":2.29,\"127\":2.78,\"128\":2.3,\"129\":2.38,\"130\":2.32,\"131\":2.4,\"132\":2.4,\"133\":2.36,\"134\":2.25,\"135\":2.2,\"136\":2.54,\"137\":2.64,\"138\":2.19,\"139\":2.61,\"140\":2.7,\"141\":2.35,\"142\":2.72,\"143\":2.35,\"144\":2.2,\"145\":2.15,\"146\":2.23,\"147\":2.48,\"148\":2.38,\"149\":2.36,\"150\":2.62,\"151\":2.48,\"152\":2.75,\"153\":2.28,\"154\":2.1,\"155\":2.32,\"156\":2.38,\"157\":2.64,\"158\":2.7,\"159\":2.64,\"160\":2.38,\"161\":2.54,\"162\":2.58,\"163\":2.35,\"164\":2.3,\"165\":2.26,\"166\":2.6,\"167\":2.3,\"168\":2.69,\"169\":2.86,\"170\":2.32,\"171\":2.28,\"172\":2.48,\"173\":2.45,\"174\":2.48,\"175\":2.26,\"176\":2.37,\"177\":2.74},\"4\":{\"0\":15.6,\"1\":11.2,\"2\":18.6,\"3\":16.8,\"4\":21.0,\"5\":15.2,\"6\":14.6,\"7\":17.6,\"8\":14.0,\"9\":16.0,\"10\":18.0,\"11\":16.8,\"12\":16.0,\"13\":11.4,\"14\":12.0,\"15\":17.2,\"16\":20.0,\"17\":20.0,\"18\":16.5,\"19\":15.2,\"20\":16.0,\"21\":18.6,\"22\":16.6,\"23\":17.8,\"24\":20.0,\"25\":25.0,\"26\":16.1,\"27\":17.0,\"28\":19.4,\"29\":16.0,\"30\":22.5,\"31\":19.1,\"32\":17.2,\"33\":19.5,\"34\":19.0,\"35\":20.5,\"36\":15.5,\"37\":18.0,\"38\":15.5,\"39\":13.2,\"40\":16.2,\"41\":18.8,\"42\":15.0,\"43\":17.5,\"44\":17.0,\"45\":18.9,\"46\":16.0,\"47\":16.0,\"48\":18.8,\"49\":17.4,\"50\":12.4,\"51\":17.2,\"52\":14.0,\"53\":17.1,\"54\":16.4,\"55\":20.5,\"56\":16.3,\"57\":16.8,\"58\":16.7,\"59\":10.6,\"60\":16.0,\"61\":16.8,\"62\":18.0,\"63\":19.0,\"64\":19.0,\"65\":18.1,\"66\":15.0,\"67\":19.6,\"68\":17.0,\"69\":16.8,\"70\":20.4,\"71\":25.0,\"72\":24.0,\"73\":30.0,\"74\":21.0,\"75\":16.0,\"76\":16.0,\"77\":18.0,\"78\":14.8,\"79\":23.0,\"80\":19.0,\"81\":18.8,\"82\":24.0,\"83\":22.5,\"84\":18.0,\"85\":18.0,\"86\":22.8,\"87\":26.0,\"88\":21.6,\"89\":23.6,\"90\":18.5,\"91\":22.0,\"92\":20.7,\"93\":18.0,\"94\":18.0,\"95\":19.0,\"96\":21.5,\"97\":16.0,\"98\":18.5,\"99\":18.0,\"100\":17.5,\"101\":18.5,\"102\":21.0,\"103\":19.5,\"104\":20.5,\"105\":22.0,\"106\":19.0,\"107\":22.5,\"108\":19.0,\"109\":20.0,\"110\":19.5,\"111\":21.0,\"112\":20.0,\"113\":21.0,\"114\":22.5,\"115\":21.5,\"116\":20.8,\"117\":22.5,\"118\":16.0,\"119\":19.0,\"120\":20.0,\"121\":28.5,\"122\":26.5,\"123\":21.5,\"124\":21.0,\"125\":21.0,\"126\":21.5,\"127\":28.5,\"128\":24.5,\"129\":22.0,\"130\":18.0,\"131\":20.0,\"132\":24.0,\"133\":21.5,\"134\":17.5,\"135\":18.5,\"136\":21.0,\"137\":25.0,\"138\":19.5,\"139\":24.0,\"140\":21.0,\"141\":20.0,\"142\":23.5,\"143\":20.0,\"144\":18.5,\"145\":21.0,\"146\":20.0,\"147\":21.5,\"148\":21.5,\"149\":21.5,\"150\":24.0,\"151\":22.0,\"152\":25.5,\"153\":18.5,\"154\":20.0,\"155\":22.0,\"156\":19.5,\"157\":27.0,\"158\":25.0,\"159\":22.5,\"160\":21.0,\"161\":20.0,\"162\":22.0,\"163\":18.5,\"164\":22.0,\"165\":22.5,\"166\":23.0,\"167\":19.5,\"168\":24.5,\"169\":25.0,\"170\":19.0,\"171\":19.5,\"172\":20.0,\"173\":20.5,\"174\":23.0,\"175\":20.0,\"176\":20.0,\"177\":24.5},\"5\":{\"0\":127,\"1\":100,\"2\":101,\"3\":113,\"4\":118,\"5\":112,\"6\":96,\"7\":121,\"8\":97,\"9\":98,\"10\":105,\"11\":95,\"12\":89,\"13\":91,\"14\":102,\"15\":112,\"16\":120,\"17\":115,\"18\":108,\"19\":116,\"20\":126,\"21\":102,\"22\":101,\"23\":95,\"24\":96,\"25\":124,\"26\":93,\"27\":94,\"28\":107,\"29\":96,\"30\":101,\"31\":106,\"32\":104,\"33\":132,\"34\":110,\"35\":100,\"36\":110,\"37\":98,\"38\":98,\"39\":128,\"40\":117,\"41\":90,\"42\":101,\"43\":103,\"44\":107,\"45\":111,\"46\":102,\"47\":101,\"48\":103,\"49\":108,\"50\":92,\"51\":94,\"52\":111,\"53\":115,\"54\":118,\"55\":116,\"56\":118,\"57\":102,\"58\":108,\"59\":88,\"60\":101,\"61\":100,\"62\":94,\"63\":87,\"64\":104,\"65\":98,\"66\":78,\"67\":78,\"68\":110,\"69\":151,\"70\":103,\"71\":86,\"72\":87,\"73\":139,\"74\":101,\"75\":97,\"76\":86,\"77\":112,\"78\":136,\"79\":101,\"80\":86,\"81\":86,\"82\":78,\"83\":85,\"84\":94,\"85\":99,\"86\":90,\"87\":88,\"88\":84,\"89\":70,\"90\":81,\"91\":86,\"92\":80,\"93\":88,\"94\":98,\"95\":162,\"96\":134,\"97\":85,\"98\":88,\"99\":88,\"100\":97,\"101\":88,\"102\":98,\"103\":86,\"104\":85,\"105\":90,\"106\":80,\"107\":84,\"108\":92,\"109\":94,\"110\":107,\"111\":88,\"112\":103,\"113\":88,\"114\":84,\"115\":85,\"116\":86,\"117\":108,\"118\":80,\"119\":87,\"120\":96,\"121\":119,\"122\":102,\"123\":86,\"124\":82,\"125\":85,\"126\":86,\"127\":92,\"128\":88,\"129\":80,\"130\":122,\"131\":104,\"132\":98,\"133\":106,\"134\":85,\"135\":94,\"136\":89,\"137\":96,\"138\":88,\"139\":101,\"140\":96,\"141\":89,\"142\":97,\"143\":92,\"144\":112,\"145\":102,\"146\":80,\"147\":86,\"148\":92,\"149\":113,\"150\":123,\"151\":112,\"152\":116,\"153\":98,\"154\":103,\"155\":93,\"156\":89,\"157\":97,\"158\":98,\"159\":89,\"160\":88,\"161\":107,\"162\":106,\"163\":106,\"164\":90,\"165\":88,\"166\":111,\"167\":88,\"168\":105,\"169\":112,\"170\":96,\"171\":86,\"172\":91,\"173\":95,\"174\":102,\"175\":120,\"176\":120,\"177\":96},\"6\":{\"0\":2.8,\"1\":2.65,\"2\":2.8,\"3\":3.85,\"4\":2.8,\"5\":3.27,\"6\":2.5,\"7\":2.6,\"8\":2.8,\"9\":2.98,\"10\":2.95,\"11\":2.2,\"12\":2.6,\"13\":3.1,\"14\":3.3,\"15\":2.85,\"16\":2.8,\"17\":2.95,\"18\":3.3,\"19\":2.7,\"20\":3.0,\"21\":2.41,\"22\":2.61,\"23\":2.48,\"24\":2.53,\"25\":2.63,\"26\":2.85,\"27\":2.4,\"28\":2.95,\"29\":2.65,\"30\":3.0,\"31\":2.86,\"32\":2.42,\"33\":2.95,\"34\":2.35,\"35\":2.7,\"36\":2.6,\"37\":2.45,\"38\":2.4,\"39\":3.0,\"40\":3.15,\"41\":2.45,\"42\":3.25,\"43\":2.64,\"44\":3.0,\"45\":2.85,\"46\":3.25,\"47\":3.1,\"48\":2.75,\"49\":2.88,\"50\":2.72,\"51\":2.45,\"52\":3.88,\"53\":3.0,\"54\":2.6,\"55\":2.96,\"56\":3.2,\"57\":3.0,\"58\":3.4,\"59\":1.98,\"60\":2.05,\"61\":2.02,\"62\":2.1,\"63\":3.5,\"64\":1.89,\"65\":2.42,\"66\":2.98,\"67\":2.11,\"68\":2.53,\"69\":1.85,\"70\":1.1,\"71\":2.95,\"72\":1.88,\"73\":3.3,\"74\":3.38,\"75\":1.61,\"76\":1.95,\"77\":1.72,\"78\":1.9,\"79\":2.83,\"80\":2.42,\"81\":2.2,\"82\":2.0,\"83\":1.65,\"84\":2.2,\"85\":2.2,\"86\":1.78,\"87\":1.92,\"88\":1.95,\"89\":2.2,\"90\":1.6,\"91\":1.45,\"92\":1.38,\"93\":2.45,\"94\":3.02,\"95\":2.5,\"96\":1.6,\"97\":2.55,\"98\":3.52,\"99\":2.85,\"100\":2.23,\"101\":1.45,\"102\":2.56,\"103\":2.5,\"104\":2.2,\"105\":1.68,\"106\":1.65,\"107\":1.38,\"108\":2.36,\"109\":2.74,\"110\":3.18,\"111\":2.55,\"112\":1.75,\"113\":2.48,\"114\":2.56,\"115\":2.46,\"116\":1.98,\"117\":2.0,\"118\":1.63,\"119\":2.0,\"120\":2.9,\"121\":3.18,\"122\":2.2,\"123\":2.62,\"124\":2.86,\"125\":2.6,\"126\":2.74,\"127\":2.13,\"128\":2.22,\"129\":2.1,\"130\":1.51,\"131\":1.3,\"132\":1.15,\"133\":1.7,\"134\":2.0,\"135\":1.62,\"136\":1.38,\"137\":1.79,\"138\":1.62,\"139\":2.32,\"140\":1.54,\"141\":1.4,\"142\":1.55,\"143\":2.0,\"144\":1.38,\"145\":1.5,\"146\":0.98,\"147\":1.7,\"148\":1.93,\"149\":1.41,\"150\":1.4,\"151\":1.48,\"152\":2.2,\"153\":1.8,\"154\":1.48,\"155\":1.74,\"156\":1.8,\"157\":1.9,\"158\":2.8,\"159\":2.6,\"160\":2.3,\"161\":1.83,\"162\":1.65,\"163\":1.39,\"164\":1.35,\"165\":1.28,\"166\":1.7,\"167\":1.48,\"168\":1.55,\"169\":1.98,\"170\":1.25,\"171\":1.39,\"172\":1.68,\"173\":1.68,\"174\":1.8,\"175\":1.59,\"176\":1.65,\"177\":2.05},\"7\":{\"0\":3.06,\"1\":2.76,\"2\":3.24,\"3\":3.49,\"4\":2.69,\"5\":3.39,\"6\":2.52,\"7\":2.51,\"8\":2.98,\"9\":3.15,\"10\":3.32,\"11\":2.43,\"12\":2.76,\"13\":3.69,\"14\":3.64,\"15\":2.91,\"16\":3.14,\"17\":3.4,\"18\":3.93,\"19\":3.03,\"20\":3.17,\"21\":2.41,\"22\":2.88,\"23\":2.37,\"24\":2.61,\"25\":2.68,\"26\":2.94,\"27\":2.19,\"28\":2.97,\"29\":2.33,\"30\":3.25,\"31\":3.19,\"32\":2.69,\"33\":2.74,\"34\":2.53,\"35\":2.98,\"36\":2.68,\"37\":2.43,\"38\":2.64,\"39\":3.04,\"40\":3.29,\"41\":2.68,\"42\":3.56,\"43\":2.63,\"44\":3.0,\"45\":2.65,\"46\":3.17,\"47\":3.39,\"48\":2.92,\"49\":3.54,\"50\":3.27,\"51\":2.99,\"52\":3.74,\"53\":2.79,\"54\":2.9,\"55\":2.78,\"56\":3.0,\"57\":3.23,\"58\":3.67,\"59\":0.57,\"60\":1.09,\"61\":1.41,\"62\":1.79,\"63\":3.1,\"64\":1.75,\"65\":2.65,\"66\":3.18,\"67\":2.0,\"68\":1.3,\"69\":1.28,\"70\":1.02,\"71\":2.86,\"72\":1.84,\"73\":2.89,\"74\":2.14,\"75\":1.57,\"76\":2.03,\"77\":1.32,\"78\":1.85,\"79\":2.55,\"80\":2.26,\"81\":2.53,\"82\":1.58,\"83\":1.59,\"84\":2.21,\"85\":1.94,\"86\":1.69,\"87\":1.61,\"88\":1.69,\"89\":1.59,\"90\":1.5,\"91\":1.25,\"92\":1.46,\"93\":2.25,\"94\":2.26,\"95\":2.27,\"96\":0.99,\"97\":2.5,\"98\":3.75,\"99\":2.99,\"100\":2.17,\"101\":1.36,\"102\":2.11,\"103\":1.64,\"104\":1.92,\"105\":1.84,\"106\":2.03,\"107\":1.76,\"108\":2.04,\"109\":2.92,\"110\":2.58,\"111\":2.27,\"112\":2.03,\"113\":2.01,\"114\":2.29,\"115\":2.17,\"116\":1.6,\"117\":2.09,\"118\":1.25,\"119\":1.64,\"120\":2.79,\"121\":5.08,\"122\":2.13,\"123\":2.65,\"124\":3.03,\"125\":2.65,\"126\":3.15,\"127\":2.24,\"128\":2.45,\"129\":1.75,\"130\":1.25,\"131\":1.22,\"132\":1.09,\"133\":1.2,\"134\":0.58,\"135\":0.66,\"136\":0.47,\"137\":0.6,\"138\":0.48,\"139\":0.6,\"140\":0.5,\"141\":0.5,\"142\":0.52,\"143\":0.8,\"144\":0.78,\"145\":0.55,\"146\":0.34,\"147\":0.65,\"148\":0.76,\"149\":1.39,\"150\":1.57,\"151\":1.36,\"152\":1.28,\"153\":0.83,\"154\":0.58,\"155\":0.63,\"156\":0.83,\"157\":0.58,\"158\":1.31,\"159\":1.1,\"160\":0.92,\"161\":0.56,\"162\":0.6,\"163\":0.7,\"164\":0.68,\"165\":0.47,\"166\":0.92,\"167\":0.66,\"168\":0.84,\"169\":0.96,\"170\":0.49,\"171\":0.51,\"172\":0.7,\"173\":0.61,\"174\":0.75,\"175\":0.69,\"176\":0.68,\"177\":0.76},\"8\":{\"0\":0.28,\"1\":0.26,\"2\":0.3,\"3\":0.24,\"4\":0.39,\"5\":0.34,\"6\":0.3,\"7\":0.31,\"8\":0.29,\"9\":0.22,\"10\":0.22,\"11\":0.26,\"12\":0.29,\"13\":0.43,\"14\":0.29,\"15\":0.3,\"16\":0.33,\"17\":0.4,\"18\":0.32,\"19\":0.17,\"20\":0.24,\"21\":0.25,\"22\":0.27,\"23\":0.26,\"24\":0.28,\"25\":0.47,\"26\":0.34,\"27\":0.27,\"28\":0.37,\"29\":0.26,\"30\":0.29,\"31\":0.22,\"32\":0.42,\"33\":0.5,\"34\":0.29,\"35\":0.26,\"36\":0.34,\"37\":0.29,\"38\":0.28,\"39\":0.2,\"40\":0.34,\"41\":0.27,\"42\":0.17,\"43\":0.32,\"44\":0.28,\"45\":0.3,\"46\":0.27,\"47\":0.21,\"48\":0.32,\"49\":0.32,\"50\":0.17,\"51\":0.22,\"52\":0.32,\"53\":0.39,\"54\":0.21,\"55\":0.2,\"56\":0.26,\"57\":0.31,\"58\":0.19,\"59\":0.28,\"60\":0.63,\"61\":0.53,\"62\":0.32,\"63\":0.19,\"64\":0.45,\"65\":0.37,\"66\":0.26,\"67\":0.27,\"68\":0.55,\"69\":0.14,\"70\":0.37,\"71\":0.21,\"72\":0.27,\"73\":0.21,\"74\":0.13,\"75\":0.34,\"76\":0.24,\"77\":0.43,\"78\":0.35,\"79\":0.43,\"80\":0.3,\"81\":0.26,\"82\":0.4,\"83\":0.61,\"84\":0.22,\"85\":0.3,\"86\":0.43,\"87\":0.4,\"88\":0.48,\"89\":0.42,\"90\":0.52,\"91\":0.5,\"92\":0.58,\"93\":0.25,\"94\":0.17,\"95\":0.32,\"96\":0.14,\"97\":0.29,\"98\":0.24,\"99\":0.45,\"100\":0.26,\"101\":0.29,\"102\":0.34,\"103\":0.37,\"104\":0.32,\"105\":0.66,\"106\":0.37,\"107\":0.48,\"108\":0.39,\"109\":0.29,\"110\":0.24,\"111\":0.26,\"112\":0.6,\"113\":0.42,\"114\":0.43,\"115\":0.52,\"116\":0.3,\"117\":0.34,\"118\":0.43,\"119\":0.37,\"120\":0.32,\"121\":0.47,\"122\":0.43,\"123\":0.3,\"124\":0.21,\"125\":0.37,\"126\":0.39,\"127\":0.58,\"128\":0.4,\"129\":0.42,\"130\":0.21,\"131\":0.24,\"132\":0.27,\"133\":0.17,\"134\":0.6,\"135\":0.63,\"136\":0.53,\"137\":0.63,\"138\":0.58,\"139\":0.53,\"140\":0.53,\"141\":0.37,\"142\":0.5,\"143\":0.47,\"144\":0.29,\"145\":0.43,\"146\":0.4,\"147\":0.47,\"148\":0.45,\"149\":0.34,\"150\":0.22,\"151\":0.24,\"152\":0.26,\"153\":0.61,\"154\":0.53,\"155\":0.61,\"156\":0.48,\"157\":0.63,\"158\":0.53,\"159\":0.52,\"160\":0.5,\"161\":0.5,\"162\":0.6,\"163\":0.4,\"164\":0.41,\"165\":0.52,\"166\":0.43,\"167\":0.4,\"168\":0.39,\"169\":0.27,\"170\":0.4,\"171\":0.48,\"172\":0.44,\"173\":0.52,\"174\":0.43,\"175\":0.43,\"176\":0.53,\"177\":0.56},\"9\":{\"0\":2.29,\"1\":1.28,\"2\":2.81,\"3\":2.18,\"4\":1.82,\"5\":1.97,\"6\":1.98,\"7\":1.25,\"8\":1.98,\"9\":1.85,\"10\":2.38,\"11\":1.57,\"12\":1.81,\"13\":2.81,\"14\":2.96,\"15\":1.46,\"16\":1.97,\"17\":1.72,\"18\":1.86,\"19\":1.66,\"20\":2.1,\"21\":1.98,\"22\":1.69,\"23\":1.46,\"24\":1.66,\"25\":1.92,\"26\":1.45,\"27\":1.35,\"28\":1.76,\"29\":1.98,\"30\":2.38,\"31\":1.95,\"32\":1.97,\"33\":1.35,\"34\":1.54,\"35\":1.86,\"36\":1.36,\"37\":1.44,\"38\":1.37,\"39\":2.08,\"40\":2.34,\"41\":1.48,\"42\":1.7,\"43\":1.66,\"44\":2.03,\"45\":1.25,\"46\":2.19,\"47\":2.14,\"48\":2.38,\"49\":2.08,\"50\":2.91,\"51\":2.29,\"52\":1.87,\"53\":1.68,\"54\":1.62,\"55\":2.45,\"56\":2.03,\"57\":1.66,\"58\":2.04,\"59\":0.42,\"60\":0.41,\"61\":0.62,\"62\":0.73,\"63\":1.87,\"64\":1.03,\"65\":2.08,\"66\":2.28,\"67\":1.04,\"68\":0.42,\"69\":2.5,\"70\":1.46,\"71\":1.87,\"72\":1.03,\"73\":1.96,\"74\":1.65,\"75\":1.15,\"76\":1.46,\"77\":0.95,\"78\":2.76,\"79\":1.95,\"80\":1.43,\"81\":1.77,\"82\":1.4,\"83\":1.62,\"84\":2.35,\"85\":1.46,\"86\":1.56,\"87\":1.34,\"88\":1.35,\"89\":1.38,\"90\":1.64,\"91\":1.63,\"92\":1.62,\"93\":1.99,\"94\":1.35,\"95\":3.28,\"96\":1.56,\"97\":1.77,\"98\":1.95,\"99\":2.81,\"100\":1.4,\"101\":1.35,\"102\":1.31,\"103\":1.42,\"104\":1.48,\"105\":1.42,\"106\":1.63,\"107\":1.63,\"108\":2.08,\"109\":2.49,\"110\":3.58,\"111\":1.22,\"112\":1.05,\"113\":1.44,\"114\":1.04,\"115\":2.01,\"116\":1.53,\"117\":1.61,\"118\":0.83,\"119\":1.87,\"120\":1.83,\"121\":1.87,\"122\":1.71,\"123\":2.01,\"124\":2.91,\"125\":1.35,\"126\":1.77,\"127\":1.76,\"128\":1.9,\"129\":1.35,\"130\":0.94,\"131\":0.83,\"132\":0.83,\"133\":0.84,\"134\":1.25,\"135\":0.94,\"136\":0.8,\"137\":1.1,\"138\":0.88,\"139\":0.81,\"140\":0.75,\"141\":0.64,\"142\":0.55,\"143\":1.02,\"144\":1.14,\"145\":1.3,\"146\":0.68,\"147\":0.86,\"148\":1.25,\"149\":1.14,\"150\":1.25,\"151\":1.26,\"152\":1.56,\"153\":1.87,\"154\":1.4,\"155\":1.55,\"156\":1.56,\"157\":1.14,\"158\":2.7,\"159\":2.29,\"160\":1.04,\"161\":0.8,\"162\":0.96,\"163\":0.94,\"164\":1.03,\"165\":1.15,\"166\":1.46,\"167\":0.97,\"168\":1.54,\"169\":1.11,\"170\":0.73,\"171\":0.64,\"172\":1.24,\"173\":1.06,\"174\":1.41,\"175\":1.35,\"176\":1.46,\"177\":1.35},\"10\":{\"0\":5.64,\"1\":4.38,\"2\":5.68,\"3\":7.8,\"4\":4.32,\"5\":6.75,\"6\":5.25,\"7\":5.05,\"8\":5.2,\"9\":7.22,\"10\":5.75,\"11\":5.0,\"12\":5.6,\"13\":5.4,\"14\":7.5,\"15\":7.3,\"16\":6.2,\"17\":6.6,\"18\":8.7,\"19\":5.1,\"20\":5.65,\"21\":4.5,\"22\":3.8,\"23\":3.93,\"24\":3.52,\"25\":3.58,\"26\":4.8,\"27\":3.95,\"28\":4.5,\"29\":4.7,\"30\":5.7,\"31\":6.9,\"32\":3.84,\"33\":5.4,\"34\":4.2,\"35\":5.1,\"36\":4.6,\"37\":4.25,\"38\":3.7,\"39\":5.1,\"40\":6.13,\"41\":4.28,\"42\":5.43,\"43\":4.36,\"44\":5.04,\"45\":5.24,\"46\":4.9,\"47\":6.1,\"48\":6.2,\"49\":8.9,\"50\":7.2,\"51\":5.6,\"52\":7.05,\"53\":6.3,\"54\":5.85,\"55\":6.25,\"56\":6.38,\"57\":6.0,\"58\":6.8,\"59\":1.95,\"60\":3.27,\"61\":5.75,\"62\":3.8,\"63\":4.45,\"64\":2.95,\"65\":4.6,\"66\":5.3,\"67\":4.68,\"68\":3.17,\"69\":2.85,\"70\":3.05,\"71\":3.38,\"72\":3.74,\"73\":3.35,\"74\":3.21,\"75\":3.8,\"76\":4.6,\"77\":2.65,\"78\":3.4,\"79\":2.57,\"80\":2.5,\"81\":3.9,\"82\":2.2,\"83\":4.8,\"84\":3.05,\"85\":2.62,\"86\":2.45,\"87\":2.6,\"88\":2.8,\"89\":1.74,\"90\":2.4,\"91\":3.6,\"92\":3.05,\"93\":2.15,\"94\":3.25,\"95\":2.6,\"96\":2.5,\"97\":2.9,\"98\":4.5,\"99\":2.3,\"100\":3.3,\"101\":2.45,\"102\":2.8,\"103\":2.06,\"104\":2.94,\"105\":2.7,\"106\":3.4,\"107\":3.3,\"108\":2.7,\"109\":2.65,\"110\":2.9,\"111\":2.0,\"112\":3.8,\"113\":3.08,\"114\":2.9,\"115\":1.9,\"116\":1.95,\"117\":2.06,\"118\":3.4,\"119\":1.28,\"120\":3.25,\"121\":6.0,\"122\":2.08,\"123\":2.6,\"124\":2.8,\"125\":2.76,\"126\":3.94,\"127\":3.0,\"128\":2.12,\"129\":2.6,\"130\":4.1,\"131\":5.4,\"132\":5.7,\"133\":5.0,\"134\":5.45,\"135\":7.1,\"136\":3.85,\"137\":5.0,\"138\":5.7,\"139\":4.92,\"140\":4.6,\"141\":5.6,\"142\":4.35,\"143\":4.4,\"144\":8.21,\"145\":4.0,\"146\":4.9,\"147\":7.65,\"148\":8.42,\"149\":9.4,\"150\":8.6,\"151\":10.8,\"152\":7.1,\"153\":10.52,\"154\":7.6,\"155\":7.9,\"156\":9.01,\"157\":7.5,\"158\":13.0,\"159\":11.75,\"160\":7.65,\"161\":5.88,\"162\":5.58,\"163\":5.28,\"164\":9.58,\"165\":6.62,\"166\":10.68,\"167\":10.26,\"168\":8.66,\"169\":8.5,\"170\":5.5,\"171\":9.899999,\"172\":9.7,\"173\":7.7,\"174\":7.3,\"175\":10.2,\"176\":9.3,\"177\":9.2},\"11\":{\"0\":1.04,\"1\":1.05,\"2\":1.03,\"3\":0.86,\"4\":1.04,\"5\":1.05,\"6\":1.02,\"7\":1.06,\"8\":1.08,\"9\":1.01,\"10\":1.25,\"11\":1.17,\"12\":1.15,\"13\":1.25,\"14\":1.2,\"15\":1.28,\"16\":1.07,\"17\":1.13,\"18\":1.23,\"19\":0.96,\"20\":1.09,\"21\":1.03,\"22\":1.11,\"23\":1.09,\"24\":1.12,\"25\":1.13,\"26\":0.92,\"27\":1.02,\"28\":1.25,\"29\":1.04,\"30\":1.19,\"31\":1.09,\"32\":1.23,\"33\":1.25,\"34\":1.1,\"35\":1.04,\"36\":1.09,\"37\":1.12,\"38\":1.18,\"39\":0.89,\"40\":0.95,\"41\":0.91,\"42\":0.88,\"43\":0.82,\"44\":0.88,\"45\":0.87,\"46\":1.04,\"47\":0.91,\"48\":1.07,\"49\":1.12,\"50\":1.12,\"51\":1.24,\"52\":1.01,\"53\":1.13,\"54\":0.92,\"55\":0.98,\"56\":0.94,\"57\":1.07,\"58\":0.89,\"59\":1.05,\"60\":1.25,\"61\":0.98,\"62\":1.23,\"63\":1.22,\"64\":1.45,\"65\":1.19,\"66\":1.12,\"67\":1.12,\"68\":1.02,\"69\":1.28,\"70\":0.906,\"71\":1.36,\"72\":0.98,\"73\":1.31,\"74\":0.99,\"75\":1.23,\"76\":1.19,\"77\":0.96,\"78\":1.06,\"79\":1.19,\"80\":1.38,\"81\":1.16,\"82\":1.31,\"83\":0.84,\"84\":0.79,\"85\":1.23,\"86\":1.33,\"87\":1.36,\"88\":1.0,\"89\":1.07,\"90\":1.08,\"91\":1.05,\"92\":0.96,\"93\":1.15,\"94\":1.16,\"95\":1.16,\"96\":0.95,\"97\":1.23,\"98\":1.04,\"99\":1.42,\"100\":1.27,\"101\":1.04,\"102\":0.8,\"103\":0.94,\"104\":1.04,\"105\":0.86,\"106\":1.0,\"107\":0.88,\"108\":0.86,\"109\":0.96,\"110\":0.75,\"111\":0.9,\"112\":1.23,\"113\":1.1,\"114\":0.93,\"115\":1.71,\"116\":0.95,\"117\":1.06,\"118\":0.7,\"119\":0.93,\"120\":0.8,\"121\":0.93,\"122\":0.92,\"123\":0.73,\"124\":0.75,\"125\":0.86,\"126\":0.69,\"127\":0.97,\"128\":0.89,\"129\":0.79,\"130\":0.76,\"131\":0.74,\"132\":0.66,\"133\":0.78,\"134\":0.75,\"135\":0.73,\"136\":0.75,\"137\":0.82,\"138\":0.81,\"139\":0.89,\"140\":0.77,\"141\":0.7,\"142\":0.89,\"143\":0.91,\"144\":0.65,\"145\":0.6,\"146\":0.58,\"147\":0.54,\"148\":0.55,\"149\":0.57,\"150\":0.59,\"151\":0.48,\"152\":0.61,\"153\":0.56,\"154\":0.58,\"155\":0.6,\"156\":0.57,\"157\":0.67,\"158\":0.57,\"159\":0.57,\"160\":0.56,\"161\":0.96,\"162\":0.87,\"163\":0.68,\"164\":0.7,\"165\":0.78,\"166\":0.85,\"167\":0.72,\"168\":0.74,\"169\":0.67,\"170\":0.66,\"171\":0.57,\"172\":0.62,\"173\":0.64,\"174\":0.7,\"175\":0.59,\"176\":0.6,\"177\":0.61},\"12\":{\"0\":3.92,\"1\":3.4,\"2\":3.17,\"3\":3.45,\"4\":2.93,\"5\":2.85,\"6\":3.58,\"7\":3.58,\"8\":2.85,\"9\":3.55,\"10\":3.17,\"11\":2.82,\"12\":2.9,\"13\":2.73,\"14\":3.0,\"15\":2.88,\"16\":2.65,\"17\":2.57,\"18\":2.82,\"19\":3.36,\"20\":3.71,\"21\":3.52,\"22\":4.0,\"23\":3.63,\"24\":3.82,\"25\":3.2,\"26\":3.22,\"27\":2.77,\"28\":3.4,\"29\":3.59,\"30\":2.71,\"31\":2.88,\"32\":2.87,\"33\":3.0,\"34\":2.87,\"35\":3.47,\"36\":2.78,\"37\":2.51,\"38\":2.69,\"39\":3.53,\"40\":3.38,\"41\":3.0,\"42\":3.56,\"43\":3.0,\"44\":3.35,\"45\":3.33,\"46\":3.44,\"47\":3.33,\"48\":2.75,\"49\":3.1,\"50\":2.91,\"51\":3.37,\"52\":3.26,\"53\":2.93,\"54\":3.2,\"55\":3.03,\"56\":3.31,\"57\":2.84,\"58\":2.87,\"59\":1.82,\"60\":1.67,\"61\":1.59,\"62\":2.46,\"63\":2.87,\"64\":2.23,\"65\":2.3,\"66\":3.18,\"67\":3.48,\"68\":1.93,\"69\":3.07,\"70\":1.82,\"71\":3.16,\"72\":2.78,\"73\":3.5,\"74\":3.13,\"75\":2.14,\"76\":2.48,\"77\":2.52,\"78\":2.31,\"79\":3.13,\"80\":3.12,\"81\":3.14,\"82\":2.72,\"83\":2.01,\"84\":3.08,\"85\":3.16,\"86\":2.26,\"87\":3.21,\"88\":2.75,\"89\":3.21,\"90\":2.27,\"91\":2.65,\"92\":2.06,\"93\":3.3,\"94\":2.96,\"95\":2.63,\"96\":2.26,\"97\":2.74,\"98\":2.77,\"99\":2.83,\"100\":2.96,\"101\":2.77,\"102\":3.38,\"103\":2.44,\"104\":3.57,\"105\":3.3,\"106\":3.17,\"107\":2.42,\"108\":3.02,\"109\":3.26,\"110\":2.81,\"111\":2.78,\"112\":2.5,\"113\":2.31,\"114\":3.19,\"115\":2.87,\"116\":3.33,\"117\":2.96,\"118\":2.12,\"119\":3.05,\"120\":3.39,\"121\":3.69,\"122\":3.12,\"123\":3.1,\"124\":3.64,\"125\":3.28,\"126\":2.84,\"127\":2.44,\"128\":2.78,\"129\":2.57,\"130\":1.29,\"131\":1.42,\"132\":1.36,\"133\":1.29,\"134\":1.51,\"135\":1.58,\"136\":1.27,\"137\":1.69,\"138\":1.82,\"139\":2.15,\"140\":2.31,\"141\":2.47,\"142\":2.06,\"143\":2.05,\"144\":2.0,\"145\":1.68,\"146\":1.33,\"147\":1.86,\"148\":1.62,\"149\":1.33,\"150\":1.3,\"151\":1.47,\"152\":1.33,\"153\":1.51,\"154\":1.55,\"155\":1.48,\"156\":1.64,\"157\":1.73,\"158\":1.96,\"159\":1.78,\"160\":1.58,\"161\":1.82,\"162\":2.11,\"163\":1.75,\"164\":1.68,\"165\":1.75,\"166\":1.56,\"167\":1.75,\"168\":1.8,\"169\":1.92,\"170\":1.83,\"171\":1.63,\"172\":1.71,\"173\":1.74,\"174\":1.56,\"175\":1.56,\"176\":1.62,\"177\":1.6},\"13\":{\"0\":1065,\"1\":1050,\"2\":1185,\"3\":1480,\"4\":735,\"5\":1450,\"6\":1290,\"7\":1295,\"8\":1045,\"9\":1045,\"10\":1510,\"11\":1280,\"12\":1320,\"13\":1150,\"14\":1547,\"15\":1310,\"16\":1280,\"17\":1130,\"18\":1680,\"19\":845,\"20\":780,\"21\":770,\"22\":1035,\"23\":1015,\"24\":845,\"25\":830,\"26\":1195,\"27\":1285,\"28\":915,\"29\":1035,\"30\":1285,\"31\":1515,\"32\":990,\"33\":1235,\"34\":1095,\"35\":920,\"36\":880,\"37\":1105,\"38\":1020,\"39\":760,\"40\":795,\"41\":1035,\"42\":1095,\"43\":680,\"44\":885,\"45\":1080,\"46\":1065,\"47\":985,\"48\":1060,\"49\":1260,\"50\":1150,\"51\":1265,\"52\":1190,\"53\":1375,\"54\":1060,\"55\":1120,\"56\":970,\"57\":1270,\"58\":1285,\"59\":520,\"60\":680,\"61\":450,\"62\":630,\"63\":420,\"64\":355,\"65\":678,\"66\":502,\"67\":510,\"68\":750,\"69\":718,\"70\":870,\"71\":410,\"72\":472,\"73\":985,\"74\":886,\"75\":428,\"76\":392,\"77\":500,\"78\":750,\"79\":463,\"80\":278,\"81\":714,\"82\":630,\"83\":515,\"84\":520,\"85\":450,\"86\":495,\"87\":562,\"88\":680,\"89\":625,\"90\":480,\"91\":450,\"92\":495,\"93\":290,\"94\":345,\"95\":937,\"96\":625,\"97\":428,\"98\":660,\"99\":406,\"100\":710,\"101\":562,\"102\":438,\"103\":415,\"104\":672,\"105\":315,\"106\":510,\"107\":488,\"108\":312,\"109\":680,\"110\":562,\"111\":325,\"112\":607,\"113\":434,\"114\":385,\"115\":407,\"116\":495,\"117\":345,\"118\":372,\"119\":564,\"120\":625,\"121\":465,\"122\":365,\"123\":380,\"124\":380,\"125\":378,\"126\":352,\"127\":466,\"128\":342,\"129\":580,\"130\":630,\"131\":530,\"132\":560,\"133\":600,\"134\":650,\"135\":695,\"136\":720,\"137\":515,\"138\":580,\"139\":590,\"140\":600,\"141\":780,\"142\":520,\"143\":550,\"144\":855,\"145\":830,\"146\":415,\"147\":625,\"148\":650,\"149\":550,\"150\":500,\"151\":480,\"152\":425,\"153\":675,\"154\":640,\"155\":725,\"156\":480,\"157\":880,\"158\":660,\"159\":620,\"160\":520,\"161\":680,\"162\":570,\"163\":675,\"164\":615,\"165\":520,\"166\":695,\"167\":685,\"168\":750,\"169\":630,\"170\":510,\"171\":470,\"172\":660,\"173\":740,\"174\":750,\"175\":835,\"176\":840,\"177\":560}}\n"
     ]
    }
   ],
   "source": [
    "# convert object to a JSON String format\n",
    "df22 = df21.to_json()\n",
    "print(type(df22))\n",
    "print(df22)"
   ]
  },
  {
   "cell_type": "code",
   "execution_count": 100,
   "metadata": {},
   "outputs": [
    {
     "name": "stdout",
     "output_type": "stream",
     "text": [
      "<class 'str'>\n",
      "{\"0\":{\"0\":1,\"1\":1,\"2\":1,\"3\":1,\"4\":1,\"5\":1,\"6\":1,\"7\":1,\"8\":1,\"9\":1,\"10\":1,\"11\":1,\"12\":1,\"13\":1,\"14\":1,\"15\":1,\"16\":1,\"17\":1,\"18\":1,\"19\":1,\"20\":1,\"21\":1,\"22\":1,\"23\":1,\"24\":1,\"25\":1,\"26\":1,\"27\":1,\"28\":1,\"29\":1,\"30\":1,\"31\":1,\"32\":1,\"33\":1,\"34\":1,\"35\":1,\"36\":1,\"37\":1,\"38\":1,\"39\":1,\"40\":1,\"41\":1,\"42\":1,\"43\":1,\"44\":1,\"45\":1,\"46\":1,\"47\":1,\"48\":1,\"49\":1,\"50\":1,\"51\":1,\"52\":1,\"53\":1,\"54\":1,\"55\":1,\"56\":1,\"57\":1,\"58\":1,\"59\":2,\"60\":2,\"61\":2,\"62\":2,\"63\":2,\"64\":2,\"65\":2,\"66\":2,\"67\":2,\"68\":2,\"69\":2,\"70\":2,\"71\":2,\"72\":2,\"73\":2,\"74\":2,\"75\":2,\"76\":2,\"77\":2,\"78\":2,\"79\":2,\"80\":2,\"81\":2,\"82\":2,\"83\":2,\"84\":2,\"85\":2,\"86\":2,\"87\":2,\"88\":2,\"89\":2,\"90\":2,\"91\":2,\"92\":2,\"93\":2,\"94\":2,\"95\":2,\"96\":2,\"97\":2,\"98\":2,\"99\":2,\"100\":2,\"101\":2,\"102\":2,\"103\":2,\"104\":2,\"105\":2,\"106\":2,\"107\":2,\"108\":2,\"109\":2,\"110\":2,\"111\":2,\"112\":2,\"113\":2,\"114\":2,\"115\":2,\"116\":2,\"117\":2,\"118\":2,\"119\":2,\"120\":2,\"121\":2,\"122\":2,\"123\":2,\"124\":2,\"125\":2,\"126\":2,\"127\":2,\"128\":2,\"129\":2,\"130\":3,\"131\":3,\"132\":3,\"133\":3,\"134\":3,\"135\":3,\"136\":3,\"137\":3,\"138\":3,\"139\":3,\"140\":3,\"141\":3,\"142\":3,\"143\":3,\"144\":3,\"145\":3,\"146\":3,\"147\":3,\"148\":3,\"149\":3,\"150\":3,\"151\":3,\"152\":3,\"153\":3,\"154\":3,\"155\":3,\"156\":3,\"157\":3,\"158\":3,\"159\":3,\"160\":3,\"161\":3,\"162\":3,\"163\":3,\"164\":3,\"165\":3,\"166\":3,\"167\":3,\"168\":3,\"169\":3,\"170\":3,\"171\":3,\"172\":3,\"173\":3,\"174\":3,\"175\":3,\"176\":3,\"177\":3},\"1\":{\"0\":14.23,\"1\":13.2,\"2\":13.16,\"3\":14.37,\"4\":13.24,\"5\":14.2,\"6\":14.39,\"7\":14.06,\"8\":14.83,\"9\":13.86,\"10\":14.1,\"11\":14.12,\"12\":13.75,\"13\":14.75,\"14\":14.38,\"15\":13.63,\"16\":14.3,\"17\":13.83,\"18\":14.19,\"19\":13.64,\"20\":14.06,\"21\":12.93,\"22\":13.71,\"23\":12.85,\"24\":13.5,\"25\":13.05,\"26\":13.39,\"27\":13.3,\"28\":13.87,\"29\":14.02,\"30\":13.73,\"31\":13.58,\"32\":13.68,\"33\":13.76,\"34\":13.51,\"35\":13.48,\"36\":13.28,\"37\":13.05,\"38\":13.07,\"39\":14.22,\"40\":13.56,\"41\":13.41,\"42\":13.88,\"43\":13.24,\"44\":13.05,\"45\":14.21,\"46\":14.38,\"47\":13.9,\"48\":14.1,\"49\":13.94,\"50\":13.05,\"51\":13.83,\"52\":13.82,\"53\":13.77,\"54\":13.74,\"55\":13.56,\"56\":14.22,\"57\":13.29,\"58\":13.72,\"59\":12.37,\"60\":12.33,\"61\":12.64,\"62\":13.67,\"63\":12.37,\"64\":12.17,\"65\":12.37,\"66\":13.11,\"67\":12.37,\"68\":13.34,\"69\":12.21,\"70\":12.29,\"71\":13.86,\"72\":13.49,\"73\":12.99,\"74\":11.96,\"75\":11.66,\"76\":13.03,\"77\":11.84,\"78\":12.33,\"79\":12.7,\"80\":12.0,\"81\":12.72,\"82\":12.08,\"83\":13.05,\"84\":11.84,\"85\":12.67,\"86\":12.16,\"87\":11.65,\"88\":11.64,\"89\":12.08,\"90\":12.08,\"91\":12.0,\"92\":12.69,\"93\":12.29,\"94\":11.62,\"95\":12.47,\"96\":11.81,\"97\":12.29,\"98\":12.37,\"99\":12.29,\"100\":12.08,\"101\":12.6,\"102\":12.34,\"103\":11.82,\"104\":12.51,\"105\":12.42,\"106\":12.25,\"107\":12.72,\"108\":12.22,\"109\":11.61,\"110\":11.46,\"111\":12.52,\"112\":11.76,\"113\":11.41,\"114\":12.08,\"115\":11.03,\"116\":11.82,\"117\":12.42,\"118\":12.77,\"119\":12.0,\"120\":11.45,\"121\":11.56,\"122\":12.42,\"123\":13.05,\"124\":11.87,\"125\":12.07,\"126\":12.43,\"127\":11.79,\"128\":12.37,\"129\":12.04,\"130\":12.86,\"131\":12.88,\"132\":12.81,\"133\":12.7,\"134\":12.51,\"135\":12.6,\"136\":12.25,\"137\":12.53,\"138\":13.49,\"139\":12.84,\"140\":12.93,\"141\":13.36,\"142\":13.52,\"143\":13.62,\"144\":12.25,\"145\":13.16,\"146\":13.88,\"147\":12.87,\"148\":13.32,\"149\":13.08,\"150\":13.5,\"151\":12.79,\"152\":13.11,\"153\":13.23,\"154\":12.58,\"155\":13.17,\"156\":13.84,\"157\":12.45,\"158\":14.34,\"159\":13.48,\"160\":12.36,\"161\":13.69,\"162\":12.85,\"163\":12.96,\"164\":13.78,\"165\":13.73,\"166\":13.45,\"167\":12.82,\"168\":13.58,\"169\":13.4,\"170\":12.2,\"171\":12.77,\"172\":14.16,\"173\":13.71,\"174\":13.4,\"175\":13.27,\"176\":13.17,\"177\":14.13},\"2\":{\"0\":1.71,\"1\":1.78,\"2\":2.36,\"3\":1.95,\"4\":2.59,\"5\":1.76,\"6\":1.87,\"7\":2.15,\"8\":1.64,\"9\":1.35,\"10\":2.16,\"11\":1.48,\"12\":1.73,\"13\":1.73,\"14\":1.87,\"15\":1.81,\"16\":1.92,\"17\":1.57,\"18\":1.59,\"19\":3.1,\"20\":1.63,\"21\":3.8,\"22\":1.86,\"23\":1.6,\"24\":1.81,\"25\":2.05,\"26\":1.77,\"27\":1.72,\"28\":1.9,\"29\":1.68,\"30\":1.5,\"31\":1.66,\"32\":1.83,\"33\":1.53,\"34\":1.8,\"35\":1.81,\"36\":1.64,\"37\":1.65,\"38\":1.5,\"39\":3.99,\"40\":1.71,\"41\":3.84,\"42\":1.89,\"43\":3.98,\"44\":1.77,\"45\":4.04,\"46\":3.59,\"47\":1.68,\"48\":2.02,\"49\":1.73,\"50\":1.73,\"51\":1.65,\"52\":1.75,\"53\":1.9,\"54\":1.67,\"55\":1.73,\"56\":1.7,\"57\":1.97,\"58\":1.43,\"59\":0.94,\"60\":1.1,\"61\":1.36,\"62\":1.25,\"63\":1.13,\"64\":1.45,\"65\":1.21,\"66\":1.01,\"67\":1.17,\"68\":0.94,\"69\":1.19,\"70\":1.61,\"71\":1.51,\"72\":1.66,\"73\":1.67,\"74\":1.09,\"75\":1.88,\"76\":0.9,\"77\":2.89,\"78\":0.99,\"79\":3.87,\"80\":0.92,\"81\":1.81,\"82\":1.13,\"83\":3.86,\"84\":0.89,\"85\":0.98,\"86\":1.61,\"87\":1.67,\"88\":2.06,\"89\":1.33,\"90\":1.83,\"91\":1.51,\"92\":1.53,\"93\":2.83,\"94\":1.99,\"95\":1.52,\"96\":2.12,\"97\":1.41,\"98\":1.07,\"99\":3.17,\"100\":2.08,\"101\":1.34,\"102\":2.45,\"103\":1.72,\"104\":1.73,\"105\":2.55,\"106\":1.73,\"107\":1.75,\"108\":1.29,\"109\":1.35,\"110\":3.74,\"111\":2.43,\"112\":2.68,\"113\":0.74,\"114\":1.39,\"115\":1.51,\"116\":1.47,\"117\":1.61,\"118\":3.43,\"119\":3.43,\"120\":2.4,\"121\":2.05,\"122\":4.43,\"123\":5.8,\"124\":4.31,\"125\":2.16,\"126\":1.53,\"127\":2.13,\"128\":1.63,\"129\":4.3,\"130\":1.35,\"131\":2.99,\"132\":2.31,\"133\":3.55,\"134\":1.24,\"135\":2.46,\"136\":4.72,\"137\":5.51,\"138\":3.59,\"139\":2.96,\"140\":2.81,\"141\":2.56,\"142\":3.17,\"143\":4.95,\"144\":3.88,\"145\":3.57,\"146\":5.04,\"147\":4.61,\"148\":3.24,\"149\":3.9,\"150\":3.12,\"151\":2.67,\"152\":1.9,\"153\":3.3,\"154\":1.29,\"155\":5.19,\"156\":4.12,\"157\":3.03,\"158\":1.68,\"159\":1.67,\"160\":3.83,\"161\":3.26,\"162\":3.27,\"163\":3.45,\"164\":2.76,\"165\":4.36,\"166\":3.7,\"167\":3.37,\"168\":2.58,\"169\":4.6,\"170\":3.03,\"171\":2.39,\"172\":2.51,\"173\":5.65,\"174\":3.91,\"175\":4.28,\"176\":2.59,\"177\":4.1},\"3\":{\"0\":2.43,\"1\":2.14,\"2\":2.67,\"3\":2.5,\"4\":2.87,\"5\":2.45,\"6\":2.45,\"7\":2.61,\"8\":2.17,\"9\":2.27,\"10\":2.3,\"11\":2.32,\"12\":2.41,\"13\":2.39,\"14\":2.38,\"15\":2.7,\"16\":2.72,\"17\":2.62,\"18\":2.48,\"19\":2.56,\"20\":2.28,\"21\":2.65,\"22\":2.36,\"23\":2.52,\"24\":2.61,\"25\":3.22,\"26\":2.62,\"27\":2.14,\"28\":2.8,\"29\":2.21,\"30\":2.7,\"31\":2.36,\"32\":2.36,\"33\":2.7,\"34\":2.65,\"35\":2.41,\"36\":2.84,\"37\":2.55,\"38\":2.1,\"39\":2.51,\"40\":2.31,\"41\":2.12,\"42\":2.59,\"43\":2.29,\"44\":2.1,\"45\":2.44,\"46\":2.28,\"47\":2.12,\"48\":2.4,\"49\":2.27,\"50\":2.04,\"51\":2.6,\"52\":2.42,\"53\":2.68,\"54\":2.25,\"55\":2.46,\"56\":2.3,\"57\":2.68,\"58\":2.5,\"59\":1.36,\"60\":2.28,\"61\":2.02,\"62\":1.92,\"63\":2.16,\"64\":2.53,\"65\":2.56,\"66\":1.7,\"67\":1.92,\"68\":2.36,\"69\":1.75,\"70\":2.21,\"71\":2.67,\"72\":2.24,\"73\":2.6,\"74\":2.3,\"75\":1.92,\"76\":1.71,\"77\":2.23,\"78\":1.95,\"79\":2.4,\"80\":2.0,\"81\":2.2,\"82\":2.51,\"83\":2.32,\"84\":2.58,\"85\":2.24,\"86\":2.31,\"87\":2.62,\"88\":2.46,\"89\":2.3,\"90\":2.32,\"91\":2.42,\"92\":2.26,\"93\":2.22,\"94\":2.28,\"95\":2.2,\"96\":2.74,\"97\":1.98,\"98\":2.1,\"99\":2.21,\"100\":1.7,\"101\":1.9,\"102\":2.46,\"103\":1.88,\"104\":1.98,\"105\":2.27,\"106\":2.12,\"107\":2.28,\"108\":1.94,\"109\":2.7,\"110\":1.82,\"111\":2.17,\"112\":2.92,\"113\":2.5,\"114\":2.5,\"115\":2.2,\"116\":1.99,\"117\":2.19,\"118\":1.98,\"119\":2.0,\"120\":2.42,\"121\":3.23,\"122\":2.73,\"123\":2.13,\"124\":2.39,\"125\":2.17,\"126\":2.29,\"127\":2.78,\"128\":2.3,\"129\":2.38,\"130\":2.32,\"131\":2.4,\"132\":2.4,\"133\":2.36,\"134\":2.25,\"135\":2.2,\"136\":2.54,\"137\":2.64,\"138\":2.19,\"139\":2.61,\"140\":2.7,\"141\":2.35,\"142\":2.72,\"143\":2.35,\"144\":2.2,\"145\":2.15,\"146\":2.23,\"147\":2.48,\"148\":2.38,\"149\":2.36,\"150\":2.62,\"151\":2.48,\"152\":2.75,\"153\":2.28,\"154\":2.1,\"155\":2.32,\"156\":2.38,\"157\":2.64,\"158\":2.7,\"159\":2.64,\"160\":2.38,\"161\":2.54,\"162\":2.58,\"163\":2.35,\"164\":2.3,\"165\":2.26,\"166\":2.6,\"167\":2.3,\"168\":2.69,\"169\":2.86,\"170\":2.32,\"171\":2.28,\"172\":2.48,\"173\":2.45,\"174\":2.48,\"175\":2.26,\"176\":2.37,\"177\":2.74},\"4\":{\"0\":15.6,\"1\":11.2,\"2\":18.6,\"3\":16.8,\"4\":21.0,\"5\":15.2,\"6\":14.6,\"7\":17.6,\"8\":14.0,\"9\":16.0,\"10\":18.0,\"11\":16.8,\"12\":16.0,\"13\":11.4,\"14\":12.0,\"15\":17.2,\"16\":20.0,\"17\":20.0,\"18\":16.5,\"19\":15.2,\"20\":16.0,\"21\":18.6,\"22\":16.6,\"23\":17.8,\"24\":20.0,\"25\":25.0,\"26\":16.1,\"27\":17.0,\"28\":19.4,\"29\":16.0,\"30\":22.5,\"31\":19.1,\"32\":17.2,\"33\":19.5,\"34\":19.0,\"35\":20.5,\"36\":15.5,\"37\":18.0,\"38\":15.5,\"39\":13.2,\"40\":16.2,\"41\":18.8,\"42\":15.0,\"43\":17.5,\"44\":17.0,\"45\":18.9,\"46\":16.0,\"47\":16.0,\"48\":18.8,\"49\":17.4,\"50\":12.4,\"51\":17.2,\"52\":14.0,\"53\":17.1,\"54\":16.4,\"55\":20.5,\"56\":16.3,\"57\":16.8,\"58\":16.7,\"59\":10.6,\"60\":16.0,\"61\":16.8,\"62\":18.0,\"63\":19.0,\"64\":19.0,\"65\":18.1,\"66\":15.0,\"67\":19.6,\"68\":17.0,\"69\":16.8,\"70\":20.4,\"71\":25.0,\"72\":24.0,\"73\":30.0,\"74\":21.0,\"75\":16.0,\"76\":16.0,\"77\":18.0,\"78\":14.8,\"79\":23.0,\"80\":19.0,\"81\":18.8,\"82\":24.0,\"83\":22.5,\"84\":18.0,\"85\":18.0,\"86\":22.8,\"87\":26.0,\"88\":21.6,\"89\":23.6,\"90\":18.5,\"91\":22.0,\"92\":20.7,\"93\":18.0,\"94\":18.0,\"95\":19.0,\"96\":21.5,\"97\":16.0,\"98\":18.5,\"99\":18.0,\"100\":17.5,\"101\":18.5,\"102\":21.0,\"103\":19.5,\"104\":20.5,\"105\":22.0,\"106\":19.0,\"107\":22.5,\"108\":19.0,\"109\":20.0,\"110\":19.5,\"111\":21.0,\"112\":20.0,\"113\":21.0,\"114\":22.5,\"115\":21.5,\"116\":20.8,\"117\":22.5,\"118\":16.0,\"119\":19.0,\"120\":20.0,\"121\":28.5,\"122\":26.5,\"123\":21.5,\"124\":21.0,\"125\":21.0,\"126\":21.5,\"127\":28.5,\"128\":24.5,\"129\":22.0,\"130\":18.0,\"131\":20.0,\"132\":24.0,\"133\":21.5,\"134\":17.5,\"135\":18.5,\"136\":21.0,\"137\":25.0,\"138\":19.5,\"139\":24.0,\"140\":21.0,\"141\":20.0,\"142\":23.5,\"143\":20.0,\"144\":18.5,\"145\":21.0,\"146\":20.0,\"147\":21.5,\"148\":21.5,\"149\":21.5,\"150\":24.0,\"151\":22.0,\"152\":25.5,\"153\":18.5,\"154\":20.0,\"155\":22.0,\"156\":19.5,\"157\":27.0,\"158\":25.0,\"159\":22.5,\"160\":21.0,\"161\":20.0,\"162\":22.0,\"163\":18.5,\"164\":22.0,\"165\":22.5,\"166\":23.0,\"167\":19.5,\"168\":24.5,\"169\":25.0,\"170\":19.0,\"171\":19.5,\"172\":20.0,\"173\":20.5,\"174\":23.0,\"175\":20.0,\"176\":20.0,\"177\":24.5},\"5\":{\"0\":127,\"1\":100,\"2\":101,\"3\":113,\"4\":118,\"5\":112,\"6\":96,\"7\":121,\"8\":97,\"9\":98,\"10\":105,\"11\":95,\"12\":89,\"13\":91,\"14\":102,\"15\":112,\"16\":120,\"17\":115,\"18\":108,\"19\":116,\"20\":126,\"21\":102,\"22\":101,\"23\":95,\"24\":96,\"25\":124,\"26\":93,\"27\":94,\"28\":107,\"29\":96,\"30\":101,\"31\":106,\"32\":104,\"33\":132,\"34\":110,\"35\":100,\"36\":110,\"37\":98,\"38\":98,\"39\":128,\"40\":117,\"41\":90,\"42\":101,\"43\":103,\"44\":107,\"45\":111,\"46\":102,\"47\":101,\"48\":103,\"49\":108,\"50\":92,\"51\":94,\"52\":111,\"53\":115,\"54\":118,\"55\":116,\"56\":118,\"57\":102,\"58\":108,\"59\":88,\"60\":101,\"61\":100,\"62\":94,\"63\":87,\"64\":104,\"65\":98,\"66\":78,\"67\":78,\"68\":110,\"69\":151,\"70\":103,\"71\":86,\"72\":87,\"73\":139,\"74\":101,\"75\":97,\"76\":86,\"77\":112,\"78\":136,\"79\":101,\"80\":86,\"81\":86,\"82\":78,\"83\":85,\"84\":94,\"85\":99,\"86\":90,\"87\":88,\"88\":84,\"89\":70,\"90\":81,\"91\":86,\"92\":80,\"93\":88,\"94\":98,\"95\":162,\"96\":134,\"97\":85,\"98\":88,\"99\":88,\"100\":97,\"101\":88,\"102\":98,\"103\":86,\"104\":85,\"105\":90,\"106\":80,\"107\":84,\"108\":92,\"109\":94,\"110\":107,\"111\":88,\"112\":103,\"113\":88,\"114\":84,\"115\":85,\"116\":86,\"117\":108,\"118\":80,\"119\":87,\"120\":96,\"121\":119,\"122\":102,\"123\":86,\"124\":82,\"125\":85,\"126\":86,\"127\":92,\"128\":88,\"129\":80,\"130\":122,\"131\":104,\"132\":98,\"133\":106,\"134\":85,\"135\":94,\"136\":89,\"137\":96,\"138\":88,\"139\":101,\"140\":96,\"141\":89,\"142\":97,\"143\":92,\"144\":112,\"145\":102,\"146\":80,\"147\":86,\"148\":92,\"149\":113,\"150\":123,\"151\":112,\"152\":116,\"153\":98,\"154\":103,\"155\":93,\"156\":89,\"157\":97,\"158\":98,\"159\":89,\"160\":88,\"161\":107,\"162\":106,\"163\":106,\"164\":90,\"165\":88,\"166\":111,\"167\":88,\"168\":105,\"169\":112,\"170\":96,\"171\":86,\"172\":91,\"173\":95,\"174\":102,\"175\":120,\"176\":120,\"177\":96},\"6\":{\"0\":2.8,\"1\":2.65,\"2\":2.8,\"3\":3.85,\"4\":2.8,\"5\":3.27,\"6\":2.5,\"7\":2.6,\"8\":2.8,\"9\":2.98,\"10\":2.95,\"11\":2.2,\"12\":2.6,\"13\":3.1,\"14\":3.3,\"15\":2.85,\"16\":2.8,\"17\":2.95,\"18\":3.3,\"19\":2.7,\"20\":3.0,\"21\":2.41,\"22\":2.61,\"23\":2.48,\"24\":2.53,\"25\":2.63,\"26\":2.85,\"27\":2.4,\"28\":2.95,\"29\":2.65,\"30\":3.0,\"31\":2.86,\"32\":2.42,\"33\":2.95,\"34\":2.35,\"35\":2.7,\"36\":2.6,\"37\":2.45,\"38\":2.4,\"39\":3.0,\"40\":3.15,\"41\":2.45,\"42\":3.25,\"43\":2.64,\"44\":3.0,\"45\":2.85,\"46\":3.25,\"47\":3.1,\"48\":2.75,\"49\":2.88,\"50\":2.72,\"51\":2.45,\"52\":3.88,\"53\":3.0,\"54\":2.6,\"55\":2.96,\"56\":3.2,\"57\":3.0,\"58\":3.4,\"59\":1.98,\"60\":2.05,\"61\":2.02,\"62\":2.1,\"63\":3.5,\"64\":1.89,\"65\":2.42,\"66\":2.98,\"67\":2.11,\"68\":2.53,\"69\":1.85,\"70\":1.1,\"71\":2.95,\"72\":1.88,\"73\":3.3,\"74\":3.38,\"75\":1.61,\"76\":1.95,\"77\":1.72,\"78\":1.9,\"79\":2.83,\"80\":2.42,\"81\":2.2,\"82\":2.0,\"83\":1.65,\"84\":2.2,\"85\":2.2,\"86\":1.78,\"87\":1.92,\"88\":1.95,\"89\":2.2,\"90\":1.6,\"91\":1.45,\"92\":1.38,\"93\":2.45,\"94\":3.02,\"95\":2.5,\"96\":1.6,\"97\":2.55,\"98\":3.52,\"99\":2.85,\"100\":2.23,\"101\":1.45,\"102\":2.56,\"103\":2.5,\"104\":2.2,\"105\":1.68,\"106\":1.65,\"107\":1.38,\"108\":2.36,\"109\":2.74,\"110\":3.18,\"111\":2.55,\"112\":1.75,\"113\":2.48,\"114\":2.56,\"115\":2.46,\"116\":1.98,\"117\":2.0,\"118\":1.63,\"119\":2.0,\"120\":2.9,\"121\":3.18,\"122\":2.2,\"123\":2.62,\"124\":2.86,\"125\":2.6,\"126\":2.74,\"127\":2.13,\"128\":2.22,\"129\":2.1,\"130\":1.51,\"131\":1.3,\"132\":1.15,\"133\":1.7,\"134\":2.0,\"135\":1.62,\"136\":1.38,\"137\":1.79,\"138\":1.62,\"139\":2.32,\"140\":1.54,\"141\":1.4,\"142\":1.55,\"143\":2.0,\"144\":1.38,\"145\":1.5,\"146\":0.98,\"147\":1.7,\"148\":1.93,\"149\":1.41,\"150\":1.4,\"151\":1.48,\"152\":2.2,\"153\":1.8,\"154\":1.48,\"155\":1.74,\"156\":1.8,\"157\":1.9,\"158\":2.8,\"159\":2.6,\"160\":2.3,\"161\":1.83,\"162\":1.65,\"163\":1.39,\"164\":1.35,\"165\":1.28,\"166\":1.7,\"167\":1.48,\"168\":1.55,\"169\":1.98,\"170\":1.25,\"171\":1.39,\"172\":1.68,\"173\":1.68,\"174\":1.8,\"175\":1.59,\"176\":1.65,\"177\":2.05},\"7\":{\"0\":3.06,\"1\":2.76,\"2\":3.24,\"3\":3.49,\"4\":2.69,\"5\":3.39,\"6\":2.52,\"7\":2.51,\"8\":2.98,\"9\":3.15,\"10\":3.32,\"11\":2.43,\"12\":2.76,\"13\":3.69,\"14\":3.64,\"15\":2.91,\"16\":3.14,\"17\":3.4,\"18\":3.93,\"19\":3.03,\"20\":3.17,\"21\":2.41,\"22\":2.88,\"23\":2.37,\"24\":2.61,\"25\":2.68,\"26\":2.94,\"27\":2.19,\"28\":2.97,\"29\":2.33,\"30\":3.25,\"31\":3.19,\"32\":2.69,\"33\":2.74,\"34\":2.53,\"35\":2.98,\"36\":2.68,\"37\":2.43,\"38\":2.64,\"39\":3.04,\"40\":3.29,\"41\":2.68,\"42\":3.56,\"43\":2.63,\"44\":3.0,\"45\":2.65,\"46\":3.17,\"47\":3.39,\"48\":2.92,\"49\":3.54,\"50\":3.27,\"51\":2.99,\"52\":3.74,\"53\":2.79,\"54\":2.9,\"55\":2.78,\"56\":3.0,\"57\":3.23,\"58\":3.67,\"59\":0.57,\"60\":1.09,\"61\":1.41,\"62\":1.79,\"63\":3.1,\"64\":1.75,\"65\":2.65,\"66\":3.18,\"67\":2.0,\"68\":1.3,\"69\":1.28,\"70\":1.02,\"71\":2.86,\"72\":1.84,\"73\":2.89,\"74\":2.14,\"75\":1.57,\"76\":2.03,\"77\":1.32,\"78\":1.85,\"79\":2.55,\"80\":2.26,\"81\":2.53,\"82\":1.58,\"83\":1.59,\"84\":2.21,\"85\":1.94,\"86\":1.69,\"87\":1.61,\"88\":1.69,\"89\":1.59,\"90\":1.5,\"91\":1.25,\"92\":1.46,\"93\":2.25,\"94\":2.26,\"95\":2.27,\"96\":0.99,\"97\":2.5,\"98\":3.75,\"99\":2.99,\"100\":2.17,\"101\":1.36,\"102\":2.11,\"103\":1.64,\"104\":1.92,\"105\":1.84,\"106\":2.03,\"107\":1.76,\"108\":2.04,\"109\":2.92,\"110\":2.58,\"111\":2.27,\"112\":2.03,\"113\":2.01,\"114\":2.29,\"115\":2.17,\"116\":1.6,\"117\":2.09,\"118\":1.25,\"119\":1.64,\"120\":2.79,\"121\":5.08,\"122\":2.13,\"123\":2.65,\"124\":3.03,\"125\":2.65,\"126\":3.15,\"127\":2.24,\"128\":2.45,\"129\":1.75,\"130\":1.25,\"131\":1.22,\"132\":1.09,\"133\":1.2,\"134\":0.58,\"135\":0.66,\"136\":0.47,\"137\":0.6,\"138\":0.48,\"139\":0.6,\"140\":0.5,\"141\":0.5,\"142\":0.52,\"143\":0.8,\"144\":0.78,\"145\":0.55,\"146\":0.34,\"147\":0.65,\"148\":0.76,\"149\":1.39,\"150\":1.57,\"151\":1.36,\"152\":1.28,\"153\":0.83,\"154\":0.58,\"155\":0.63,\"156\":0.83,\"157\":0.58,\"158\":1.31,\"159\":1.1,\"160\":0.92,\"161\":0.56,\"162\":0.6,\"163\":0.7,\"164\":0.68,\"165\":0.47,\"166\":0.92,\"167\":0.66,\"168\":0.84,\"169\":0.96,\"170\":0.49,\"171\":0.51,\"172\":0.7,\"173\":0.61,\"174\":0.75,\"175\":0.69,\"176\":0.68,\"177\":0.76},\"8\":{\"0\":0.28,\"1\":0.26,\"2\":0.3,\"3\":0.24,\"4\":0.39,\"5\":0.34,\"6\":0.3,\"7\":0.31,\"8\":0.29,\"9\":0.22,\"10\":0.22,\"11\":0.26,\"12\":0.29,\"13\":0.43,\"14\":0.29,\"15\":0.3,\"16\":0.33,\"17\":0.4,\"18\":0.32,\"19\":0.17,\"20\":0.24,\"21\":0.25,\"22\":0.27,\"23\":0.26,\"24\":0.28,\"25\":0.47,\"26\":0.34,\"27\":0.27,\"28\":0.37,\"29\":0.26,\"30\":0.29,\"31\":0.22,\"32\":0.42,\"33\":0.5,\"34\":0.29,\"35\":0.26,\"36\":0.34,\"37\":0.29,\"38\":0.28,\"39\":0.2,\"40\":0.34,\"41\":0.27,\"42\":0.17,\"43\":0.32,\"44\":0.28,\"45\":0.3,\"46\":0.27,\"47\":0.21,\"48\":0.32,\"49\":0.32,\"50\":0.17,\"51\":0.22,\"52\":0.32,\"53\":0.39,\"54\":0.21,\"55\":0.2,\"56\":0.26,\"57\":0.31,\"58\":0.19,\"59\":0.28,\"60\":0.63,\"61\":0.53,\"62\":0.32,\"63\":0.19,\"64\":0.45,\"65\":0.37,\"66\":0.26,\"67\":0.27,\"68\":0.55,\"69\":0.14,\"70\":0.37,\"71\":0.21,\"72\":0.27,\"73\":0.21,\"74\":0.13,\"75\":0.34,\"76\":0.24,\"77\":0.43,\"78\":0.35,\"79\":0.43,\"80\":0.3,\"81\":0.26,\"82\":0.4,\"83\":0.61,\"84\":0.22,\"85\":0.3,\"86\":0.43,\"87\":0.4,\"88\":0.48,\"89\":0.42,\"90\":0.52,\"91\":0.5,\"92\":0.58,\"93\":0.25,\"94\":0.17,\"95\":0.32,\"96\":0.14,\"97\":0.29,\"98\":0.24,\"99\":0.45,\"100\":0.26,\"101\":0.29,\"102\":0.34,\"103\":0.37,\"104\":0.32,\"105\":0.66,\"106\":0.37,\"107\":0.48,\"108\":0.39,\"109\":0.29,\"110\":0.24,\"111\":0.26,\"112\":0.6,\"113\":0.42,\"114\":0.43,\"115\":0.52,\"116\":0.3,\"117\":0.34,\"118\":0.43,\"119\":0.37,\"120\":0.32,\"121\":0.47,\"122\":0.43,\"123\":0.3,\"124\":0.21,\"125\":0.37,\"126\":0.39,\"127\":0.58,\"128\":0.4,\"129\":0.42,\"130\":0.21,\"131\":0.24,\"132\":0.27,\"133\":0.17,\"134\":0.6,\"135\":0.63,\"136\":0.53,\"137\":0.63,\"138\":0.58,\"139\":0.53,\"140\":0.53,\"141\":0.37,\"142\":0.5,\"143\":0.47,\"144\":0.29,\"145\":0.43,\"146\":0.4,\"147\":0.47,\"148\":0.45,\"149\":0.34,\"150\":0.22,\"151\":0.24,\"152\":0.26,\"153\":0.61,\"154\":0.53,\"155\":0.61,\"156\":0.48,\"157\":0.63,\"158\":0.53,\"159\":0.52,\"160\":0.5,\"161\":0.5,\"162\":0.6,\"163\":0.4,\"164\":0.41,\"165\":0.52,\"166\":0.43,\"167\":0.4,\"168\":0.39,\"169\":0.27,\"170\":0.4,\"171\":0.48,\"172\":0.44,\"173\":0.52,\"174\":0.43,\"175\":0.43,\"176\":0.53,\"177\":0.56},\"9\":{\"0\":2.29,\"1\":1.28,\"2\":2.81,\"3\":2.18,\"4\":1.82,\"5\":1.97,\"6\":1.98,\"7\":1.25,\"8\":1.98,\"9\":1.85,\"10\":2.38,\"11\":1.57,\"12\":1.81,\"13\":2.81,\"14\":2.96,\"15\":1.46,\"16\":1.97,\"17\":1.72,\"18\":1.86,\"19\":1.66,\"20\":2.1,\"21\":1.98,\"22\":1.69,\"23\":1.46,\"24\":1.66,\"25\":1.92,\"26\":1.45,\"27\":1.35,\"28\":1.76,\"29\":1.98,\"30\":2.38,\"31\":1.95,\"32\":1.97,\"33\":1.35,\"34\":1.54,\"35\":1.86,\"36\":1.36,\"37\":1.44,\"38\":1.37,\"39\":2.08,\"40\":2.34,\"41\":1.48,\"42\":1.7,\"43\":1.66,\"44\":2.03,\"45\":1.25,\"46\":2.19,\"47\":2.14,\"48\":2.38,\"49\":2.08,\"50\":2.91,\"51\":2.29,\"52\":1.87,\"53\":1.68,\"54\":1.62,\"55\":2.45,\"56\":2.03,\"57\":1.66,\"58\":2.04,\"59\":0.42,\"60\":0.41,\"61\":0.62,\"62\":0.73,\"63\":1.87,\"64\":1.03,\"65\":2.08,\"66\":2.28,\"67\":1.04,\"68\":0.42,\"69\":2.5,\"70\":1.46,\"71\":1.87,\"72\":1.03,\"73\":1.96,\"74\":1.65,\"75\":1.15,\"76\":1.46,\"77\":0.95,\"78\":2.76,\"79\":1.95,\"80\":1.43,\"81\":1.77,\"82\":1.4,\"83\":1.62,\"84\":2.35,\"85\":1.46,\"86\":1.56,\"87\":1.34,\"88\":1.35,\"89\":1.38,\"90\":1.64,\"91\":1.63,\"92\":1.62,\"93\":1.99,\"94\":1.35,\"95\":3.28,\"96\":1.56,\"97\":1.77,\"98\":1.95,\"99\":2.81,\"100\":1.4,\"101\":1.35,\"102\":1.31,\"103\":1.42,\"104\":1.48,\"105\":1.42,\"106\":1.63,\"107\":1.63,\"108\":2.08,\"109\":2.49,\"110\":3.58,\"111\":1.22,\"112\":1.05,\"113\":1.44,\"114\":1.04,\"115\":2.01,\"116\":1.53,\"117\":1.61,\"118\":0.83,\"119\":1.87,\"120\":1.83,\"121\":1.87,\"122\":1.71,\"123\":2.01,\"124\":2.91,\"125\":1.35,\"126\":1.77,\"127\":1.76,\"128\":1.9,\"129\":1.35,\"130\":0.94,\"131\":0.83,\"132\":0.83,\"133\":0.84,\"134\":1.25,\"135\":0.94,\"136\":0.8,\"137\":1.1,\"138\":0.88,\"139\":0.81,\"140\":0.75,\"141\":0.64,\"142\":0.55,\"143\":1.02,\"144\":1.14,\"145\":1.3,\"146\":0.68,\"147\":0.86,\"148\":1.25,\"149\":1.14,\"150\":1.25,\"151\":1.26,\"152\":1.56,\"153\":1.87,\"154\":1.4,\"155\":1.55,\"156\":1.56,\"157\":1.14,\"158\":2.7,\"159\":2.29,\"160\":1.04,\"161\":0.8,\"162\":0.96,\"163\":0.94,\"164\":1.03,\"165\":1.15,\"166\":1.46,\"167\":0.97,\"168\":1.54,\"169\":1.11,\"170\":0.73,\"171\":0.64,\"172\":1.24,\"173\":1.06,\"174\":1.41,\"175\":1.35,\"176\":1.46,\"177\":1.35},\"10\":{\"0\":5.64,\"1\":4.38,\"2\":5.68,\"3\":7.8,\"4\":4.32,\"5\":6.75,\"6\":5.25,\"7\":5.05,\"8\":5.2,\"9\":7.22,\"10\":5.75,\"11\":5.0,\"12\":5.6,\"13\":5.4,\"14\":7.5,\"15\":7.3,\"16\":6.2,\"17\":6.6,\"18\":8.7,\"19\":5.1,\"20\":5.65,\"21\":4.5,\"22\":3.8,\"23\":3.93,\"24\":3.52,\"25\":3.58,\"26\":4.8,\"27\":3.95,\"28\":4.5,\"29\":4.7,\"30\":5.7,\"31\":6.9,\"32\":3.84,\"33\":5.4,\"34\":4.2,\"35\":5.1,\"36\":4.6,\"37\":4.25,\"38\":3.7,\"39\":5.1,\"40\":6.13,\"41\":4.28,\"42\":5.43,\"43\":4.36,\"44\":5.04,\"45\":5.24,\"46\":4.9,\"47\":6.1,\"48\":6.2,\"49\":8.9,\"50\":7.2,\"51\":5.6,\"52\":7.05,\"53\":6.3,\"54\":5.85,\"55\":6.25,\"56\":6.38,\"57\":6.0,\"58\":6.8,\"59\":1.95,\"60\":3.27,\"61\":5.75,\"62\":3.8,\"63\":4.45,\"64\":2.95,\"65\":4.6,\"66\":5.3,\"67\":4.68,\"68\":3.17,\"69\":2.85,\"70\":3.05,\"71\":3.38,\"72\":3.74,\"73\":3.35,\"74\":3.21,\"75\":3.8,\"76\":4.6,\"77\":2.65,\"78\":3.4,\"79\":2.57,\"80\":2.5,\"81\":3.9,\"82\":2.2,\"83\":4.8,\"84\":3.05,\"85\":2.62,\"86\":2.45,\"87\":2.6,\"88\":2.8,\"89\":1.74,\"90\":2.4,\"91\":3.6,\"92\":3.05,\"93\":2.15,\"94\":3.25,\"95\":2.6,\"96\":2.5,\"97\":2.9,\"98\":4.5,\"99\":2.3,\"100\":3.3,\"101\":2.45,\"102\":2.8,\"103\":2.06,\"104\":2.94,\"105\":2.7,\"106\":3.4,\"107\":3.3,\"108\":2.7,\"109\":2.65,\"110\":2.9,\"111\":2.0,\"112\":3.8,\"113\":3.08,\"114\":2.9,\"115\":1.9,\"116\":1.95,\"117\":2.06,\"118\":3.4,\"119\":1.28,\"120\":3.25,\"121\":6.0,\"122\":2.08,\"123\":2.6,\"124\":2.8,\"125\":2.76,\"126\":3.94,\"127\":3.0,\"128\":2.12,\"129\":2.6,\"130\":4.1,\"131\":5.4,\"132\":5.7,\"133\":5.0,\"134\":5.45,\"135\":7.1,\"136\":3.85,\"137\":5.0,\"138\":5.7,\"139\":4.92,\"140\":4.6,\"141\":5.6,\"142\":4.35,\"143\":4.4,\"144\":8.21,\"145\":4.0,\"146\":4.9,\"147\":7.65,\"148\":8.42,\"149\":9.4,\"150\":8.6,\"151\":10.8,\"152\":7.1,\"153\":10.52,\"154\":7.6,\"155\":7.9,\"156\":9.01,\"157\":7.5,\"158\":13.0,\"159\":11.75,\"160\":7.65,\"161\":5.88,\"162\":5.58,\"163\":5.28,\"164\":9.58,\"165\":6.62,\"166\":10.68,\"167\":10.26,\"168\":8.66,\"169\":8.5,\"170\":5.5,\"171\":9.899999,\"172\":9.7,\"173\":7.7,\"174\":7.3,\"175\":10.2,\"176\":9.3,\"177\":9.2},\"11\":{\"0\":1.04,\"1\":1.05,\"2\":1.03,\"3\":0.86,\"4\":1.04,\"5\":1.05,\"6\":1.02,\"7\":1.06,\"8\":1.08,\"9\":1.01,\"10\":1.25,\"11\":1.17,\"12\":1.15,\"13\":1.25,\"14\":1.2,\"15\":1.28,\"16\":1.07,\"17\":1.13,\"18\":1.23,\"19\":0.96,\"20\":1.09,\"21\":1.03,\"22\":1.11,\"23\":1.09,\"24\":1.12,\"25\":1.13,\"26\":0.92,\"27\":1.02,\"28\":1.25,\"29\":1.04,\"30\":1.19,\"31\":1.09,\"32\":1.23,\"33\":1.25,\"34\":1.1,\"35\":1.04,\"36\":1.09,\"37\":1.12,\"38\":1.18,\"39\":0.89,\"40\":0.95,\"41\":0.91,\"42\":0.88,\"43\":0.82,\"44\":0.88,\"45\":0.87,\"46\":1.04,\"47\":0.91,\"48\":1.07,\"49\":1.12,\"50\":1.12,\"51\":1.24,\"52\":1.01,\"53\":1.13,\"54\":0.92,\"55\":0.98,\"56\":0.94,\"57\":1.07,\"58\":0.89,\"59\":1.05,\"60\":1.25,\"61\":0.98,\"62\":1.23,\"63\":1.22,\"64\":1.45,\"65\":1.19,\"66\":1.12,\"67\":1.12,\"68\":1.02,\"69\":1.28,\"70\":0.906,\"71\":1.36,\"72\":0.98,\"73\":1.31,\"74\":0.99,\"75\":1.23,\"76\":1.19,\"77\":0.96,\"78\":1.06,\"79\":1.19,\"80\":1.38,\"81\":1.16,\"82\":1.31,\"83\":0.84,\"84\":0.79,\"85\":1.23,\"86\":1.33,\"87\":1.36,\"88\":1.0,\"89\":1.07,\"90\":1.08,\"91\":1.05,\"92\":0.96,\"93\":1.15,\"94\":1.16,\"95\":1.16,\"96\":0.95,\"97\":1.23,\"98\":1.04,\"99\":1.42,\"100\":1.27,\"101\":1.04,\"102\":0.8,\"103\":0.94,\"104\":1.04,\"105\":0.86,\"106\":1.0,\"107\":0.88,\"108\":0.86,\"109\":0.96,\"110\":0.75,\"111\":0.9,\"112\":1.23,\"113\":1.1,\"114\":0.93,\"115\":1.71,\"116\":0.95,\"117\":1.06,\"118\":0.7,\"119\":0.93,\"120\":0.8,\"121\":0.93,\"122\":0.92,\"123\":0.73,\"124\":0.75,\"125\":0.86,\"126\":0.69,\"127\":0.97,\"128\":0.89,\"129\":0.79,\"130\":0.76,\"131\":0.74,\"132\":0.66,\"133\":0.78,\"134\":0.75,\"135\":0.73,\"136\":0.75,\"137\":0.82,\"138\":0.81,\"139\":0.89,\"140\":0.77,\"141\":0.7,\"142\":0.89,\"143\":0.91,\"144\":0.65,\"145\":0.6,\"146\":0.58,\"147\":0.54,\"148\":0.55,\"149\":0.57,\"150\":0.59,\"151\":0.48,\"152\":0.61,\"153\":0.56,\"154\":0.58,\"155\":0.6,\"156\":0.57,\"157\":0.67,\"158\":0.57,\"159\":0.57,\"160\":0.56,\"161\":0.96,\"162\":0.87,\"163\":0.68,\"164\":0.7,\"165\":0.78,\"166\":0.85,\"167\":0.72,\"168\":0.74,\"169\":0.67,\"170\":0.66,\"171\":0.57,\"172\":0.62,\"173\":0.64,\"174\":0.7,\"175\":0.59,\"176\":0.6,\"177\":0.61},\"12\":{\"0\":3.92,\"1\":3.4,\"2\":3.17,\"3\":3.45,\"4\":2.93,\"5\":2.85,\"6\":3.58,\"7\":3.58,\"8\":2.85,\"9\":3.55,\"10\":3.17,\"11\":2.82,\"12\":2.9,\"13\":2.73,\"14\":3.0,\"15\":2.88,\"16\":2.65,\"17\":2.57,\"18\":2.82,\"19\":3.36,\"20\":3.71,\"21\":3.52,\"22\":4.0,\"23\":3.63,\"24\":3.82,\"25\":3.2,\"26\":3.22,\"27\":2.77,\"28\":3.4,\"29\":3.59,\"30\":2.71,\"31\":2.88,\"32\":2.87,\"33\":3.0,\"34\":2.87,\"35\":3.47,\"36\":2.78,\"37\":2.51,\"38\":2.69,\"39\":3.53,\"40\":3.38,\"41\":3.0,\"42\":3.56,\"43\":3.0,\"44\":3.35,\"45\":3.33,\"46\":3.44,\"47\":3.33,\"48\":2.75,\"49\":3.1,\"50\":2.91,\"51\":3.37,\"52\":3.26,\"53\":2.93,\"54\":3.2,\"55\":3.03,\"56\":3.31,\"57\":2.84,\"58\":2.87,\"59\":1.82,\"60\":1.67,\"61\":1.59,\"62\":2.46,\"63\":2.87,\"64\":2.23,\"65\":2.3,\"66\":3.18,\"67\":3.48,\"68\":1.93,\"69\":3.07,\"70\":1.82,\"71\":3.16,\"72\":2.78,\"73\":3.5,\"74\":3.13,\"75\":2.14,\"76\":2.48,\"77\":2.52,\"78\":2.31,\"79\":3.13,\"80\":3.12,\"81\":3.14,\"82\":2.72,\"83\":2.01,\"84\":3.08,\"85\":3.16,\"86\":2.26,\"87\":3.21,\"88\":2.75,\"89\":3.21,\"90\":2.27,\"91\":2.65,\"92\":2.06,\"93\":3.3,\"94\":2.96,\"95\":2.63,\"96\":2.26,\"97\":2.74,\"98\":2.77,\"99\":2.83,\"100\":2.96,\"101\":2.77,\"102\":3.38,\"103\":2.44,\"104\":3.57,\"105\":3.3,\"106\":3.17,\"107\":2.42,\"108\":3.02,\"109\":3.26,\"110\":2.81,\"111\":2.78,\"112\":2.5,\"113\":2.31,\"114\":3.19,\"115\":2.87,\"116\":3.33,\"117\":2.96,\"118\":2.12,\"119\":3.05,\"120\":3.39,\"121\":3.69,\"122\":3.12,\"123\":3.1,\"124\":3.64,\"125\":3.28,\"126\":2.84,\"127\":2.44,\"128\":2.78,\"129\":2.57,\"130\":1.29,\"131\":1.42,\"132\":1.36,\"133\":1.29,\"134\":1.51,\"135\":1.58,\"136\":1.27,\"137\":1.69,\"138\":1.82,\"139\":2.15,\"140\":2.31,\"141\":2.47,\"142\":2.06,\"143\":2.05,\"144\":2.0,\"145\":1.68,\"146\":1.33,\"147\":1.86,\"148\":1.62,\"149\":1.33,\"150\":1.3,\"151\":1.47,\"152\":1.33,\"153\":1.51,\"154\":1.55,\"155\":1.48,\"156\":1.64,\"157\":1.73,\"158\":1.96,\"159\":1.78,\"160\":1.58,\"161\":1.82,\"162\":2.11,\"163\":1.75,\"164\":1.68,\"165\":1.75,\"166\":1.56,\"167\":1.75,\"168\":1.8,\"169\":1.92,\"170\":1.83,\"171\":1.63,\"172\":1.71,\"173\":1.74,\"174\":1.56,\"175\":1.56,\"176\":1.62,\"177\":1.6},\"13\":{\"0\":1065,\"1\":1050,\"2\":1185,\"3\":1480,\"4\":735,\"5\":1450,\"6\":1290,\"7\":1295,\"8\":1045,\"9\":1045,\"10\":1510,\"11\":1280,\"12\":1320,\"13\":1150,\"14\":1547,\"15\":1310,\"16\":1280,\"17\":1130,\"18\":1680,\"19\":845,\"20\":780,\"21\":770,\"22\":1035,\"23\":1015,\"24\":845,\"25\":830,\"26\":1195,\"27\":1285,\"28\":915,\"29\":1035,\"30\":1285,\"31\":1515,\"32\":990,\"33\":1235,\"34\":1095,\"35\":920,\"36\":880,\"37\":1105,\"38\":1020,\"39\":760,\"40\":795,\"41\":1035,\"42\":1095,\"43\":680,\"44\":885,\"45\":1080,\"46\":1065,\"47\":985,\"48\":1060,\"49\":1260,\"50\":1150,\"51\":1265,\"52\":1190,\"53\":1375,\"54\":1060,\"55\":1120,\"56\":970,\"57\":1270,\"58\":1285,\"59\":520,\"60\":680,\"61\":450,\"62\":630,\"63\":420,\"64\":355,\"65\":678,\"66\":502,\"67\":510,\"68\":750,\"69\":718,\"70\":870,\"71\":410,\"72\":472,\"73\":985,\"74\":886,\"75\":428,\"76\":392,\"77\":500,\"78\":750,\"79\":463,\"80\":278,\"81\":714,\"82\":630,\"83\":515,\"84\":520,\"85\":450,\"86\":495,\"87\":562,\"88\":680,\"89\":625,\"90\":480,\"91\":450,\"92\":495,\"93\":290,\"94\":345,\"95\":937,\"96\":625,\"97\":428,\"98\":660,\"99\":406,\"100\":710,\"101\":562,\"102\":438,\"103\":415,\"104\":672,\"105\":315,\"106\":510,\"107\":488,\"108\":312,\"109\":680,\"110\":562,\"111\":325,\"112\":607,\"113\":434,\"114\":385,\"115\":407,\"116\":495,\"117\":345,\"118\":372,\"119\":564,\"120\":625,\"121\":465,\"122\":365,\"123\":380,\"124\":380,\"125\":378,\"126\":352,\"127\":466,\"128\":342,\"129\":580,\"130\":630,\"131\":530,\"132\":560,\"133\":600,\"134\":650,\"135\":695,\"136\":720,\"137\":515,\"138\":580,\"139\":590,\"140\":600,\"141\":780,\"142\":520,\"143\":550,\"144\":855,\"145\":830,\"146\":415,\"147\":625,\"148\":650,\"149\":550,\"150\":500,\"151\":480,\"152\":425,\"153\":675,\"154\":640,\"155\":725,\"156\":480,\"157\":880,\"158\":660,\"159\":620,\"160\":520,\"161\":680,\"162\":570,\"163\":675,\"164\":615,\"165\":520,\"166\":695,\"167\":685,\"168\":750,\"169\":630,\"170\":510,\"171\":470,\"172\":660,\"173\":740,\"174\":750,\"175\":835,\"176\":840,\"177\":560}}\n"
     ]
    }
   ],
   "source": [
    "# convert object to a JSON String format\n",
    "df23 = df21.to_json(index=True)\n",
    "print(type(df23))\n",
    "print(df23)"
   ]
  },
  {
   "cell_type": "code",
   "execution_count": 101,
   "metadata": {},
   "outputs": [
    {
     "name": "stdout",
     "output_type": "stream",
     "text": [
      "<class 'str'>\n",
      "[{\"0\":1,\"1\":14.23,\"2\":1.71,\"3\":2.43,\"4\":15.6,\"5\":127,\"6\":2.8,\"7\":3.06,\"8\":0.28,\"9\":2.29,\"10\":5.64,\"11\":1.04,\"12\":3.92,\"13\":1065},{\"0\":1,\"1\":13.2,\"2\":1.78,\"3\":2.14,\"4\":11.2,\"5\":100,\"6\":2.65,\"7\":2.76,\"8\":0.26,\"9\":1.28,\"10\":4.38,\"11\":1.05,\"12\":3.4,\"13\":1050},{\"0\":1,\"1\":13.16,\"2\":2.36,\"3\":2.67,\"4\":18.6,\"5\":101,\"6\":2.8,\"7\":3.24,\"8\":0.3,\"9\":2.81,\"10\":5.68,\"11\":1.03,\"12\":3.17,\"13\":1185},{\"0\":1,\"1\":14.37,\"2\":1.95,\"3\":2.5,\"4\":16.8,\"5\":113,\"6\":3.85,\"7\":3.49,\"8\":0.24,\"9\":2.18,\"10\":7.8,\"11\":0.86,\"12\":3.45,\"13\":1480},{\"0\":1,\"1\":13.24,\"2\":2.59,\"3\":2.87,\"4\":21.0,\"5\":118,\"6\":2.8,\"7\":2.69,\"8\":0.39,\"9\":1.82,\"10\":4.32,\"11\":1.04,\"12\":2.93,\"13\":735},{\"0\":1,\"1\":14.2,\"2\":1.76,\"3\":2.45,\"4\":15.2,\"5\":112,\"6\":3.27,\"7\":3.39,\"8\":0.34,\"9\":1.97,\"10\":6.75,\"11\":1.05,\"12\":2.85,\"13\":1450},{\"0\":1,\"1\":14.39,\"2\":1.87,\"3\":2.45,\"4\":14.6,\"5\":96,\"6\":2.5,\"7\":2.52,\"8\":0.3,\"9\":1.98,\"10\":5.25,\"11\":1.02,\"12\":3.58,\"13\":1290},{\"0\":1,\"1\":14.06,\"2\":2.15,\"3\":2.61,\"4\":17.6,\"5\":121,\"6\":2.6,\"7\":2.51,\"8\":0.31,\"9\":1.25,\"10\":5.05,\"11\":1.06,\"12\":3.58,\"13\":1295},{\"0\":1,\"1\":14.83,\"2\":1.64,\"3\":2.17,\"4\":14.0,\"5\":97,\"6\":2.8,\"7\":2.98,\"8\":0.29,\"9\":1.98,\"10\":5.2,\"11\":1.08,\"12\":2.85,\"13\":1045},{\"0\":1,\"1\":13.86,\"2\":1.35,\"3\":2.27,\"4\":16.0,\"5\":98,\"6\":2.98,\"7\":3.15,\"8\":0.22,\"9\":1.85,\"10\":7.22,\"11\":1.01,\"12\":3.55,\"13\":1045},{\"0\":1,\"1\":14.1,\"2\":2.16,\"3\":2.3,\"4\":18.0,\"5\":105,\"6\":2.95,\"7\":3.32,\"8\":0.22,\"9\":2.38,\"10\":5.75,\"11\":1.25,\"12\":3.17,\"13\":1510},{\"0\":1,\"1\":14.12,\"2\":1.48,\"3\":2.32,\"4\":16.8,\"5\":95,\"6\":2.2,\"7\":2.43,\"8\":0.26,\"9\":1.57,\"10\":5.0,\"11\":1.17,\"12\":2.82,\"13\":1280},{\"0\":1,\"1\":13.75,\"2\":1.73,\"3\":2.41,\"4\":16.0,\"5\":89,\"6\":2.6,\"7\":2.76,\"8\":0.29,\"9\":1.81,\"10\":5.6,\"11\":1.15,\"12\":2.9,\"13\":1320},{\"0\":1,\"1\":14.75,\"2\":1.73,\"3\":2.39,\"4\":11.4,\"5\":91,\"6\":3.1,\"7\":3.69,\"8\":0.43,\"9\":2.81,\"10\":5.4,\"11\":1.25,\"12\":2.73,\"13\":1150},{\"0\":1,\"1\":14.38,\"2\":1.87,\"3\":2.38,\"4\":12.0,\"5\":102,\"6\":3.3,\"7\":3.64,\"8\":0.29,\"9\":2.96,\"10\":7.5,\"11\":1.2,\"12\":3.0,\"13\":1547},{\"0\":1,\"1\":13.63,\"2\":1.81,\"3\":2.7,\"4\":17.2,\"5\":112,\"6\":2.85,\"7\":2.91,\"8\":0.3,\"9\":1.46,\"10\":7.3,\"11\":1.28,\"12\":2.88,\"13\":1310},{\"0\":1,\"1\":14.3,\"2\":1.92,\"3\":2.72,\"4\":20.0,\"5\":120,\"6\":2.8,\"7\":3.14,\"8\":0.33,\"9\":1.97,\"10\":6.2,\"11\":1.07,\"12\":2.65,\"13\":1280},{\"0\":1,\"1\":13.83,\"2\":1.57,\"3\":2.62,\"4\":20.0,\"5\":115,\"6\":2.95,\"7\":3.4,\"8\":0.4,\"9\":1.72,\"10\":6.6,\"11\":1.13,\"12\":2.57,\"13\":1130},{\"0\":1,\"1\":14.19,\"2\":1.59,\"3\":2.48,\"4\":16.5,\"5\":108,\"6\":3.3,\"7\":3.93,\"8\":0.32,\"9\":1.86,\"10\":8.7,\"11\":1.23,\"12\":2.82,\"13\":1680},{\"0\":1,\"1\":13.64,\"2\":3.1,\"3\":2.56,\"4\":15.2,\"5\":116,\"6\":2.7,\"7\":3.03,\"8\":0.17,\"9\":1.66,\"10\":5.1,\"11\":0.96,\"12\":3.36,\"13\":845},{\"0\":1,\"1\":14.06,\"2\":1.63,\"3\":2.28,\"4\":16.0,\"5\":126,\"6\":3.0,\"7\":3.17,\"8\":0.24,\"9\":2.1,\"10\":5.65,\"11\":1.09,\"12\":3.71,\"13\":780},{\"0\":1,\"1\":12.93,\"2\":3.8,\"3\":2.65,\"4\":18.6,\"5\":102,\"6\":2.41,\"7\":2.41,\"8\":0.25,\"9\":1.98,\"10\":4.5,\"11\":1.03,\"12\":3.52,\"13\":770},{\"0\":1,\"1\":13.71,\"2\":1.86,\"3\":2.36,\"4\":16.6,\"5\":101,\"6\":2.61,\"7\":2.88,\"8\":0.27,\"9\":1.69,\"10\":3.8,\"11\":1.11,\"12\":4.0,\"13\":1035},{\"0\":1,\"1\":12.85,\"2\":1.6,\"3\":2.52,\"4\":17.8,\"5\":95,\"6\":2.48,\"7\":2.37,\"8\":0.26,\"9\":1.46,\"10\":3.93,\"11\":1.09,\"12\":3.63,\"13\":1015},{\"0\":1,\"1\":13.5,\"2\":1.81,\"3\":2.61,\"4\":20.0,\"5\":96,\"6\":2.53,\"7\":2.61,\"8\":0.28,\"9\":1.66,\"10\":3.52,\"11\":1.12,\"12\":3.82,\"13\":845},{\"0\":1,\"1\":13.05,\"2\":2.05,\"3\":3.22,\"4\":25.0,\"5\":124,\"6\":2.63,\"7\":2.68,\"8\":0.47,\"9\":1.92,\"10\":3.58,\"11\":1.13,\"12\":3.2,\"13\":830},{\"0\":1,\"1\":13.39,\"2\":1.77,\"3\":2.62,\"4\":16.1,\"5\":93,\"6\":2.85,\"7\":2.94,\"8\":0.34,\"9\":1.45,\"10\":4.8,\"11\":0.92,\"12\":3.22,\"13\":1195},{\"0\":1,\"1\":13.3,\"2\":1.72,\"3\":2.14,\"4\":17.0,\"5\":94,\"6\":2.4,\"7\":2.19,\"8\":0.27,\"9\":1.35,\"10\":3.95,\"11\":1.02,\"12\":2.77,\"13\":1285},{\"0\":1,\"1\":13.87,\"2\":1.9,\"3\":2.8,\"4\":19.4,\"5\":107,\"6\":2.95,\"7\":2.97,\"8\":0.37,\"9\":1.76,\"10\":4.5,\"11\":1.25,\"12\":3.4,\"13\":915},{\"0\":1,\"1\":14.02,\"2\":1.68,\"3\":2.21,\"4\":16.0,\"5\":96,\"6\":2.65,\"7\":2.33,\"8\":0.26,\"9\":1.98,\"10\":4.7,\"11\":1.04,\"12\":3.59,\"13\":1035},{\"0\":1,\"1\":13.73,\"2\":1.5,\"3\":2.7,\"4\":22.5,\"5\":101,\"6\":3.0,\"7\":3.25,\"8\":0.29,\"9\":2.38,\"10\":5.7,\"11\":1.19,\"12\":2.71,\"13\":1285},{\"0\":1,\"1\":13.58,\"2\":1.66,\"3\":2.36,\"4\":19.1,\"5\":106,\"6\":2.86,\"7\":3.19,\"8\":0.22,\"9\":1.95,\"10\":6.9,\"11\":1.09,\"12\":2.88,\"13\":1515},{\"0\":1,\"1\":13.68,\"2\":1.83,\"3\":2.36,\"4\":17.2,\"5\":104,\"6\":2.42,\"7\":2.69,\"8\":0.42,\"9\":1.97,\"10\":3.84,\"11\":1.23,\"12\":2.87,\"13\":990},{\"0\":1,\"1\":13.76,\"2\":1.53,\"3\":2.7,\"4\":19.5,\"5\":132,\"6\":2.95,\"7\":2.74,\"8\":0.5,\"9\":1.35,\"10\":5.4,\"11\":1.25,\"12\":3.0,\"13\":1235},{\"0\":1,\"1\":13.51,\"2\":1.8,\"3\":2.65,\"4\":19.0,\"5\":110,\"6\":2.35,\"7\":2.53,\"8\":0.29,\"9\":1.54,\"10\":4.2,\"11\":1.1,\"12\":2.87,\"13\":1095},{\"0\":1,\"1\":13.48,\"2\":1.81,\"3\":2.41,\"4\":20.5,\"5\":100,\"6\":2.7,\"7\":2.98,\"8\":0.26,\"9\":1.86,\"10\":5.1,\"11\":1.04,\"12\":3.47,\"13\":920},{\"0\":1,\"1\":13.28,\"2\":1.64,\"3\":2.84,\"4\":15.5,\"5\":110,\"6\":2.6,\"7\":2.68,\"8\":0.34,\"9\":1.36,\"10\":4.6,\"11\":1.09,\"12\":2.78,\"13\":880},{\"0\":1,\"1\":13.05,\"2\":1.65,\"3\":2.55,\"4\":18.0,\"5\":98,\"6\":2.45,\"7\":2.43,\"8\":0.29,\"9\":1.44,\"10\":4.25,\"11\":1.12,\"12\":2.51,\"13\":1105},{\"0\":1,\"1\":13.07,\"2\":1.5,\"3\":2.1,\"4\":15.5,\"5\":98,\"6\":2.4,\"7\":2.64,\"8\":0.28,\"9\":1.37,\"10\":3.7,\"11\":1.18,\"12\":2.69,\"13\":1020},{\"0\":1,\"1\":14.22,\"2\":3.99,\"3\":2.51,\"4\":13.2,\"5\":128,\"6\":3.0,\"7\":3.04,\"8\":0.2,\"9\":2.08,\"10\":5.1,\"11\":0.89,\"12\":3.53,\"13\":760},{\"0\":1,\"1\":13.56,\"2\":1.71,\"3\":2.31,\"4\":16.2,\"5\":117,\"6\":3.15,\"7\":3.29,\"8\":0.34,\"9\":2.34,\"10\":6.13,\"11\":0.95,\"12\":3.38,\"13\":795},{\"0\":1,\"1\":13.41,\"2\":3.84,\"3\":2.12,\"4\":18.8,\"5\":90,\"6\":2.45,\"7\":2.68,\"8\":0.27,\"9\":1.48,\"10\":4.28,\"11\":0.91,\"12\":3.0,\"13\":1035},{\"0\":1,\"1\":13.88,\"2\":1.89,\"3\":2.59,\"4\":15.0,\"5\":101,\"6\":3.25,\"7\":3.56,\"8\":0.17,\"9\":1.7,\"10\":5.43,\"11\":0.88,\"12\":3.56,\"13\":1095},{\"0\":1,\"1\":13.24,\"2\":3.98,\"3\":2.29,\"4\":17.5,\"5\":103,\"6\":2.64,\"7\":2.63,\"8\":0.32,\"9\":1.66,\"10\":4.36,\"11\":0.82,\"12\":3.0,\"13\":680},{\"0\":1,\"1\":13.05,\"2\":1.77,\"3\":2.1,\"4\":17.0,\"5\":107,\"6\":3.0,\"7\":3.0,\"8\":0.28,\"9\":2.03,\"10\":5.04,\"11\":0.88,\"12\":3.35,\"13\":885},{\"0\":1,\"1\":14.21,\"2\":4.04,\"3\":2.44,\"4\":18.9,\"5\":111,\"6\":2.85,\"7\":2.65,\"8\":0.3,\"9\":1.25,\"10\":5.24,\"11\":0.87,\"12\":3.33,\"13\":1080},{\"0\":1,\"1\":14.38,\"2\":3.59,\"3\":2.28,\"4\":16.0,\"5\":102,\"6\":3.25,\"7\":3.17,\"8\":0.27,\"9\":2.19,\"10\":4.9,\"11\":1.04,\"12\":3.44,\"13\":1065},{\"0\":1,\"1\":13.9,\"2\":1.68,\"3\":2.12,\"4\":16.0,\"5\":101,\"6\":3.1,\"7\":3.39,\"8\":0.21,\"9\":2.14,\"10\":6.1,\"11\":0.91,\"12\":3.33,\"13\":985},{\"0\":1,\"1\":14.1,\"2\":2.02,\"3\":2.4,\"4\":18.8,\"5\":103,\"6\":2.75,\"7\":2.92,\"8\":0.32,\"9\":2.38,\"10\":6.2,\"11\":1.07,\"12\":2.75,\"13\":1060},{\"0\":1,\"1\":13.94,\"2\":1.73,\"3\":2.27,\"4\":17.4,\"5\":108,\"6\":2.88,\"7\":3.54,\"8\":0.32,\"9\":2.08,\"10\":8.9,\"11\":1.12,\"12\":3.1,\"13\":1260},{\"0\":1,\"1\":13.05,\"2\":1.73,\"3\":2.04,\"4\":12.4,\"5\":92,\"6\":2.72,\"7\":3.27,\"8\":0.17,\"9\":2.91,\"10\":7.2,\"11\":1.12,\"12\":2.91,\"13\":1150},{\"0\":1,\"1\":13.83,\"2\":1.65,\"3\":2.6,\"4\":17.2,\"5\":94,\"6\":2.45,\"7\":2.99,\"8\":0.22,\"9\":2.29,\"10\":5.6,\"11\":1.24,\"12\":3.37,\"13\":1265},{\"0\":1,\"1\":13.82,\"2\":1.75,\"3\":2.42,\"4\":14.0,\"5\":111,\"6\":3.88,\"7\":3.74,\"8\":0.32,\"9\":1.87,\"10\":7.05,\"11\":1.01,\"12\":3.26,\"13\":1190},{\"0\":1,\"1\":13.77,\"2\":1.9,\"3\":2.68,\"4\":17.1,\"5\":115,\"6\":3.0,\"7\":2.79,\"8\":0.39,\"9\":1.68,\"10\":6.3,\"11\":1.13,\"12\":2.93,\"13\":1375},{\"0\":1,\"1\":13.74,\"2\":1.67,\"3\":2.25,\"4\":16.4,\"5\":118,\"6\":2.6,\"7\":2.9,\"8\":0.21,\"9\":1.62,\"10\":5.85,\"11\":0.92,\"12\":3.2,\"13\":1060},{\"0\":1,\"1\":13.56,\"2\":1.73,\"3\":2.46,\"4\":20.5,\"5\":116,\"6\":2.96,\"7\":2.78,\"8\":0.2,\"9\":2.45,\"10\":6.25,\"11\":0.98,\"12\":3.03,\"13\":1120},{\"0\":1,\"1\":14.22,\"2\":1.7,\"3\":2.3,\"4\":16.3,\"5\":118,\"6\":3.2,\"7\":3.0,\"8\":0.26,\"9\":2.03,\"10\":6.38,\"11\":0.94,\"12\":3.31,\"13\":970},{\"0\":1,\"1\":13.29,\"2\":1.97,\"3\":2.68,\"4\":16.8,\"5\":102,\"6\":3.0,\"7\":3.23,\"8\":0.31,\"9\":1.66,\"10\":6.0,\"11\":1.07,\"12\":2.84,\"13\":1270},{\"0\":1,\"1\":13.72,\"2\":1.43,\"3\":2.5,\"4\":16.7,\"5\":108,\"6\":3.4,\"7\":3.67,\"8\":0.19,\"9\":2.04,\"10\":6.8,\"11\":0.89,\"12\":2.87,\"13\":1285},{\"0\":2,\"1\":12.37,\"2\":0.94,\"3\":1.36,\"4\":10.6,\"5\":88,\"6\":1.98,\"7\":0.57,\"8\":0.28,\"9\":0.42,\"10\":1.95,\"11\":1.05,\"12\":1.82,\"13\":520},{\"0\":2,\"1\":12.33,\"2\":1.1,\"3\":2.28,\"4\":16.0,\"5\":101,\"6\":2.05,\"7\":1.09,\"8\":0.63,\"9\":0.41,\"10\":3.27,\"11\":1.25,\"12\":1.67,\"13\":680},{\"0\":2,\"1\":12.64,\"2\":1.36,\"3\":2.02,\"4\":16.8,\"5\":100,\"6\":2.02,\"7\":1.41,\"8\":0.53,\"9\":0.62,\"10\":5.75,\"11\":0.98,\"12\":1.59,\"13\":450},{\"0\":2,\"1\":13.67,\"2\":1.25,\"3\":1.92,\"4\":18.0,\"5\":94,\"6\":2.1,\"7\":1.79,\"8\":0.32,\"9\":0.73,\"10\":3.8,\"11\":1.23,\"12\":2.46,\"13\":630},{\"0\":2,\"1\":12.37,\"2\":1.13,\"3\":2.16,\"4\":19.0,\"5\":87,\"6\":3.5,\"7\":3.1,\"8\":0.19,\"9\":1.87,\"10\":4.45,\"11\":1.22,\"12\":2.87,\"13\":420},{\"0\":2,\"1\":12.17,\"2\":1.45,\"3\":2.53,\"4\":19.0,\"5\":104,\"6\":1.89,\"7\":1.75,\"8\":0.45,\"9\":1.03,\"10\":2.95,\"11\":1.45,\"12\":2.23,\"13\":355},{\"0\":2,\"1\":12.37,\"2\":1.21,\"3\":2.56,\"4\":18.1,\"5\":98,\"6\":2.42,\"7\":2.65,\"8\":0.37,\"9\":2.08,\"10\":4.6,\"11\":1.19,\"12\":2.3,\"13\":678},{\"0\":2,\"1\":13.11,\"2\":1.01,\"3\":1.7,\"4\":15.0,\"5\":78,\"6\":2.98,\"7\":3.18,\"8\":0.26,\"9\":2.28,\"10\":5.3,\"11\":1.12,\"12\":3.18,\"13\":502},{\"0\":2,\"1\":12.37,\"2\":1.17,\"3\":1.92,\"4\":19.6,\"5\":78,\"6\":2.11,\"7\":2.0,\"8\":0.27,\"9\":1.04,\"10\":4.68,\"11\":1.12,\"12\":3.48,\"13\":510},{\"0\":2,\"1\":13.34,\"2\":0.94,\"3\":2.36,\"4\":17.0,\"5\":110,\"6\":2.53,\"7\":1.3,\"8\":0.55,\"9\":0.42,\"10\":3.17,\"11\":1.02,\"12\":1.93,\"13\":750},{\"0\":2,\"1\":12.21,\"2\":1.19,\"3\":1.75,\"4\":16.8,\"5\":151,\"6\":1.85,\"7\":1.28,\"8\":0.14,\"9\":2.5,\"10\":2.85,\"11\":1.28,\"12\":3.07,\"13\":718},{\"0\":2,\"1\":12.29,\"2\":1.61,\"3\":2.21,\"4\":20.4,\"5\":103,\"6\":1.1,\"7\":1.02,\"8\":0.37,\"9\":1.46,\"10\":3.05,\"11\":0.906,\"12\":1.82,\"13\":870},{\"0\":2,\"1\":13.86,\"2\":1.51,\"3\":2.67,\"4\":25.0,\"5\":86,\"6\":2.95,\"7\":2.86,\"8\":0.21,\"9\":1.87,\"10\":3.38,\"11\":1.36,\"12\":3.16,\"13\":410},{\"0\":2,\"1\":13.49,\"2\":1.66,\"3\":2.24,\"4\":24.0,\"5\":87,\"6\":1.88,\"7\":1.84,\"8\":0.27,\"9\":1.03,\"10\":3.74,\"11\":0.98,\"12\":2.78,\"13\":472},{\"0\":2,\"1\":12.99,\"2\":1.67,\"3\":2.6,\"4\":30.0,\"5\":139,\"6\":3.3,\"7\":2.89,\"8\":0.21,\"9\":1.96,\"10\":3.35,\"11\":1.31,\"12\":3.5,\"13\":985},{\"0\":2,\"1\":11.96,\"2\":1.09,\"3\":2.3,\"4\":21.0,\"5\":101,\"6\":3.38,\"7\":2.14,\"8\":0.13,\"9\":1.65,\"10\":3.21,\"11\":0.99,\"12\":3.13,\"13\":886},{\"0\":2,\"1\":11.66,\"2\":1.88,\"3\":1.92,\"4\":16.0,\"5\":97,\"6\":1.61,\"7\":1.57,\"8\":0.34,\"9\":1.15,\"10\":3.8,\"11\":1.23,\"12\":2.14,\"13\":428},{\"0\":2,\"1\":13.03,\"2\":0.9,\"3\":1.71,\"4\":16.0,\"5\":86,\"6\":1.95,\"7\":2.03,\"8\":0.24,\"9\":1.46,\"10\":4.6,\"11\":1.19,\"12\":2.48,\"13\":392},{\"0\":2,\"1\":11.84,\"2\":2.89,\"3\":2.23,\"4\":18.0,\"5\":112,\"6\":1.72,\"7\":1.32,\"8\":0.43,\"9\":0.95,\"10\":2.65,\"11\":0.96,\"12\":2.52,\"13\":500},{\"0\":2,\"1\":12.33,\"2\":0.99,\"3\":1.95,\"4\":14.8,\"5\":136,\"6\":1.9,\"7\":1.85,\"8\":0.35,\"9\":2.76,\"10\":3.4,\"11\":1.06,\"12\":2.31,\"13\":750},{\"0\":2,\"1\":12.7,\"2\":3.87,\"3\":2.4,\"4\":23.0,\"5\":101,\"6\":2.83,\"7\":2.55,\"8\":0.43,\"9\":1.95,\"10\":2.57,\"11\":1.19,\"12\":3.13,\"13\":463},{\"0\":2,\"1\":12.0,\"2\":0.92,\"3\":2.0,\"4\":19.0,\"5\":86,\"6\":2.42,\"7\":2.26,\"8\":0.3,\"9\":1.43,\"10\":2.5,\"11\":1.38,\"12\":3.12,\"13\":278},{\"0\":2,\"1\":12.72,\"2\":1.81,\"3\":2.2,\"4\":18.8,\"5\":86,\"6\":2.2,\"7\":2.53,\"8\":0.26,\"9\":1.77,\"10\":3.9,\"11\":1.16,\"12\":3.14,\"13\":714},{\"0\":2,\"1\":12.08,\"2\":1.13,\"3\":2.51,\"4\":24.0,\"5\":78,\"6\":2.0,\"7\":1.58,\"8\":0.4,\"9\":1.4,\"10\":2.2,\"11\":1.31,\"12\":2.72,\"13\":630},{\"0\":2,\"1\":13.05,\"2\":3.86,\"3\":2.32,\"4\":22.5,\"5\":85,\"6\":1.65,\"7\":1.59,\"8\":0.61,\"9\":1.62,\"10\":4.8,\"11\":0.84,\"12\":2.01,\"13\":515},{\"0\":2,\"1\":11.84,\"2\":0.89,\"3\":2.58,\"4\":18.0,\"5\":94,\"6\":2.2,\"7\":2.21,\"8\":0.22,\"9\":2.35,\"10\":3.05,\"11\":0.79,\"12\":3.08,\"13\":520},{\"0\":2,\"1\":12.67,\"2\":0.98,\"3\":2.24,\"4\":18.0,\"5\":99,\"6\":2.2,\"7\":1.94,\"8\":0.3,\"9\":1.46,\"10\":2.62,\"11\":1.23,\"12\":3.16,\"13\":450},{\"0\":2,\"1\":12.16,\"2\":1.61,\"3\":2.31,\"4\":22.8,\"5\":90,\"6\":1.78,\"7\":1.69,\"8\":0.43,\"9\":1.56,\"10\":2.45,\"11\":1.33,\"12\":2.26,\"13\":495},{\"0\":2,\"1\":11.65,\"2\":1.67,\"3\":2.62,\"4\":26.0,\"5\":88,\"6\":1.92,\"7\":1.61,\"8\":0.4,\"9\":1.34,\"10\":2.6,\"11\":1.36,\"12\":3.21,\"13\":562},{\"0\":2,\"1\":11.64,\"2\":2.06,\"3\":2.46,\"4\":21.6,\"5\":84,\"6\":1.95,\"7\":1.69,\"8\":0.48,\"9\":1.35,\"10\":2.8,\"11\":1.0,\"12\":2.75,\"13\":680},{\"0\":2,\"1\":12.08,\"2\":1.33,\"3\":2.3,\"4\":23.6,\"5\":70,\"6\":2.2,\"7\":1.59,\"8\":0.42,\"9\":1.38,\"10\":1.74,\"11\":1.07,\"12\":3.21,\"13\":625},{\"0\":2,\"1\":12.08,\"2\":1.83,\"3\":2.32,\"4\":18.5,\"5\":81,\"6\":1.6,\"7\":1.5,\"8\":0.52,\"9\":1.64,\"10\":2.4,\"11\":1.08,\"12\":2.27,\"13\":480},{\"0\":2,\"1\":12.0,\"2\":1.51,\"3\":2.42,\"4\":22.0,\"5\":86,\"6\":1.45,\"7\":1.25,\"8\":0.5,\"9\":1.63,\"10\":3.6,\"11\":1.05,\"12\":2.65,\"13\":450},{\"0\":2,\"1\":12.69,\"2\":1.53,\"3\":2.26,\"4\":20.7,\"5\":80,\"6\":1.38,\"7\":1.46,\"8\":0.58,\"9\":1.62,\"10\":3.05,\"11\":0.96,\"12\":2.06,\"13\":495},{\"0\":2,\"1\":12.29,\"2\":2.83,\"3\":2.22,\"4\":18.0,\"5\":88,\"6\":2.45,\"7\":2.25,\"8\":0.25,\"9\":1.99,\"10\":2.15,\"11\":1.15,\"12\":3.3,\"13\":290},{\"0\":2,\"1\":11.62,\"2\":1.99,\"3\":2.28,\"4\":18.0,\"5\":98,\"6\":3.02,\"7\":2.26,\"8\":0.17,\"9\":1.35,\"10\":3.25,\"11\":1.16,\"12\":2.96,\"13\":345},{\"0\":2,\"1\":12.47,\"2\":1.52,\"3\":2.2,\"4\":19.0,\"5\":162,\"6\":2.5,\"7\":2.27,\"8\":0.32,\"9\":3.28,\"10\":2.6,\"11\":1.16,\"12\":2.63,\"13\":937},{\"0\":2,\"1\":11.81,\"2\":2.12,\"3\":2.74,\"4\":21.5,\"5\":134,\"6\":1.6,\"7\":0.99,\"8\":0.14,\"9\":1.56,\"10\":2.5,\"11\":0.95,\"12\":2.26,\"13\":625},{\"0\":2,\"1\":12.29,\"2\":1.41,\"3\":1.98,\"4\":16.0,\"5\":85,\"6\":2.55,\"7\":2.5,\"8\":0.29,\"9\":1.77,\"10\":2.9,\"11\":1.23,\"12\":2.74,\"13\":428},{\"0\":2,\"1\":12.37,\"2\":1.07,\"3\":2.1,\"4\":18.5,\"5\":88,\"6\":3.52,\"7\":3.75,\"8\":0.24,\"9\":1.95,\"10\":4.5,\"11\":1.04,\"12\":2.77,\"13\":660},{\"0\":2,\"1\":12.29,\"2\":3.17,\"3\":2.21,\"4\":18.0,\"5\":88,\"6\":2.85,\"7\":2.99,\"8\":0.45,\"9\":2.81,\"10\":2.3,\"11\":1.42,\"12\":2.83,\"13\":406},{\"0\":2,\"1\":12.08,\"2\":2.08,\"3\":1.7,\"4\":17.5,\"5\":97,\"6\":2.23,\"7\":2.17,\"8\":0.26,\"9\":1.4,\"10\":3.3,\"11\":1.27,\"12\":2.96,\"13\":710},{\"0\":2,\"1\":12.6,\"2\":1.34,\"3\":1.9,\"4\":18.5,\"5\":88,\"6\":1.45,\"7\":1.36,\"8\":0.29,\"9\":1.35,\"10\":2.45,\"11\":1.04,\"12\":2.77,\"13\":562},{\"0\":2,\"1\":12.34,\"2\":2.45,\"3\":2.46,\"4\":21.0,\"5\":98,\"6\":2.56,\"7\":2.11,\"8\":0.34,\"9\":1.31,\"10\":2.8,\"11\":0.8,\"12\":3.38,\"13\":438},{\"0\":2,\"1\":11.82,\"2\":1.72,\"3\":1.88,\"4\":19.5,\"5\":86,\"6\":2.5,\"7\":1.64,\"8\":0.37,\"9\":1.42,\"10\":2.06,\"11\":0.94,\"12\":2.44,\"13\":415},{\"0\":2,\"1\":12.51,\"2\":1.73,\"3\":1.98,\"4\":20.5,\"5\":85,\"6\":2.2,\"7\":1.92,\"8\":0.32,\"9\":1.48,\"10\":2.94,\"11\":1.04,\"12\":3.57,\"13\":672},{\"0\":2,\"1\":12.42,\"2\":2.55,\"3\":2.27,\"4\":22.0,\"5\":90,\"6\":1.68,\"7\":1.84,\"8\":0.66,\"9\":1.42,\"10\":2.7,\"11\":0.86,\"12\":3.3,\"13\":315},{\"0\":2,\"1\":12.25,\"2\":1.73,\"3\":2.12,\"4\":19.0,\"5\":80,\"6\":1.65,\"7\":2.03,\"8\":0.37,\"9\":1.63,\"10\":3.4,\"11\":1.0,\"12\":3.17,\"13\":510},{\"0\":2,\"1\":12.72,\"2\":1.75,\"3\":2.28,\"4\":22.5,\"5\":84,\"6\":1.38,\"7\":1.76,\"8\":0.48,\"9\":1.63,\"10\":3.3,\"11\":0.88,\"12\":2.42,\"13\":488},{\"0\":2,\"1\":12.22,\"2\":1.29,\"3\":1.94,\"4\":19.0,\"5\":92,\"6\":2.36,\"7\":2.04,\"8\":0.39,\"9\":2.08,\"10\":2.7,\"11\":0.86,\"12\":3.02,\"13\":312},{\"0\":2,\"1\":11.61,\"2\":1.35,\"3\":2.7,\"4\":20.0,\"5\":94,\"6\":2.74,\"7\":2.92,\"8\":0.29,\"9\":2.49,\"10\":2.65,\"11\":0.96,\"12\":3.26,\"13\":680},{\"0\":2,\"1\":11.46,\"2\":3.74,\"3\":1.82,\"4\":19.5,\"5\":107,\"6\":3.18,\"7\":2.58,\"8\":0.24,\"9\":3.58,\"10\":2.9,\"11\":0.75,\"12\":2.81,\"13\":562},{\"0\":2,\"1\":12.52,\"2\":2.43,\"3\":2.17,\"4\":21.0,\"5\":88,\"6\":2.55,\"7\":2.27,\"8\":0.26,\"9\":1.22,\"10\":2.0,\"11\":0.9,\"12\":2.78,\"13\":325},{\"0\":2,\"1\":11.76,\"2\":2.68,\"3\":2.92,\"4\":20.0,\"5\":103,\"6\":1.75,\"7\":2.03,\"8\":0.6,\"9\":1.05,\"10\":3.8,\"11\":1.23,\"12\":2.5,\"13\":607},{\"0\":2,\"1\":11.41,\"2\":0.74,\"3\":2.5,\"4\":21.0,\"5\":88,\"6\":2.48,\"7\":2.01,\"8\":0.42,\"9\":1.44,\"10\":3.08,\"11\":1.1,\"12\":2.31,\"13\":434},{\"0\":2,\"1\":12.08,\"2\":1.39,\"3\":2.5,\"4\":22.5,\"5\":84,\"6\":2.56,\"7\":2.29,\"8\":0.43,\"9\":1.04,\"10\":2.9,\"11\":0.93,\"12\":3.19,\"13\":385},{\"0\":2,\"1\":11.03,\"2\":1.51,\"3\":2.2,\"4\":21.5,\"5\":85,\"6\":2.46,\"7\":2.17,\"8\":0.52,\"9\":2.01,\"10\":1.9,\"11\":1.71,\"12\":2.87,\"13\":407},{\"0\":2,\"1\":11.82,\"2\":1.47,\"3\":1.99,\"4\":20.8,\"5\":86,\"6\":1.98,\"7\":1.6,\"8\":0.3,\"9\":1.53,\"10\":1.95,\"11\":0.95,\"12\":3.33,\"13\":495},{\"0\":2,\"1\":12.42,\"2\":1.61,\"3\":2.19,\"4\":22.5,\"5\":108,\"6\":2.0,\"7\":2.09,\"8\":0.34,\"9\":1.61,\"10\":2.06,\"11\":1.06,\"12\":2.96,\"13\":345},{\"0\":2,\"1\":12.77,\"2\":3.43,\"3\":1.98,\"4\":16.0,\"5\":80,\"6\":1.63,\"7\":1.25,\"8\":0.43,\"9\":0.83,\"10\":3.4,\"11\":0.7,\"12\":2.12,\"13\":372},{\"0\":2,\"1\":12.0,\"2\":3.43,\"3\":2.0,\"4\":19.0,\"5\":87,\"6\":2.0,\"7\":1.64,\"8\":0.37,\"9\":1.87,\"10\":1.28,\"11\":0.93,\"12\":3.05,\"13\":564},{\"0\":2,\"1\":11.45,\"2\":2.4,\"3\":2.42,\"4\":20.0,\"5\":96,\"6\":2.9,\"7\":2.79,\"8\":0.32,\"9\":1.83,\"10\":3.25,\"11\":0.8,\"12\":3.39,\"13\":625},{\"0\":2,\"1\":11.56,\"2\":2.05,\"3\":3.23,\"4\":28.5,\"5\":119,\"6\":3.18,\"7\":5.08,\"8\":0.47,\"9\":1.87,\"10\":6.0,\"11\":0.93,\"12\":3.69,\"13\":465},{\"0\":2,\"1\":12.42,\"2\":4.43,\"3\":2.73,\"4\":26.5,\"5\":102,\"6\":2.2,\"7\":2.13,\"8\":0.43,\"9\":1.71,\"10\":2.08,\"11\":0.92,\"12\":3.12,\"13\":365},{\"0\":2,\"1\":13.05,\"2\":5.8,\"3\":2.13,\"4\":21.5,\"5\":86,\"6\":2.62,\"7\":2.65,\"8\":0.3,\"9\":2.01,\"10\":2.6,\"11\":0.73,\"12\":3.1,\"13\":380},{\"0\":2,\"1\":11.87,\"2\":4.31,\"3\":2.39,\"4\":21.0,\"5\":82,\"6\":2.86,\"7\":3.03,\"8\":0.21,\"9\":2.91,\"10\":2.8,\"11\":0.75,\"12\":3.64,\"13\":380},{\"0\":2,\"1\":12.07,\"2\":2.16,\"3\":2.17,\"4\":21.0,\"5\":85,\"6\":2.6,\"7\":2.65,\"8\":0.37,\"9\":1.35,\"10\":2.76,\"11\":0.86,\"12\":3.28,\"13\":378},{\"0\":2,\"1\":12.43,\"2\":1.53,\"3\":2.29,\"4\":21.5,\"5\":86,\"6\":2.74,\"7\":3.15,\"8\":0.39,\"9\":1.77,\"10\":3.94,\"11\":0.69,\"12\":2.84,\"13\":352},{\"0\":2,\"1\":11.79,\"2\":2.13,\"3\":2.78,\"4\":28.5,\"5\":92,\"6\":2.13,\"7\":2.24,\"8\":0.58,\"9\":1.76,\"10\":3.0,\"11\":0.97,\"12\":2.44,\"13\":466},{\"0\":2,\"1\":12.37,\"2\":1.63,\"3\":2.3,\"4\":24.5,\"5\":88,\"6\":2.22,\"7\":2.45,\"8\":0.4,\"9\":1.9,\"10\":2.12,\"11\":0.89,\"12\":2.78,\"13\":342},{\"0\":2,\"1\":12.04,\"2\":4.3,\"3\":2.38,\"4\":22.0,\"5\":80,\"6\":2.1,\"7\":1.75,\"8\":0.42,\"9\":1.35,\"10\":2.6,\"11\":0.79,\"12\":2.57,\"13\":580},{\"0\":3,\"1\":12.86,\"2\":1.35,\"3\":2.32,\"4\":18.0,\"5\":122,\"6\":1.51,\"7\":1.25,\"8\":0.21,\"9\":0.94,\"10\":4.1,\"11\":0.76,\"12\":1.29,\"13\":630},{\"0\":3,\"1\":12.88,\"2\":2.99,\"3\":2.4,\"4\":20.0,\"5\":104,\"6\":1.3,\"7\":1.22,\"8\":0.24,\"9\":0.83,\"10\":5.4,\"11\":0.74,\"12\":1.42,\"13\":530},{\"0\":3,\"1\":12.81,\"2\":2.31,\"3\":2.4,\"4\":24.0,\"5\":98,\"6\":1.15,\"7\":1.09,\"8\":0.27,\"9\":0.83,\"10\":5.7,\"11\":0.66,\"12\":1.36,\"13\":560},{\"0\":3,\"1\":12.7,\"2\":3.55,\"3\":2.36,\"4\":21.5,\"5\":106,\"6\":1.7,\"7\":1.2,\"8\":0.17,\"9\":0.84,\"10\":5.0,\"11\":0.78,\"12\":1.29,\"13\":600},{\"0\":3,\"1\":12.51,\"2\":1.24,\"3\":2.25,\"4\":17.5,\"5\":85,\"6\":2.0,\"7\":0.58,\"8\":0.6,\"9\":1.25,\"10\":5.45,\"11\":0.75,\"12\":1.51,\"13\":650},{\"0\":3,\"1\":12.6,\"2\":2.46,\"3\":2.2,\"4\":18.5,\"5\":94,\"6\":1.62,\"7\":0.66,\"8\":0.63,\"9\":0.94,\"10\":7.1,\"11\":0.73,\"12\":1.58,\"13\":695},{\"0\":3,\"1\":12.25,\"2\":4.72,\"3\":2.54,\"4\":21.0,\"5\":89,\"6\":1.38,\"7\":0.47,\"8\":0.53,\"9\":0.8,\"10\":3.85,\"11\":0.75,\"12\":1.27,\"13\":720},{\"0\":3,\"1\":12.53,\"2\":5.51,\"3\":2.64,\"4\":25.0,\"5\":96,\"6\":1.79,\"7\":0.6,\"8\":0.63,\"9\":1.1,\"10\":5.0,\"11\":0.82,\"12\":1.69,\"13\":515},{\"0\":3,\"1\":13.49,\"2\":3.59,\"3\":2.19,\"4\":19.5,\"5\":88,\"6\":1.62,\"7\":0.48,\"8\":0.58,\"9\":0.88,\"10\":5.7,\"11\":0.81,\"12\":1.82,\"13\":580},{\"0\":3,\"1\":12.84,\"2\":2.96,\"3\":2.61,\"4\":24.0,\"5\":101,\"6\":2.32,\"7\":0.6,\"8\":0.53,\"9\":0.81,\"10\":4.92,\"11\":0.89,\"12\":2.15,\"13\":590},{\"0\":3,\"1\":12.93,\"2\":2.81,\"3\":2.7,\"4\":21.0,\"5\":96,\"6\":1.54,\"7\":0.5,\"8\":0.53,\"9\":0.75,\"10\":4.6,\"11\":0.77,\"12\":2.31,\"13\":600},{\"0\":3,\"1\":13.36,\"2\":2.56,\"3\":2.35,\"4\":20.0,\"5\":89,\"6\":1.4,\"7\":0.5,\"8\":0.37,\"9\":0.64,\"10\":5.6,\"11\":0.7,\"12\":2.47,\"13\":780},{\"0\":3,\"1\":13.52,\"2\":3.17,\"3\":2.72,\"4\":23.5,\"5\":97,\"6\":1.55,\"7\":0.52,\"8\":0.5,\"9\":0.55,\"10\":4.35,\"11\":0.89,\"12\":2.06,\"13\":520},{\"0\":3,\"1\":13.62,\"2\":4.95,\"3\":2.35,\"4\":20.0,\"5\":92,\"6\":2.0,\"7\":0.8,\"8\":0.47,\"9\":1.02,\"10\":4.4,\"11\":0.91,\"12\":2.05,\"13\":550},{\"0\":3,\"1\":12.25,\"2\":3.88,\"3\":2.2,\"4\":18.5,\"5\":112,\"6\":1.38,\"7\":0.78,\"8\":0.29,\"9\":1.14,\"10\":8.21,\"11\":0.65,\"12\":2.0,\"13\":855},{\"0\":3,\"1\":13.16,\"2\":3.57,\"3\":2.15,\"4\":21.0,\"5\":102,\"6\":1.5,\"7\":0.55,\"8\":0.43,\"9\":1.3,\"10\":4.0,\"11\":0.6,\"12\":1.68,\"13\":830},{\"0\":3,\"1\":13.88,\"2\":5.04,\"3\":2.23,\"4\":20.0,\"5\":80,\"6\":0.98,\"7\":0.34,\"8\":0.4,\"9\":0.68,\"10\":4.9,\"11\":0.58,\"12\":1.33,\"13\":415},{\"0\":3,\"1\":12.87,\"2\":4.61,\"3\":2.48,\"4\":21.5,\"5\":86,\"6\":1.7,\"7\":0.65,\"8\":0.47,\"9\":0.86,\"10\":7.65,\"11\":0.54,\"12\":1.86,\"13\":625},{\"0\":3,\"1\":13.32,\"2\":3.24,\"3\":2.38,\"4\":21.5,\"5\":92,\"6\":1.93,\"7\":0.76,\"8\":0.45,\"9\":1.25,\"10\":8.42,\"11\":0.55,\"12\":1.62,\"13\":650},{\"0\":3,\"1\":13.08,\"2\":3.9,\"3\":2.36,\"4\":21.5,\"5\":113,\"6\":1.41,\"7\":1.39,\"8\":0.34,\"9\":1.14,\"10\":9.4,\"11\":0.57,\"12\":1.33,\"13\":550},{\"0\":3,\"1\":13.5,\"2\":3.12,\"3\":2.62,\"4\":24.0,\"5\":123,\"6\":1.4,\"7\":1.57,\"8\":0.22,\"9\":1.25,\"10\":8.6,\"11\":0.59,\"12\":1.3,\"13\":500},{\"0\":3,\"1\":12.79,\"2\":2.67,\"3\":2.48,\"4\":22.0,\"5\":112,\"6\":1.48,\"7\":1.36,\"8\":0.24,\"9\":1.26,\"10\":10.8,\"11\":0.48,\"12\":1.47,\"13\":480},{\"0\":3,\"1\":13.11,\"2\":1.9,\"3\":2.75,\"4\":25.5,\"5\":116,\"6\":2.2,\"7\":1.28,\"8\":0.26,\"9\":1.56,\"10\":7.1,\"11\":0.61,\"12\":1.33,\"13\":425},{\"0\":3,\"1\":13.23,\"2\":3.3,\"3\":2.28,\"4\":18.5,\"5\":98,\"6\":1.8,\"7\":0.83,\"8\":0.61,\"9\":1.87,\"10\":10.52,\"11\":0.56,\"12\":1.51,\"13\":675},{\"0\":3,\"1\":12.58,\"2\":1.29,\"3\":2.1,\"4\":20.0,\"5\":103,\"6\":1.48,\"7\":0.58,\"8\":0.53,\"9\":1.4,\"10\":7.6,\"11\":0.58,\"12\":1.55,\"13\":640},{\"0\":3,\"1\":13.17,\"2\":5.19,\"3\":2.32,\"4\":22.0,\"5\":93,\"6\":1.74,\"7\":0.63,\"8\":0.61,\"9\":1.55,\"10\":7.9,\"11\":0.6,\"12\":1.48,\"13\":725},{\"0\":3,\"1\":13.84,\"2\":4.12,\"3\":2.38,\"4\":19.5,\"5\":89,\"6\":1.8,\"7\":0.83,\"8\":0.48,\"9\":1.56,\"10\":9.01,\"11\":0.57,\"12\":1.64,\"13\":480},{\"0\":3,\"1\":12.45,\"2\":3.03,\"3\":2.64,\"4\":27.0,\"5\":97,\"6\":1.9,\"7\":0.58,\"8\":0.63,\"9\":1.14,\"10\":7.5,\"11\":0.67,\"12\":1.73,\"13\":880},{\"0\":3,\"1\":14.34,\"2\":1.68,\"3\":2.7,\"4\":25.0,\"5\":98,\"6\":2.8,\"7\":1.31,\"8\":0.53,\"9\":2.7,\"10\":13.0,\"11\":0.57,\"12\":1.96,\"13\":660},{\"0\":3,\"1\":13.48,\"2\":1.67,\"3\":2.64,\"4\":22.5,\"5\":89,\"6\":2.6,\"7\":1.1,\"8\":0.52,\"9\":2.29,\"10\":11.75,\"11\":0.57,\"12\":1.78,\"13\":620},{\"0\":3,\"1\":12.36,\"2\":3.83,\"3\":2.38,\"4\":21.0,\"5\":88,\"6\":2.3,\"7\":0.92,\"8\":0.5,\"9\":1.04,\"10\":7.65,\"11\":0.56,\"12\":1.58,\"13\":520},{\"0\":3,\"1\":13.69,\"2\":3.26,\"3\":2.54,\"4\":20.0,\"5\":107,\"6\":1.83,\"7\":0.56,\"8\":0.5,\"9\":0.8,\"10\":5.88,\"11\":0.96,\"12\":1.82,\"13\":680},{\"0\":3,\"1\":12.85,\"2\":3.27,\"3\":2.58,\"4\":22.0,\"5\":106,\"6\":1.65,\"7\":0.6,\"8\":0.6,\"9\":0.96,\"10\":5.58,\"11\":0.87,\"12\":2.11,\"13\":570},{\"0\":3,\"1\":12.96,\"2\":3.45,\"3\":2.35,\"4\":18.5,\"5\":106,\"6\":1.39,\"7\":0.7,\"8\":0.4,\"9\":0.94,\"10\":5.28,\"11\":0.68,\"12\":1.75,\"13\":675},{\"0\":3,\"1\":13.78,\"2\":2.76,\"3\":2.3,\"4\":22.0,\"5\":90,\"6\":1.35,\"7\":0.68,\"8\":0.41,\"9\":1.03,\"10\":9.58,\"11\":0.7,\"12\":1.68,\"13\":615},{\"0\":3,\"1\":13.73,\"2\":4.36,\"3\":2.26,\"4\":22.5,\"5\":88,\"6\":1.28,\"7\":0.47,\"8\":0.52,\"9\":1.15,\"10\":6.62,\"11\":0.78,\"12\":1.75,\"13\":520},{\"0\":3,\"1\":13.45,\"2\":3.7,\"3\":2.6,\"4\":23.0,\"5\":111,\"6\":1.7,\"7\":0.92,\"8\":0.43,\"9\":1.46,\"10\":10.68,\"11\":0.85,\"12\":1.56,\"13\":695},{\"0\":3,\"1\":12.82,\"2\":3.37,\"3\":2.3,\"4\":19.5,\"5\":88,\"6\":1.48,\"7\":0.66,\"8\":0.4,\"9\":0.97,\"10\":10.26,\"11\":0.72,\"12\":1.75,\"13\":685},{\"0\":3,\"1\":13.58,\"2\":2.58,\"3\":2.69,\"4\":24.5,\"5\":105,\"6\":1.55,\"7\":0.84,\"8\":0.39,\"9\":1.54,\"10\":8.66,\"11\":0.74,\"12\":1.8,\"13\":750},{\"0\":3,\"1\":13.4,\"2\":4.6,\"3\":2.86,\"4\":25.0,\"5\":112,\"6\":1.98,\"7\":0.96,\"8\":0.27,\"9\":1.11,\"10\":8.5,\"11\":0.67,\"12\":1.92,\"13\":630},{\"0\":3,\"1\":12.2,\"2\":3.03,\"3\":2.32,\"4\":19.0,\"5\":96,\"6\":1.25,\"7\":0.49,\"8\":0.4,\"9\":0.73,\"10\":5.5,\"11\":0.66,\"12\":1.83,\"13\":510},{\"0\":3,\"1\":12.77,\"2\":2.39,\"3\":2.28,\"4\":19.5,\"5\":86,\"6\":1.39,\"7\":0.51,\"8\":0.48,\"9\":0.64,\"10\":9.899999,\"11\":0.57,\"12\":1.63,\"13\":470},{\"0\":3,\"1\":14.16,\"2\":2.51,\"3\":2.48,\"4\":20.0,\"5\":91,\"6\":1.68,\"7\":0.7,\"8\":0.44,\"9\":1.24,\"10\":9.7,\"11\":0.62,\"12\":1.71,\"13\":660},{\"0\":3,\"1\":13.71,\"2\":5.65,\"3\":2.45,\"4\":20.5,\"5\":95,\"6\":1.68,\"7\":0.61,\"8\":0.52,\"9\":1.06,\"10\":7.7,\"11\":0.64,\"12\":1.74,\"13\":740},{\"0\":3,\"1\":13.4,\"2\":3.91,\"3\":2.48,\"4\":23.0,\"5\":102,\"6\":1.8,\"7\":0.75,\"8\":0.43,\"9\":1.41,\"10\":7.3,\"11\":0.7,\"12\":1.56,\"13\":750},{\"0\":3,\"1\":13.27,\"2\":4.28,\"3\":2.26,\"4\":20.0,\"5\":120,\"6\":1.59,\"7\":0.69,\"8\":0.43,\"9\":1.35,\"10\":10.2,\"11\":0.59,\"12\":1.56,\"13\":835},{\"0\":3,\"1\":13.17,\"2\":2.59,\"3\":2.37,\"4\":20.0,\"5\":120,\"6\":1.65,\"7\":0.68,\"8\":0.53,\"9\":1.46,\"10\":9.3,\"11\":0.6,\"12\":1.62,\"13\":840},{\"0\":3,\"1\":14.13,\"2\":4.1,\"3\":2.74,\"4\":24.5,\"5\":96,\"6\":2.05,\"7\":0.76,\"8\":0.56,\"9\":1.35,\"10\":9.2,\"11\":0.61,\"12\":1.6,\"13\":560}]\n"
     ]
    }
   ],
   "source": [
    "# convert object to a JSON String format\n",
    "df24 = df21.to_json(orient=\"records\")\n",
    "print(type(df24))\n",
    "print(df24)"
   ]
  },
  {
   "cell_type": "code",
   "execution_count": 102,
   "metadata": {},
   "outputs": [
    {
     "name": "stdout",
     "output_type": "stream",
     "text": [
      "  emp_name        email                                        job_profile\n",
      "0     Atul  atul@ds.com  {'Role1': 'Jr Data Scientist', 'Role2': 'Data ...\n",
      "{\"emp_name\":{\"0\":\"Atul\"},\"email\":{\"0\":\"atul@ds.com\"},\"job_profile\":{\"0\":{\"Role1\":\"Jr Data Scientist\",\"Role2\":\"Data Scientist\"}}}\n"
     ]
    }
   ],
   "source": [
    "# convert object to a JSON String format\n",
    "print(df20)\n",
    "df25 = df20.to_json()\n",
    "print(df25)"
   ]
  },
  {
   "cell_type": "code",
   "execution_count": 103,
   "metadata": {},
   "outputs": [
    {
     "name": "stdout",
     "output_type": "stream",
     "text": [
      "  emp_name        email                                        job_profile\n",
      "0     Atul  atul@ds.com  {'Role1': 'Jr Data Scientist', 'Role2': 'Data ...\n",
      "{\"emp_name\":{\"0\":\"Atul\"},\"email\":{\"0\":\"atul@ds.com\"},\"job_profile\":{\"0\":{\"Role1\":\"Jr Data Scientist\",\"Role2\":\"Data Scientist\"}}}\n"
     ]
    }
   ],
   "source": [
    "# convert object to a JSON String format\n",
    "print(df20)\n",
    "df26 = df20.to_json(index=True)\n",
    "print(df26)"
   ]
  },
  {
   "cell_type": "code",
   "execution_count": 104,
   "metadata": {},
   "outputs": [
    {
     "name": "stdout",
     "output_type": "stream",
     "text": [
      "  emp_name        email                                        job_profile\n",
      "0     Atul  atul@ds.com  {'Role1': 'Jr Data Scientist', 'Role2': 'Data ...\n",
      "[{\"emp_name\":\"Atul\",\"email\":\"atul@ds.com\",\"job_profile\":{\"Role1\":\"Jr Data Scientist\",\"Role2\":\"Data Scientist\"}}]\n"
     ]
    }
   ],
   "source": [
    "# convert object to a JSON String format -- If we use recod , there is no index is being used in below result output-df27\n",
    "print(df20)\n",
    "df27 = df20.to_json(orient=\"records\")\n",
    "print(df27)"
   ]
  },
  {
   "cell_type": "code",
   "execution_count": 105,
   "metadata": {},
   "outputs": [],
   "source": [
    "import numpy as np\n",
    "import pandas as pd\n",
    "from io import StringIO,BytesIO"
   ]
  },
  {
   "cell_type": "code",
   "execution_count": 106,
   "metadata": {},
   "outputs": [],
   "source": [
    "# Reading HTML content\n",
    "url = \"https://www.fdic.gov/bank/individual/failed/banklist.html\"\n",
    "df28 = pd.read_html(url)"
   ]
  },
  {
   "cell_type": "code",
   "execution_count": 107,
   "metadata": {},
   "outputs": [
    {
     "data": {
      "text/html": [
       "<div>\n",
       "<style scoped>\n",
       "    .dataframe tbody tr th:only-of-type {\n",
       "        vertical-align: middle;\n",
       "    }\n",
       "\n",
       "    .dataframe tbody tr th {\n",
       "        vertical-align: top;\n",
       "    }\n",
       "\n",
       "    .dataframe thead th {\n",
       "        text-align: right;\n",
       "    }\n",
       "</style>\n",
       "<table border=\"1\" class=\"dataframe\">\n",
       "  <thead>\n",
       "    <tr style=\"text-align: right;\">\n",
       "      <th></th>\n",
       "      <th>Bank Name</th>\n",
       "      <th>City</th>\n",
       "      <th>ST</th>\n",
       "      <th>CERT</th>\n",
       "      <th>Acquiring Institution</th>\n",
       "      <th>Closing Date</th>\n",
       "    </tr>\n",
       "  </thead>\n",
       "  <tbody>\n",
       "    <tr>\n",
       "      <th>0</th>\n",
       "      <td>Ericson State Bank</td>\n",
       "      <td>Ericson</td>\n",
       "      <td>NE</td>\n",
       "      <td>18265</td>\n",
       "      <td>Farmers and Merchants Bank</td>\n",
       "      <td>February 14, 2020</td>\n",
       "    </tr>\n",
       "    <tr>\n",
       "      <th>1</th>\n",
       "      <td>City National Bank of New Jersey</td>\n",
       "      <td>Newark</td>\n",
       "      <td>NJ</td>\n",
       "      <td>21111</td>\n",
       "      <td>Industrial Bank</td>\n",
       "      <td>November 1, 2019</td>\n",
       "    </tr>\n",
       "    <tr>\n",
       "      <th>2</th>\n",
       "      <td>Resolute Bank</td>\n",
       "      <td>Maumee</td>\n",
       "      <td>OH</td>\n",
       "      <td>58317</td>\n",
       "      <td>Buckeye State Bank</td>\n",
       "      <td>October 25, 2019</td>\n",
       "    </tr>\n",
       "    <tr>\n",
       "      <th>3</th>\n",
       "      <td>Louisa Community Bank</td>\n",
       "      <td>Louisa</td>\n",
       "      <td>KY</td>\n",
       "      <td>58112</td>\n",
       "      <td>Kentucky Farmers Bank Corporation</td>\n",
       "      <td>October 25, 2019</td>\n",
       "    </tr>\n",
       "    <tr>\n",
       "      <th>4</th>\n",
       "      <td>The Enloe State Bank</td>\n",
       "      <td>Cooper</td>\n",
       "      <td>TX</td>\n",
       "      <td>10716</td>\n",
       "      <td>Legend Bank, N. A.</td>\n",
       "      <td>May 31, 2019</td>\n",
       "    </tr>\n",
       "    <tr>\n",
       "      <th>...</th>\n",
       "      <td>...</td>\n",
       "      <td>...</td>\n",
       "      <td>...</td>\n",
       "      <td>...</td>\n",
       "      <td>...</td>\n",
       "      <td>...</td>\n",
       "    </tr>\n",
       "    <tr>\n",
       "      <th>555</th>\n",
       "      <td>Superior Bank, FSB</td>\n",
       "      <td>Hinsdale</td>\n",
       "      <td>IL</td>\n",
       "      <td>32646</td>\n",
       "      <td>Superior Federal, FSB</td>\n",
       "      <td>July 27, 2001</td>\n",
       "    </tr>\n",
       "    <tr>\n",
       "      <th>556</th>\n",
       "      <td>Malta National Bank</td>\n",
       "      <td>Malta</td>\n",
       "      <td>OH</td>\n",
       "      <td>6629</td>\n",
       "      <td>North Valley Bank</td>\n",
       "      <td>May 3, 2001</td>\n",
       "    </tr>\n",
       "    <tr>\n",
       "      <th>557</th>\n",
       "      <td>First Alliance Bank &amp; Trust Co.</td>\n",
       "      <td>Manchester</td>\n",
       "      <td>NH</td>\n",
       "      <td>34264</td>\n",
       "      <td>Southern New Hampshire Bank &amp; Trust</td>\n",
       "      <td>February 2, 2001</td>\n",
       "    </tr>\n",
       "    <tr>\n",
       "      <th>558</th>\n",
       "      <td>National State Bank of Metropolis</td>\n",
       "      <td>Metropolis</td>\n",
       "      <td>IL</td>\n",
       "      <td>3815</td>\n",
       "      <td>Banterra Bank of Marion</td>\n",
       "      <td>December 14, 2000</td>\n",
       "    </tr>\n",
       "    <tr>\n",
       "      <th>559</th>\n",
       "      <td>Bank of Honolulu</td>\n",
       "      <td>Honolulu</td>\n",
       "      <td>HI</td>\n",
       "      <td>21029</td>\n",
       "      <td>Bank of the Orient</td>\n",
       "      <td>October 13, 2000</td>\n",
       "    </tr>\n",
       "  </tbody>\n",
       "</table>\n",
       "<p>560 rows × 6 columns</p>\n",
       "</div>"
      ],
      "text/plain": [
       "                             Bank Name        City  ST   CERT  \\\n",
       "0                   Ericson State Bank     Ericson  NE  18265   \n",
       "1     City National Bank of New Jersey      Newark  NJ  21111   \n",
       "2                        Resolute Bank      Maumee  OH  58317   \n",
       "3                Louisa Community Bank      Louisa  KY  58112   \n",
       "4                 The Enloe State Bank      Cooper  TX  10716   \n",
       "..                                 ...         ...  ..    ...   \n",
       "555                 Superior Bank, FSB    Hinsdale  IL  32646   \n",
       "556                Malta National Bank       Malta  OH   6629   \n",
       "557    First Alliance Bank & Trust Co.  Manchester  NH  34264   \n",
       "558  National State Bank of Metropolis  Metropolis  IL   3815   \n",
       "559                   Bank of Honolulu    Honolulu  HI  21029   \n",
       "\n",
       "                   Acquiring Institution       Closing Date  \n",
       "0             Farmers and Merchants Bank  February 14, 2020  \n",
       "1                        Industrial Bank   November 1, 2019  \n",
       "2                     Buckeye State Bank   October 25, 2019  \n",
       "3      Kentucky Farmers Bank Corporation   October 25, 2019  \n",
       "4                     Legend Bank, N. A.       May 31, 2019  \n",
       "..                                   ...                ...  \n",
       "555                Superior Federal, FSB      July 27, 2001  \n",
       "556                    North Valley Bank        May 3, 2001  \n",
       "557  Southern New Hampshire Bank & Trust   February 2, 2001  \n",
       "558              Banterra Bank of Marion  December 14, 2000  \n",
       "559                   Bank of the Orient   October 13, 2000  \n",
       "\n",
       "[560 rows x 6 columns]"
      ]
     },
     "execution_count": 107,
     "metadata": {},
     "output_type": "execute_result"
    }
   ],
   "source": [
    "df28[0]"
   ]
  },
  {
   "cell_type": "code",
   "execution_count": 108,
   "metadata": {},
   "outputs": [],
   "source": [
    "url1 = \"https://en.wikipedia.org/wiki/Mobile_country_code\"\n",
    "df29 = pd.read_html(url1,match=\"Country\", header=0)"
   ]
  },
  {
   "cell_type": "code",
   "execution_count": 109,
   "metadata": {},
   "outputs": [
    {
     "data": {
      "text/html": [
       "<div>\n",
       "<style scoped>\n",
       "    .dataframe tbody tr th:only-of-type {\n",
       "        vertical-align: middle;\n",
       "    }\n",
       "\n",
       "    .dataframe tbody tr th {\n",
       "        vertical-align: top;\n",
       "    }\n",
       "\n",
       "    .dataframe thead th {\n",
       "        text-align: right;\n",
       "    }\n",
       "</style>\n",
       "<table border=\"1\" class=\"dataframe\">\n",
       "  <thead>\n",
       "    <tr style=\"text-align: right;\">\n",
       "      <th></th>\n",
       "      <th>Mobile Country Code</th>\n",
       "      <th>Country</th>\n",
       "      <th>ISO 3166</th>\n",
       "      <th>Mobile Network Codes</th>\n",
       "      <th>National MNC authority</th>\n",
       "      <th>Remarks</th>\n",
       "    </tr>\n",
       "  </thead>\n",
       "  <tbody>\n",
       "    <tr>\n",
       "      <th>0</th>\n",
       "      <td>289</td>\n",
       "      <td>A Abkhazia</td>\n",
       "      <td>GE-AB</td>\n",
       "      <td>List of Mobile Network Codes in Abkhasia</td>\n",
       "      <td>NaN</td>\n",
       "      <td>MCC is not listed by ITU</td>\n",
       "    </tr>\n",
       "    <tr>\n",
       "      <th>1</th>\n",
       "      <td>412</td>\n",
       "      <td>Afghanistan</td>\n",
       "      <td>AF</td>\n",
       "      <td>List of Mobile Network Codes in Afghanistan</td>\n",
       "      <td>NaN</td>\n",
       "      <td>NaN</td>\n",
       "    </tr>\n",
       "    <tr>\n",
       "      <th>2</th>\n",
       "      <td>276</td>\n",
       "      <td>Albania</td>\n",
       "      <td>AL</td>\n",
       "      <td>List of Mobile Network Codes in Albania</td>\n",
       "      <td>NaN</td>\n",
       "      <td>NaN</td>\n",
       "    </tr>\n",
       "    <tr>\n",
       "      <th>3</th>\n",
       "      <td>603</td>\n",
       "      <td>Algeria</td>\n",
       "      <td>DZ</td>\n",
       "      <td>List of Mobile Network Codes in Algeria</td>\n",
       "      <td>NaN</td>\n",
       "      <td>NaN</td>\n",
       "    </tr>\n",
       "    <tr>\n",
       "      <th>4</th>\n",
       "      <td>544</td>\n",
       "      <td>American Samoa (United States of America)</td>\n",
       "      <td>AS</td>\n",
       "      <td>List of Mobile Network Codes in American Samoa</td>\n",
       "      <td>NaN</td>\n",
       "      <td>NaN</td>\n",
       "    </tr>\n",
       "    <tr>\n",
       "      <th>...</th>\n",
       "      <td>...</td>\n",
       "      <td>...</td>\n",
       "      <td>...</td>\n",
       "      <td>...</td>\n",
       "      <td>...</td>\n",
       "      <td>...</td>\n",
       "    </tr>\n",
       "    <tr>\n",
       "      <th>247</th>\n",
       "      <td>452</td>\n",
       "      <td>Vietnam</td>\n",
       "      <td>VN</td>\n",
       "      <td>List of Mobile Network Codes in the Vietnam</td>\n",
       "      <td>NaN</td>\n",
       "      <td>NaN</td>\n",
       "    </tr>\n",
       "    <tr>\n",
       "      <th>248</th>\n",
       "      <td>543</td>\n",
       "      <td>W Wallis and Futuna</td>\n",
       "      <td>WF</td>\n",
       "      <td>List of Mobile Network Codes in Wallis and Futuna</td>\n",
       "      <td>NaN</td>\n",
       "      <td>NaN</td>\n",
       "    </tr>\n",
       "    <tr>\n",
       "      <th>249</th>\n",
       "      <td>421</td>\n",
       "      <td>Y Yemen</td>\n",
       "      <td>YE</td>\n",
       "      <td>List of Mobile Network Codes in the Yemen</td>\n",
       "      <td>NaN</td>\n",
       "      <td>NaN</td>\n",
       "    </tr>\n",
       "    <tr>\n",
       "      <th>250</th>\n",
       "      <td>645</td>\n",
       "      <td>Z Zambia</td>\n",
       "      <td>ZM</td>\n",
       "      <td>List of Mobile Network Codes in Zambia</td>\n",
       "      <td>NaN</td>\n",
       "      <td>NaN</td>\n",
       "    </tr>\n",
       "    <tr>\n",
       "      <th>251</th>\n",
       "      <td>648</td>\n",
       "      <td>Zimbabwe</td>\n",
       "      <td>ZW</td>\n",
       "      <td>List of Mobile Network Codes in Zimbabwe</td>\n",
       "      <td>NaN</td>\n",
       "      <td>NaN</td>\n",
       "    </tr>\n",
       "  </tbody>\n",
       "</table>\n",
       "<p>252 rows × 6 columns</p>\n",
       "</div>"
      ],
      "text/plain": [
       "     Mobile Country Code                                    Country ISO 3166  \\\n",
       "0                    289                                 A Abkhazia    GE-AB   \n",
       "1                    412                                Afghanistan       AF   \n",
       "2                    276                                    Albania       AL   \n",
       "3                    603                                    Algeria       DZ   \n",
       "4                    544  American Samoa (United States of America)       AS   \n",
       "..                   ...                                        ...      ...   \n",
       "247                  452                                    Vietnam       VN   \n",
       "248                  543                        W Wallis and Futuna       WF   \n",
       "249                  421                                    Y Yemen       YE   \n",
       "250                  645                                   Z Zambia       ZM   \n",
       "251                  648                                   Zimbabwe       ZW   \n",
       "\n",
       "                                  Mobile Network Codes National MNC authority  \\\n",
       "0             List of Mobile Network Codes in Abkhasia                    NaN   \n",
       "1          List of Mobile Network Codes in Afghanistan                    NaN   \n",
       "2              List of Mobile Network Codes in Albania                    NaN   \n",
       "3              List of Mobile Network Codes in Algeria                    NaN   \n",
       "4       List of Mobile Network Codes in American Samoa                    NaN   \n",
       "..                                                 ...                    ...   \n",
       "247        List of Mobile Network Codes in the Vietnam                    NaN   \n",
       "248  List of Mobile Network Codes in Wallis and Futuna                    NaN   \n",
       "249          List of Mobile Network Codes in the Yemen                    NaN   \n",
       "250             List of Mobile Network Codes in Zambia                    NaN   \n",
       "251           List of Mobile Network Codes in Zimbabwe                    NaN   \n",
       "\n",
       "                      Remarks  \n",
       "0    MCC is not listed by ITU  \n",
       "1                         NaN  \n",
       "2                         NaN  \n",
       "3                         NaN  \n",
       "4                         NaN  \n",
       "..                        ...  \n",
       "247                       NaN  \n",
       "248                       NaN  \n",
       "249                       NaN  \n",
       "250                       NaN  \n",
       "251                       NaN  \n",
       "\n",
       "[252 rows x 6 columns]"
      ]
     },
     "execution_count": 109,
     "metadata": {},
     "output_type": "execute_result"
    }
   ],
   "source": [
    "df29[0]"
   ]
  },
  {
   "cell_type": "code",
   "execution_count": 110,
   "metadata": {},
   "outputs": [],
   "source": [
    "# Reading Excel Data\n",
    "df30 = pd.read_excel(\"C:\\E\\Data_Science\\KrishNaik_Youtube\\ML\\Machine_Learning_master\\Section_1_Python_Crash_Course\\movies.xls\")"
   ]
  },
  {
   "cell_type": "code",
   "execution_count": 111,
   "metadata": {},
   "outputs": [
    {
     "data": {
      "text/html": [
       "<div>\n",
       "<style scoped>\n",
       "    .dataframe tbody tr th:only-of-type {\n",
       "        vertical-align: middle;\n",
       "    }\n",
       "\n",
       "    .dataframe tbody tr th {\n",
       "        vertical-align: top;\n",
       "    }\n",
       "\n",
       "    .dataframe thead th {\n",
       "        text-align: right;\n",
       "    }\n",
       "</style>\n",
       "<table border=\"1\" class=\"dataframe\">\n",
       "  <thead>\n",
       "    <tr style=\"text-align: right;\">\n",
       "      <th></th>\n",
       "      <th>Title</th>\n",
       "      <th>Year</th>\n",
       "      <th>Genres</th>\n",
       "      <th>Language</th>\n",
       "      <th>Country</th>\n",
       "      <th>Content Rating</th>\n",
       "      <th>Duration</th>\n",
       "      <th>Aspect Ratio</th>\n",
       "      <th>Budget</th>\n",
       "      <th>Gross Earnings</th>\n",
       "      <th>...</th>\n",
       "      <th>Facebook Likes - Actor 1</th>\n",
       "      <th>Facebook Likes - Actor 2</th>\n",
       "      <th>Facebook Likes - Actor 3</th>\n",
       "      <th>Facebook Likes - cast Total</th>\n",
       "      <th>Facebook likes - Movie</th>\n",
       "      <th>Facenumber in posters</th>\n",
       "      <th>User Votes</th>\n",
       "      <th>Reviews by Users</th>\n",
       "      <th>Reviews by Crtiics</th>\n",
       "      <th>IMDB Score</th>\n",
       "    </tr>\n",
       "  </thead>\n",
       "  <tbody>\n",
       "    <tr>\n",
       "      <th>0</th>\n",
       "      <td>Intolerance: Love's Struggle Throughout the Ages</td>\n",
       "      <td>1916</td>\n",
       "      <td>Drama|History|War</td>\n",
       "      <td>NaN</td>\n",
       "      <td>USA</td>\n",
       "      <td>Not Rated</td>\n",
       "      <td>123</td>\n",
       "      <td>1.33</td>\n",
       "      <td>385907.0</td>\n",
       "      <td>NaN</td>\n",
       "      <td>...</td>\n",
       "      <td>436</td>\n",
       "      <td>22</td>\n",
       "      <td>9.0</td>\n",
       "      <td>481</td>\n",
       "      <td>691</td>\n",
       "      <td>1</td>\n",
       "      <td>10718</td>\n",
       "      <td>88</td>\n",
       "      <td>69.0</td>\n",
       "      <td>8.0</td>\n",
       "    </tr>\n",
       "    <tr>\n",
       "      <th>1</th>\n",
       "      <td>Over the Hill to the Poorhouse</td>\n",
       "      <td>1920</td>\n",
       "      <td>Crime|Drama</td>\n",
       "      <td>NaN</td>\n",
       "      <td>USA</td>\n",
       "      <td>NaN</td>\n",
       "      <td>110</td>\n",
       "      <td>1.33</td>\n",
       "      <td>100000.0</td>\n",
       "      <td>3000000.0</td>\n",
       "      <td>...</td>\n",
       "      <td>2</td>\n",
       "      <td>2</td>\n",
       "      <td>0.0</td>\n",
       "      <td>4</td>\n",
       "      <td>0</td>\n",
       "      <td>1</td>\n",
       "      <td>5</td>\n",
       "      <td>1</td>\n",
       "      <td>1.0</td>\n",
       "      <td>4.8</td>\n",
       "    </tr>\n",
       "    <tr>\n",
       "      <th>2</th>\n",
       "      <td>The Big Parade</td>\n",
       "      <td>1925</td>\n",
       "      <td>Drama|Romance|War</td>\n",
       "      <td>NaN</td>\n",
       "      <td>USA</td>\n",
       "      <td>Not Rated</td>\n",
       "      <td>151</td>\n",
       "      <td>1.33</td>\n",
       "      <td>245000.0</td>\n",
       "      <td>NaN</td>\n",
       "      <td>...</td>\n",
       "      <td>81</td>\n",
       "      <td>12</td>\n",
       "      <td>6.0</td>\n",
       "      <td>108</td>\n",
       "      <td>226</td>\n",
       "      <td>0</td>\n",
       "      <td>4849</td>\n",
       "      <td>45</td>\n",
       "      <td>48.0</td>\n",
       "      <td>8.3</td>\n",
       "    </tr>\n",
       "    <tr>\n",
       "      <th>3</th>\n",
       "      <td>Metropolis</td>\n",
       "      <td>1927</td>\n",
       "      <td>Drama|Sci-Fi</td>\n",
       "      <td>German</td>\n",
       "      <td>Germany</td>\n",
       "      <td>Not Rated</td>\n",
       "      <td>145</td>\n",
       "      <td>1.33</td>\n",
       "      <td>6000000.0</td>\n",
       "      <td>26435.0</td>\n",
       "      <td>...</td>\n",
       "      <td>136</td>\n",
       "      <td>23</td>\n",
       "      <td>18.0</td>\n",
       "      <td>203</td>\n",
       "      <td>12000</td>\n",
       "      <td>1</td>\n",
       "      <td>111841</td>\n",
       "      <td>413</td>\n",
       "      <td>260.0</td>\n",
       "      <td>8.3</td>\n",
       "    </tr>\n",
       "    <tr>\n",
       "      <th>4</th>\n",
       "      <td>Pandora's Box</td>\n",
       "      <td>1929</td>\n",
       "      <td>Crime|Drama|Romance</td>\n",
       "      <td>German</td>\n",
       "      <td>Germany</td>\n",
       "      <td>Not Rated</td>\n",
       "      <td>110</td>\n",
       "      <td>1.33</td>\n",
       "      <td>NaN</td>\n",
       "      <td>9950.0</td>\n",
       "      <td>...</td>\n",
       "      <td>426</td>\n",
       "      <td>20</td>\n",
       "      <td>3.0</td>\n",
       "      <td>455</td>\n",
       "      <td>926</td>\n",
       "      <td>1</td>\n",
       "      <td>7431</td>\n",
       "      <td>84</td>\n",
       "      <td>71.0</td>\n",
       "      <td>8.0</td>\n",
       "    </tr>\n",
       "    <tr>\n",
       "      <th>...</th>\n",
       "      <td>...</td>\n",
       "      <td>...</td>\n",
       "      <td>...</td>\n",
       "      <td>...</td>\n",
       "      <td>...</td>\n",
       "      <td>...</td>\n",
       "      <td>...</td>\n",
       "      <td>...</td>\n",
       "      <td>...</td>\n",
       "      <td>...</td>\n",
       "      <td>...</td>\n",
       "      <td>...</td>\n",
       "      <td>...</td>\n",
       "      <td>...</td>\n",
       "      <td>...</td>\n",
       "      <td>...</td>\n",
       "      <td>...</td>\n",
       "      <td>...</td>\n",
       "      <td>...</td>\n",
       "      <td>...</td>\n",
       "      <td>...</td>\n",
       "    </tr>\n",
       "    <tr>\n",
       "      <th>1333</th>\n",
       "      <td>Twin Falls Idaho</td>\n",
       "      <td>1999</td>\n",
       "      <td>Drama</td>\n",
       "      <td>English</td>\n",
       "      <td>USA</td>\n",
       "      <td>R</td>\n",
       "      <td>111</td>\n",
       "      <td>1.85</td>\n",
       "      <td>500000.0</td>\n",
       "      <td>985341.0</td>\n",
       "      <td>...</td>\n",
       "      <td>980</td>\n",
       "      <td>505</td>\n",
       "      <td>482.0</td>\n",
       "      <td>3166</td>\n",
       "      <td>180</td>\n",
       "      <td>0</td>\n",
       "      <td>3479</td>\n",
       "      <td>87</td>\n",
       "      <td>54.0</td>\n",
       "      <td>7.3</td>\n",
       "    </tr>\n",
       "    <tr>\n",
       "      <th>1334</th>\n",
       "      <td>Universal Soldier: The Return</td>\n",
       "      <td>1999</td>\n",
       "      <td>Action|Sci-Fi</td>\n",
       "      <td>English</td>\n",
       "      <td>USA</td>\n",
       "      <td>R</td>\n",
       "      <td>83</td>\n",
       "      <td>1.85</td>\n",
       "      <td>24000000.0</td>\n",
       "      <td>10431220.0</td>\n",
       "      <td>...</td>\n",
       "      <td>2000</td>\n",
       "      <td>577</td>\n",
       "      <td>485.0</td>\n",
       "      <td>4024</td>\n",
       "      <td>401</td>\n",
       "      <td>0</td>\n",
       "      <td>24216</td>\n",
       "      <td>162</td>\n",
       "      <td>75.0</td>\n",
       "      <td>4.1</td>\n",
       "    </tr>\n",
       "    <tr>\n",
       "      <th>1335</th>\n",
       "      <td>Varsity Blues</td>\n",
       "      <td>1999</td>\n",
       "      <td>Comedy|Drama|Romance|Sport</td>\n",
       "      <td>English</td>\n",
       "      <td>USA</td>\n",
       "      <td>R</td>\n",
       "      <td>106</td>\n",
       "      <td>1.85</td>\n",
       "      <td>16000000.0</td>\n",
       "      <td>52885587.0</td>\n",
       "      <td>...</td>\n",
       "      <td>23000</td>\n",
       "      <td>255</td>\n",
       "      <td>35.0</td>\n",
       "      <td>23369</td>\n",
       "      <td>0</td>\n",
       "      <td>0</td>\n",
       "      <td>35312</td>\n",
       "      <td>267</td>\n",
       "      <td>67.0</td>\n",
       "      <td>6.4</td>\n",
       "    </tr>\n",
       "    <tr>\n",
       "      <th>1336</th>\n",
       "      <td>Wild Wild West</td>\n",
       "      <td>1999</td>\n",
       "      <td>Action|Comedy|Sci-Fi|Western</td>\n",
       "      <td>English</td>\n",
       "      <td>USA</td>\n",
       "      <td>PG-13</td>\n",
       "      <td>106</td>\n",
       "      <td>1.85</td>\n",
       "      <td>170000000.0</td>\n",
       "      <td>113745408.0</td>\n",
       "      <td>...</td>\n",
       "      <td>10000</td>\n",
       "      <td>4000</td>\n",
       "      <td>582.0</td>\n",
       "      <td>15870</td>\n",
       "      <td>0</td>\n",
       "      <td>2</td>\n",
       "      <td>129601</td>\n",
       "      <td>648</td>\n",
       "      <td>85.0</td>\n",
       "      <td>4.8</td>\n",
       "    </tr>\n",
       "    <tr>\n",
       "      <th>1337</th>\n",
       "      <td>Wing Commander</td>\n",
       "      <td>1999</td>\n",
       "      <td>Action|Adventure|Sci-Fi</td>\n",
       "      <td>English</td>\n",
       "      <td>USA</td>\n",
       "      <td>PG-13</td>\n",
       "      <td>100</td>\n",
       "      <td>2.35</td>\n",
       "      <td>30000000.0</td>\n",
       "      <td>11576087.0</td>\n",
       "      <td>...</td>\n",
       "      <td>811</td>\n",
       "      <td>586</td>\n",
       "      <td>362.0</td>\n",
       "      <td>2497</td>\n",
       "      <td>858</td>\n",
       "      <td>3</td>\n",
       "      <td>14747</td>\n",
       "      <td>338</td>\n",
       "      <td>85.0</td>\n",
       "      <td>4.1</td>\n",
       "    </tr>\n",
       "  </tbody>\n",
       "</table>\n",
       "<p>1338 rows × 25 columns</p>\n",
       "</div>"
      ],
      "text/plain": [
       "                                                  Title  Year  \\\n",
       "0     Intolerance: Love's Struggle Throughout the Ages   1916   \n",
       "1                       Over the Hill to the Poorhouse   1920   \n",
       "2                                       The Big Parade   1925   \n",
       "3                                           Metropolis   1927   \n",
       "4                                        Pandora's Box   1929   \n",
       "...                                                 ...   ...   \n",
       "1333                                  Twin Falls Idaho   1999   \n",
       "1334                     Universal Soldier: The Return   1999   \n",
       "1335                                     Varsity Blues   1999   \n",
       "1336                                    Wild Wild West   1999   \n",
       "1337                                    Wing Commander   1999   \n",
       "\n",
       "                            Genres Language  Country Content Rating  Duration  \\\n",
       "0                Drama|History|War      NaN      USA      Not Rated       123   \n",
       "1                      Crime|Drama      NaN      USA            NaN       110   \n",
       "2                Drama|Romance|War      NaN      USA      Not Rated       151   \n",
       "3                     Drama|Sci-Fi   German  Germany      Not Rated       145   \n",
       "4              Crime|Drama|Romance   German  Germany      Not Rated       110   \n",
       "...                            ...      ...      ...            ...       ...   \n",
       "1333                         Drama  English      USA              R       111   \n",
       "1334                 Action|Sci-Fi  English      USA              R        83   \n",
       "1335    Comedy|Drama|Romance|Sport  English      USA              R       106   \n",
       "1336  Action|Comedy|Sci-Fi|Western  English      USA          PG-13       106   \n",
       "1337       Action|Adventure|Sci-Fi  English      USA          PG-13       100   \n",
       "\n",
       "      Aspect Ratio       Budget  Gross Earnings  ... Facebook Likes - Actor 1  \\\n",
       "0             1.33     385907.0             NaN  ...                      436   \n",
       "1             1.33     100000.0       3000000.0  ...                        2   \n",
       "2             1.33     245000.0             NaN  ...                       81   \n",
       "3             1.33    6000000.0         26435.0  ...                      136   \n",
       "4             1.33          NaN          9950.0  ...                      426   \n",
       "...            ...          ...             ...  ...                      ...   \n",
       "1333          1.85     500000.0        985341.0  ...                      980   \n",
       "1334          1.85   24000000.0      10431220.0  ...                     2000   \n",
       "1335          1.85   16000000.0      52885587.0  ...                    23000   \n",
       "1336          1.85  170000000.0     113745408.0  ...                    10000   \n",
       "1337          2.35   30000000.0      11576087.0  ...                      811   \n",
       "\n",
       "     Facebook Likes - Actor 2 Facebook Likes - Actor 3  \\\n",
       "0                          22                      9.0   \n",
       "1                           2                      0.0   \n",
       "2                          12                      6.0   \n",
       "3                          23                     18.0   \n",
       "4                          20                      3.0   \n",
       "...                       ...                      ...   \n",
       "1333                      505                    482.0   \n",
       "1334                      577                    485.0   \n",
       "1335                      255                     35.0   \n",
       "1336                     4000                    582.0   \n",
       "1337                      586                    362.0   \n",
       "\n",
       "     Facebook Likes - cast Total  Facebook likes - Movie  \\\n",
       "0                            481                     691   \n",
       "1                              4                       0   \n",
       "2                            108                     226   \n",
       "3                            203                   12000   \n",
       "4                            455                     926   \n",
       "...                          ...                     ...   \n",
       "1333                        3166                     180   \n",
       "1334                        4024                     401   \n",
       "1335                       23369                       0   \n",
       "1336                       15870                       0   \n",
       "1337                        2497                     858   \n",
       "\n",
       "      Facenumber in posters  User Votes  Reviews by Users  Reviews by Crtiics  \\\n",
       "0                         1       10718                88                69.0   \n",
       "1                         1           5                 1                 1.0   \n",
       "2                         0        4849                45                48.0   \n",
       "3                         1      111841               413               260.0   \n",
       "4                         1        7431                84                71.0   \n",
       "...                     ...         ...               ...                 ...   \n",
       "1333                      0        3479                87                54.0   \n",
       "1334                      0       24216               162                75.0   \n",
       "1335                      0       35312               267                67.0   \n",
       "1336                      2      129601               648                85.0   \n",
       "1337                      3       14747               338                85.0   \n",
       "\n",
       "      IMDB Score  \n",
       "0            8.0  \n",
       "1            4.8  \n",
       "2            8.3  \n",
       "3            8.3  \n",
       "4            8.0  \n",
       "...          ...  \n",
       "1333         7.3  \n",
       "1334         4.1  \n",
       "1335         6.4  \n",
       "1336         4.8  \n",
       "1337         4.1  \n",
       "\n",
       "[1338 rows x 25 columns]"
      ]
     },
     "execution_count": 111,
     "metadata": {},
     "output_type": "execute_result"
    }
   ],
   "source": [
    "df30"
   ]
  },
  {
   "cell_type": "markdown",
   "metadata": {},
   "source": [
    "# Phython Pickeling\n",
    "    Python pickle module is used for serializing and de-serializing a Python object structure. Any object in Python can be pickled so that it can be saved on disk. What pickle does is that it “serializes” the object first before writing it to file. Pickling is a way to convert a python object (list, dict, etc.) into a bytes stream(0 and 1).The idea is that this character stream contains all the information necessary to reconstruct the object in another python script. We can converts the byte stream (generated through pickling) back into python objects by a process called as unpickling.\n",
    "    Why Pickle?: In real world sceanario, the use pickling and unpickling are widespread as they allow us to easily transfer data from one server/system to another and then store it in a file or database.\n",
    "    Precaution: It is advisable not to unpickle data received from an untrusted source as they may pose security threat. However, the pickle module has no way of knowing or raise alarm while pickling malicious data."
   ]
  },
  {
   "cell_type": "code",
   "execution_count": 112,
   "metadata": {},
   "outputs": [
    {
     "data": {
      "text/html": [
       "<div>\n",
       "<style scoped>\n",
       "    .dataframe tbody tr th:only-of-type {\n",
       "        vertical-align: middle;\n",
       "    }\n",
       "\n",
       "    .dataframe tbody tr th {\n",
       "        vertical-align: top;\n",
       "    }\n",
       "\n",
       "    .dataframe thead th {\n",
       "        text-align: right;\n",
       "    }\n",
       "</style>\n",
       "<table border=\"1\" class=\"dataframe\">\n",
       "  <thead>\n",
       "    <tr style=\"text-align: right;\">\n",
       "      <th></th>\n",
       "      <th>Title</th>\n",
       "      <th>Year</th>\n",
       "      <th>Genres</th>\n",
       "      <th>Language</th>\n",
       "      <th>Country</th>\n",
       "      <th>Content Rating</th>\n",
       "      <th>Duration</th>\n",
       "      <th>Aspect Ratio</th>\n",
       "      <th>Budget</th>\n",
       "      <th>Gross Earnings</th>\n",
       "      <th>...</th>\n",
       "      <th>Facebook Likes - Actor 1</th>\n",
       "      <th>Facebook Likes - Actor 2</th>\n",
       "      <th>Facebook Likes - Actor 3</th>\n",
       "      <th>Facebook Likes - cast Total</th>\n",
       "      <th>Facebook likes - Movie</th>\n",
       "      <th>Facenumber in posters</th>\n",
       "      <th>User Votes</th>\n",
       "      <th>Reviews by Users</th>\n",
       "      <th>Reviews by Crtiics</th>\n",
       "      <th>IMDB Score</th>\n",
       "    </tr>\n",
       "  </thead>\n",
       "  <tbody>\n",
       "    <tr>\n",
       "      <th>0</th>\n",
       "      <td>Intolerance: Love's Struggle Throughout the Ages</td>\n",
       "      <td>1916</td>\n",
       "      <td>Drama|History|War</td>\n",
       "      <td>NaN</td>\n",
       "      <td>USA</td>\n",
       "      <td>Not Rated</td>\n",
       "      <td>123</td>\n",
       "      <td>1.33</td>\n",
       "      <td>385907.0</td>\n",
       "      <td>NaN</td>\n",
       "      <td>...</td>\n",
       "      <td>436</td>\n",
       "      <td>22</td>\n",
       "      <td>9.0</td>\n",
       "      <td>481</td>\n",
       "      <td>691</td>\n",
       "      <td>1</td>\n",
       "      <td>10718</td>\n",
       "      <td>88</td>\n",
       "      <td>69.0</td>\n",
       "      <td>8.0</td>\n",
       "    </tr>\n",
       "    <tr>\n",
       "      <th>1</th>\n",
       "      <td>Over the Hill to the Poorhouse</td>\n",
       "      <td>1920</td>\n",
       "      <td>Crime|Drama</td>\n",
       "      <td>NaN</td>\n",
       "      <td>USA</td>\n",
       "      <td>NaN</td>\n",
       "      <td>110</td>\n",
       "      <td>1.33</td>\n",
       "      <td>100000.0</td>\n",
       "      <td>3000000.0</td>\n",
       "      <td>...</td>\n",
       "      <td>2</td>\n",
       "      <td>2</td>\n",
       "      <td>0.0</td>\n",
       "      <td>4</td>\n",
       "      <td>0</td>\n",
       "      <td>1</td>\n",
       "      <td>5</td>\n",
       "      <td>1</td>\n",
       "      <td>1.0</td>\n",
       "      <td>4.8</td>\n",
       "    </tr>\n",
       "    <tr>\n",
       "      <th>2</th>\n",
       "      <td>The Big Parade</td>\n",
       "      <td>1925</td>\n",
       "      <td>Drama|Romance|War</td>\n",
       "      <td>NaN</td>\n",
       "      <td>USA</td>\n",
       "      <td>Not Rated</td>\n",
       "      <td>151</td>\n",
       "      <td>1.33</td>\n",
       "      <td>245000.0</td>\n",
       "      <td>NaN</td>\n",
       "      <td>...</td>\n",
       "      <td>81</td>\n",
       "      <td>12</td>\n",
       "      <td>6.0</td>\n",
       "      <td>108</td>\n",
       "      <td>226</td>\n",
       "      <td>0</td>\n",
       "      <td>4849</td>\n",
       "      <td>45</td>\n",
       "      <td>48.0</td>\n",
       "      <td>8.3</td>\n",
       "    </tr>\n",
       "    <tr>\n",
       "      <th>3</th>\n",
       "      <td>Metropolis</td>\n",
       "      <td>1927</td>\n",
       "      <td>Drama|Sci-Fi</td>\n",
       "      <td>German</td>\n",
       "      <td>Germany</td>\n",
       "      <td>Not Rated</td>\n",
       "      <td>145</td>\n",
       "      <td>1.33</td>\n",
       "      <td>6000000.0</td>\n",
       "      <td>26435.0</td>\n",
       "      <td>...</td>\n",
       "      <td>136</td>\n",
       "      <td>23</td>\n",
       "      <td>18.0</td>\n",
       "      <td>203</td>\n",
       "      <td>12000</td>\n",
       "      <td>1</td>\n",
       "      <td>111841</td>\n",
       "      <td>413</td>\n",
       "      <td>260.0</td>\n",
       "      <td>8.3</td>\n",
       "    </tr>\n",
       "    <tr>\n",
       "      <th>4</th>\n",
       "      <td>Pandora's Box</td>\n",
       "      <td>1929</td>\n",
       "      <td>Crime|Drama|Romance</td>\n",
       "      <td>German</td>\n",
       "      <td>Germany</td>\n",
       "      <td>Not Rated</td>\n",
       "      <td>110</td>\n",
       "      <td>1.33</td>\n",
       "      <td>NaN</td>\n",
       "      <td>9950.0</td>\n",
       "      <td>...</td>\n",
       "      <td>426</td>\n",
       "      <td>20</td>\n",
       "      <td>3.0</td>\n",
       "      <td>455</td>\n",
       "      <td>926</td>\n",
       "      <td>1</td>\n",
       "      <td>7431</td>\n",
       "      <td>84</td>\n",
       "      <td>71.0</td>\n",
       "      <td>8.0</td>\n",
       "    </tr>\n",
       "  </tbody>\n",
       "</table>\n",
       "<p>5 rows × 25 columns</p>\n",
       "</div>"
      ],
      "text/plain": [
       "                                               Title  Year  \\\n",
       "0  Intolerance: Love's Struggle Throughout the Ages   1916   \n",
       "1                    Over the Hill to the Poorhouse   1920   \n",
       "2                                    The Big Parade   1925   \n",
       "3                                        Metropolis   1927   \n",
       "4                                     Pandora's Box   1929   \n",
       "\n",
       "                Genres Language  Country Content Rating  Duration  \\\n",
       "0    Drama|History|War      NaN      USA      Not Rated       123   \n",
       "1          Crime|Drama      NaN      USA            NaN       110   \n",
       "2    Drama|Romance|War      NaN      USA      Not Rated       151   \n",
       "3         Drama|Sci-Fi   German  Germany      Not Rated       145   \n",
       "4  Crime|Drama|Romance   German  Germany      Not Rated       110   \n",
       "\n",
       "   Aspect Ratio     Budget  Gross Earnings  ... Facebook Likes - Actor 1  \\\n",
       "0          1.33   385907.0             NaN  ...                      436   \n",
       "1          1.33   100000.0       3000000.0  ...                        2   \n",
       "2          1.33   245000.0             NaN  ...                       81   \n",
       "3          1.33  6000000.0         26435.0  ...                      136   \n",
       "4          1.33        NaN          9950.0  ...                      426   \n",
       "\n",
       "  Facebook Likes - Actor 2 Facebook Likes - Actor 3  \\\n",
       "0                       22                      9.0   \n",
       "1                        2                      0.0   \n",
       "2                       12                      6.0   \n",
       "3                       23                     18.0   \n",
       "4                       20                      3.0   \n",
       "\n",
       "  Facebook Likes - cast Total  Facebook likes - Movie  Facenumber in posters  \\\n",
       "0                         481                     691                      1   \n",
       "1                           4                       0                      1   \n",
       "2                         108                     226                      0   \n",
       "3                         203                   12000                      1   \n",
       "4                         455                     926                      1   \n",
       "\n",
       "   User Votes  Reviews by Users  Reviews by Crtiics  IMDB Score  \n",
       "0       10718                88                69.0         8.0  \n",
       "1           5                 1                 1.0         4.8  \n",
       "2        4849                45                48.0         8.3  \n",
       "3      111841               413               260.0         8.3  \n",
       "4        7431                84                71.0         8.0  \n",
       "\n",
       "[5 rows x 25 columns]"
      ]
     },
     "execution_count": 112,
     "metadata": {},
     "output_type": "execute_result"
    }
   ],
   "source": [
    "import pickle\n",
    "df30.head()"
   ]
  },
  {
   "cell_type": "code",
   "execution_count": 113,
   "metadata": {},
   "outputs": [],
   "source": [
    "# convert excel to pickle\n",
    "df30.to_pickle(\"C:\\E\\Data_Science\\KrishNaik_Youtube\\ML\\Machine_Learning_master\\Section_1_Python_Crash_Course\\movie_pickle\")"
   ]
  },
  {
   "cell_type": "code",
   "execution_count": 114,
   "metadata": {},
   "outputs": [
    {
     "data": {
      "text/html": [
       "<div>\n",
       "<style scoped>\n",
       "    .dataframe tbody tr th:only-of-type {\n",
       "        vertical-align: middle;\n",
       "    }\n",
       "\n",
       "    .dataframe tbody tr th {\n",
       "        vertical-align: top;\n",
       "    }\n",
       "\n",
       "    .dataframe thead th {\n",
       "        text-align: right;\n",
       "    }\n",
       "</style>\n",
       "<table border=\"1\" class=\"dataframe\">\n",
       "  <thead>\n",
       "    <tr style=\"text-align: right;\">\n",
       "      <th></th>\n",
       "      <th>Title</th>\n",
       "      <th>Year</th>\n",
       "      <th>Genres</th>\n",
       "      <th>Language</th>\n",
       "      <th>Country</th>\n",
       "      <th>Content Rating</th>\n",
       "      <th>Duration</th>\n",
       "      <th>Aspect Ratio</th>\n",
       "      <th>Budget</th>\n",
       "      <th>Gross Earnings</th>\n",
       "      <th>...</th>\n",
       "      <th>Facebook Likes - Actor 1</th>\n",
       "      <th>Facebook Likes - Actor 2</th>\n",
       "      <th>Facebook Likes - Actor 3</th>\n",
       "      <th>Facebook Likes - cast Total</th>\n",
       "      <th>Facebook likes - Movie</th>\n",
       "      <th>Facenumber in posters</th>\n",
       "      <th>User Votes</th>\n",
       "      <th>Reviews by Users</th>\n",
       "      <th>Reviews by Crtiics</th>\n",
       "      <th>IMDB Score</th>\n",
       "    </tr>\n",
       "  </thead>\n",
       "  <tbody>\n",
       "    <tr>\n",
       "      <th>0</th>\n",
       "      <td>Intolerance: Love's Struggle Throughout the Ages</td>\n",
       "      <td>1916</td>\n",
       "      <td>Drama|History|War</td>\n",
       "      <td>NaN</td>\n",
       "      <td>USA</td>\n",
       "      <td>Not Rated</td>\n",
       "      <td>123</td>\n",
       "      <td>1.33</td>\n",
       "      <td>385907.0</td>\n",
       "      <td>NaN</td>\n",
       "      <td>...</td>\n",
       "      <td>436</td>\n",
       "      <td>22</td>\n",
       "      <td>9.0</td>\n",
       "      <td>481</td>\n",
       "      <td>691</td>\n",
       "      <td>1</td>\n",
       "      <td>10718</td>\n",
       "      <td>88</td>\n",
       "      <td>69.0</td>\n",
       "      <td>8.0</td>\n",
       "    </tr>\n",
       "    <tr>\n",
       "      <th>1</th>\n",
       "      <td>Over the Hill to the Poorhouse</td>\n",
       "      <td>1920</td>\n",
       "      <td>Crime|Drama</td>\n",
       "      <td>NaN</td>\n",
       "      <td>USA</td>\n",
       "      <td>NaN</td>\n",
       "      <td>110</td>\n",
       "      <td>1.33</td>\n",
       "      <td>100000.0</td>\n",
       "      <td>3000000.0</td>\n",
       "      <td>...</td>\n",
       "      <td>2</td>\n",
       "      <td>2</td>\n",
       "      <td>0.0</td>\n",
       "      <td>4</td>\n",
       "      <td>0</td>\n",
       "      <td>1</td>\n",
       "      <td>5</td>\n",
       "      <td>1</td>\n",
       "      <td>1.0</td>\n",
       "      <td>4.8</td>\n",
       "    </tr>\n",
       "    <tr>\n",
       "      <th>2</th>\n",
       "      <td>The Big Parade</td>\n",
       "      <td>1925</td>\n",
       "      <td>Drama|Romance|War</td>\n",
       "      <td>NaN</td>\n",
       "      <td>USA</td>\n",
       "      <td>Not Rated</td>\n",
       "      <td>151</td>\n",
       "      <td>1.33</td>\n",
       "      <td>245000.0</td>\n",
       "      <td>NaN</td>\n",
       "      <td>...</td>\n",
       "      <td>81</td>\n",
       "      <td>12</td>\n",
       "      <td>6.0</td>\n",
       "      <td>108</td>\n",
       "      <td>226</td>\n",
       "      <td>0</td>\n",
       "      <td>4849</td>\n",
       "      <td>45</td>\n",
       "      <td>48.0</td>\n",
       "      <td>8.3</td>\n",
       "    </tr>\n",
       "    <tr>\n",
       "      <th>3</th>\n",
       "      <td>Metropolis</td>\n",
       "      <td>1927</td>\n",
       "      <td>Drama|Sci-Fi</td>\n",
       "      <td>German</td>\n",
       "      <td>Germany</td>\n",
       "      <td>Not Rated</td>\n",
       "      <td>145</td>\n",
       "      <td>1.33</td>\n",
       "      <td>6000000.0</td>\n",
       "      <td>26435.0</td>\n",
       "      <td>...</td>\n",
       "      <td>136</td>\n",
       "      <td>23</td>\n",
       "      <td>18.0</td>\n",
       "      <td>203</td>\n",
       "      <td>12000</td>\n",
       "      <td>1</td>\n",
       "      <td>111841</td>\n",
       "      <td>413</td>\n",
       "      <td>260.0</td>\n",
       "      <td>8.3</td>\n",
       "    </tr>\n",
       "    <tr>\n",
       "      <th>4</th>\n",
       "      <td>Pandora's Box</td>\n",
       "      <td>1929</td>\n",
       "      <td>Crime|Drama|Romance</td>\n",
       "      <td>German</td>\n",
       "      <td>Germany</td>\n",
       "      <td>Not Rated</td>\n",
       "      <td>110</td>\n",
       "      <td>1.33</td>\n",
       "      <td>NaN</td>\n",
       "      <td>9950.0</td>\n",
       "      <td>...</td>\n",
       "      <td>426</td>\n",
       "      <td>20</td>\n",
       "      <td>3.0</td>\n",
       "      <td>455</td>\n",
       "      <td>926</td>\n",
       "      <td>1</td>\n",
       "      <td>7431</td>\n",
       "      <td>84</td>\n",
       "      <td>71.0</td>\n",
       "      <td>8.0</td>\n",
       "    </tr>\n",
       "  </tbody>\n",
       "</table>\n",
       "<p>5 rows × 25 columns</p>\n",
       "</div>"
      ],
      "text/plain": [
       "                                               Title  Year  \\\n",
       "0  Intolerance: Love's Struggle Throughout the Ages   1916   \n",
       "1                    Over the Hill to the Poorhouse   1920   \n",
       "2                                    The Big Parade   1925   \n",
       "3                                        Metropolis   1927   \n",
       "4                                     Pandora's Box   1929   \n",
       "\n",
       "                Genres Language  Country Content Rating  Duration  \\\n",
       "0    Drama|History|War      NaN      USA      Not Rated       123   \n",
       "1          Crime|Drama      NaN      USA            NaN       110   \n",
       "2    Drama|Romance|War      NaN      USA      Not Rated       151   \n",
       "3         Drama|Sci-Fi   German  Germany      Not Rated       145   \n",
       "4  Crime|Drama|Romance   German  Germany      Not Rated       110   \n",
       "\n",
       "   Aspect Ratio     Budget  Gross Earnings  ... Facebook Likes - Actor 1  \\\n",
       "0          1.33   385907.0             NaN  ...                      436   \n",
       "1          1.33   100000.0       3000000.0  ...                        2   \n",
       "2          1.33   245000.0             NaN  ...                       81   \n",
       "3          1.33  6000000.0         26435.0  ...                      136   \n",
       "4          1.33        NaN          9950.0  ...                      426   \n",
       "\n",
       "  Facebook Likes - Actor 2 Facebook Likes - Actor 3  \\\n",
       "0                       22                      9.0   \n",
       "1                        2                      0.0   \n",
       "2                       12                      6.0   \n",
       "3                       23                     18.0   \n",
       "4                       20                      3.0   \n",
       "\n",
       "  Facebook Likes - cast Total  Facebook likes - Movie  Facenumber in posters  \\\n",
       "0                         481                     691                      1   \n",
       "1                           4                       0                      1   \n",
       "2                         108                     226                      0   \n",
       "3                         203                   12000                      1   \n",
       "4                         455                     926                      1   \n",
       "\n",
       "   User Votes  Reviews by Users  Reviews by Crtiics  IMDB Score  \n",
       "0       10718                88                69.0         8.0  \n",
       "1           5                 1                 1.0         4.8  \n",
       "2        4849                45                48.0         8.3  \n",
       "3      111841               413               260.0         8.3  \n",
       "4        7431                84                71.0         8.0  \n",
       "\n",
       "[5 rows x 25 columns]"
      ]
     },
     "execution_count": 114,
     "metadata": {},
     "output_type": "execute_result"
    }
   ],
   "source": [
    "df31 = pd.read_pickle(\"C:\\E\\Data_Science\\KrishNaik_Youtube\\ML\\Machine_Learning_master\\Section_1_Python_Crash_Course\\movie_pickle\")\n",
    "df31.head()"
   ]
  },
  {
   "cell_type": "markdown",
   "metadata": {},
   "source": [
    "# Matplotlib"
   ]
  },
  {
   "cell_type": "code",
   "execution_count": 115,
   "metadata": {},
   "outputs": [],
   "source": [
    "import matplotlib.pyplot as plt\n",
    "import numpy as np\n",
    "import pandas as pd\n",
    "%matplotlib inline"
   ]
  },
  {
   "cell_type": "code",
   "execution_count": 116,
   "metadata": {},
   "outputs": [],
   "source": [
    "x = np.arange(0,10)\n",
    "y = np.arange(11,21)"
   ]
  },
  {
   "cell_type": "code",
   "execution_count": 117,
   "metadata": {},
   "outputs": [],
   "source": [
    "a = np.arange(40,50)\n",
    "b = np.arange(50,60)"
   ]
  },
  {
   "cell_type": "code",
   "execution_count": 118,
   "metadata": {},
   "outputs": [
    {
     "data": {
      "image/png": "[encoded data removed]",
      "text/plain": [
       "<Figure size 432x288 with 1 Axes>"
      ]
     },
     "metadata": {
      "needs_background": "light"
     },
     "output_type": "display_data"
    }
   ],
   "source": [
    "# scatter plot\n",
    "plt.scatter(x,y,c = \"r\")\n",
    "# plt.show()  # will use if we dont use %matplotlib inline\n",
    "plt.xlabel(\"X axis\")\n",
    "plt.ylabel(\"Y axis\")\n",
    "plt.title(\"2D Graph\")\n",
    "plt.savefig(\"2D_Graph\")  # save the graph "
   ]
  },
  {
   "cell_type": "code",
   "execution_count": 119,
   "metadata": {},
   "outputs": [
    {
     "data": {
      "text/plain": [
       "Text(0, 0.5, 'Y axis')"
      ]
     },
     "execution_count": 119,
     "metadata": {},
     "output_type": "execute_result"
    },
    {
     "data": {
      "image/png": "[encoded data removed]",
      "text/plain": [
       "<Figure size 432x288 with 1 Axes>"
      ]
     },
     "metadata": {
      "needs_background": "light"
     },
     "output_type": "display_data"
    }
   ],
   "source": [
    "# plt plot\n",
    "#plt.plot(x,y)\n",
    "y = x*x\n",
    "#plt.plot(x,y,\"r--\")\n",
    "plt.plot(x,y,\"r*\",linestyle = \"dashed\",linewidth = 2,markersize = 12)\n",
    "plt.title(\"2D_Plot\")\n",
    "plt.xlabel(\"X axis\")\n",
    "plt.ylabel(\"Y axis\")"
   ]
  },
  {
   "cell_type": "markdown",
   "metadata": {},
   "source": [
    " # Seaborn"
   ]
  },
  {
   "cell_type": "code",
   "execution_count": 120,
   "metadata": {},
   "outputs": [],
   "source": [
    "import numpy as np\n",
    "import pandas as pd\n",
    "import matplotlib.pyplot as plt\n",
    "import seaborn as sns"
   ]
  },
  {
   "cell_type": "markdown",
   "metadata": {},
   "source": [
    "# Distribuition Plots (Continuous or descrete numerical variables)\n",
    "1. distplot\n",
    "2. joinplot\n",
    "3. pairplot"
   ]
  },
  {
   "cell_type": "code",
   "execution_count": 121,
   "metadata": {},
   "outputs": [
    {
     "data": {
      "text/html": [
       "<div>\n",
       "<style scoped>\n",
       "    .dataframe tbody tr th:only-of-type {\n",
       "        vertical-align: middle;\n",
       "    }\n",
       "\n",
       "    .dataframe tbody tr th {\n",
       "        vertical-align: top;\n",
       "    }\n",
       "\n",
       "    .dataframe thead th {\n",
       "        text-align: right;\n",
       "    }\n",
       "</style>\n",
       "<table border=\"1\" class=\"dataframe\">\n",
       "  <thead>\n",
       "    <tr style=\"text-align: right;\">\n",
       "      <th></th>\n",
       "      <th>total_bill</th>\n",
       "      <th>tip</th>\n",
       "      <th>sex</th>\n",
       "      <th>smoker</th>\n",
       "      <th>day</th>\n",
       "      <th>time</th>\n",
       "      <th>size</th>\n",
       "    </tr>\n",
       "  </thead>\n",
       "  <tbody>\n",
       "    <tr>\n",
       "      <th>0</th>\n",
       "      <td>16.99</td>\n",
       "      <td>1.01</td>\n",
       "      <td>Female</td>\n",
       "      <td>No</td>\n",
       "      <td>Sun</td>\n",
       "      <td>Dinner</td>\n",
       "      <td>2</td>\n",
       "    </tr>\n",
       "    <tr>\n",
       "      <th>1</th>\n",
       "      <td>10.34</td>\n",
       "      <td>1.66</td>\n",
       "      <td>Male</td>\n",
       "      <td>No</td>\n",
       "      <td>Sun</td>\n",
       "      <td>Dinner</td>\n",
       "      <td>3</td>\n",
       "    </tr>\n",
       "    <tr>\n",
       "      <th>2</th>\n",
       "      <td>21.01</td>\n",
       "      <td>3.50</td>\n",
       "      <td>Male</td>\n",
       "      <td>No</td>\n",
       "      <td>Sun</td>\n",
       "      <td>Dinner</td>\n",
       "      <td>3</td>\n",
       "    </tr>\n",
       "    <tr>\n",
       "      <th>3</th>\n",
       "      <td>23.68</td>\n",
       "      <td>3.31</td>\n",
       "      <td>Male</td>\n",
       "      <td>No</td>\n",
       "      <td>Sun</td>\n",
       "      <td>Dinner</td>\n",
       "      <td>2</td>\n",
       "    </tr>\n",
       "    <tr>\n",
       "      <th>4</th>\n",
       "      <td>24.59</td>\n",
       "      <td>3.61</td>\n",
       "      <td>Female</td>\n",
       "      <td>No</td>\n",
       "      <td>Sun</td>\n",
       "      <td>Dinner</td>\n",
       "      <td>4</td>\n",
       "    </tr>\n",
       "  </tbody>\n",
       "</table>\n",
       "</div>"
      ],
      "text/plain": [
       "   total_bill   tip     sex smoker  day    time  size\n",
       "0       16.99  1.01  Female     No  Sun  Dinner     2\n",
       "1       10.34  1.66    Male     No  Sun  Dinner     3\n",
       "2       21.01  3.50    Male     No  Sun  Dinner     3\n",
       "3       23.68  3.31    Male     No  Sun  Dinner     2\n",
       "4       24.59  3.61  Female     No  Sun  Dinner     4"
      ]
     },
     "execution_count": 121,
     "metadata": {},
     "output_type": "execute_result"
    }
   ],
   "source": [
    "df32 = sns.load_dataset(\"tips\")\n",
    "df32.head()"
   ]
  },
  {
   "cell_type": "code",
   "execution_count": 122,
   "metadata": {},
   "outputs": [
    {
     "data": {
      "text/plain": [
       "total_bill     float64\n",
       "tip            float64\n",
       "sex           category\n",
       "smoker        category\n",
       "day           category\n",
       "time          category\n",
       "size             int64\n",
       "dtype: object"
      ]
     },
     "execution_count": 122,
     "metadata": {},
     "output_type": "execute_result"
    }
   ],
   "source": [
    "df32.dtypes"
   ]
  },
  {
   "cell_type": "markdown",
   "metadata": {},
   "source": [
    "# Correlation with Heatmap\n",
    "Now I want to analyse what would be the tips amount on the basis of other features, tip is dependent and rest are independent variables.\n"
   ]
  },
  {
   "cell_type": "code",
   "execution_count": 123,
   "metadata": {},
   "outputs": [
    {
     "data": {
      "text/html": [
       "<div>\n",
       "<style scoped>\n",
       "    .dataframe tbody tr th:only-of-type {\n",
       "        vertical-align: middle;\n",
       "    }\n",
       "\n",
       "    .dataframe tbody tr th {\n",
       "        vertical-align: top;\n",
       "    }\n",
       "\n",
       "    .dataframe thead th {\n",
       "        text-align: right;\n",
       "    }\n",
       "</style>\n",
       "<table border=\"1\" class=\"dataframe\">\n",
       "  <thead>\n",
       "    <tr style=\"text-align: right;\">\n",
       "      <th></th>\n",
       "      <th>total_bill</th>\n",
       "      <th>tip</th>\n",
       "      <th>size</th>\n",
       "    </tr>\n",
       "  </thead>\n",
       "  <tbody>\n",
       "    <tr>\n",
       "      <th>total_bill</th>\n",
       "      <td>1.000000</td>\n",
       "      <td>0.675734</td>\n",
       "      <td>0.598315</td>\n",
       "    </tr>\n",
       "    <tr>\n",
       "      <th>tip</th>\n",
       "      <td>0.675734</td>\n",
       "      <td>1.000000</td>\n",
       "      <td>0.489299</td>\n",
       "    </tr>\n",
       "    <tr>\n",
       "      <th>size</th>\n",
       "      <td>0.598315</td>\n",
       "      <td>0.489299</td>\n",
       "      <td>1.000000</td>\n",
       "    </tr>\n",
       "  </tbody>\n",
       "</table>\n",
       "</div>"
      ],
      "text/plain": [
       "            total_bill       tip      size\n",
       "total_bill    1.000000  0.675734  0.598315\n",
       "tip           0.675734  1.000000  0.489299\n",
       "size          0.598315  0.489299  1.000000"
      ]
     },
     "execution_count": 123,
     "metadata": {},
     "output_type": "execute_result"
    }
   ],
   "source": [
    "# lets do a corelation among variables. We can only do with float or integer variables. Here are 3 variables which can show correlation.\n",
    "df33 = df32.corr()\n",
    "df33"
   ]
  },
  {
   "cell_type": "code",
   "execution_count": 124,
   "metadata": {},
   "outputs": [
    {
     "data": {
      "text/plain": [
       "<matplotlib.axes._subplots.AxesSubplot at 0x19a01e91088>"
      ]
     },
     "execution_count": 124,
     "metadata": {},
     "output_type": "execute_result"
    },
    {
     "data": {
      "image/png": "[encoded data removed]",
      "text/plain": [
       "<Figure size 432x288 with 2 Axes>"
      ]
     },
     "metadata": {
      "needs_background": "light"
     },
     "output_type": "display_data"
    }
   ],
   "source": [
    "# create heat map usining above corr metrix. This is use to find correlation between variables.\n",
    "sns.heatmap(df33)"
   ]
  },
  {
   "cell_type": "markdown",
   "metadata": {},
   "source": [
    "# Join Plot"
   ]
  },
  {
   "cell_type": "markdown",
   "metadata": {},
   "source": [
    "This is use to study the relationship between 2 numeric variables. the central chart display their co-relation.\n",
    "Its is usualy a scatter plot , a hexbin plot, a 2D histogram or 2D density  plot."
   ]
  },
  {
   "cell_type": "markdown",
   "metadata": {},
   "source": [
    "# Univariate Analysis"
   ]
  },
  {
   "cell_type": "code",
   "execution_count": 125,
   "metadata": {},
   "outputs": [
    {
     "data": {
      "text/plain": [
       "<seaborn.axisgrid.JointGrid at 0x19a01f43f48>"
      ]
     },
     "execution_count": 125,
     "metadata": {},
     "output_type": "execute_result"
    },
    {
     "data": {
      "image/png": "[encoded data removed]",
      "text/plain": [
       "<Figure size 432x432 with 3 Axes>"
      ]
     },
     "metadata": {
      "needs_background": "light"
     },
     "output_type": "display_data"
    }
   ],
   "source": [
    "sns.jointplot(x = \"tip\", y = \"total_bill\",data= df32,kind=\"hex\")"
   ]
  },
  {
   "cell_type": "code",
   "execution_count": 126,
   "metadata": {},
   "outputs": [
    {
     "data": {
      "text/plain": [
       "<seaborn.axisgrid.JointGrid at 0x19a01e0aa48>"
      ]
     },
     "execution_count": 126,
     "metadata": {},
     "output_type": "execute_result"
    },
    {
     "data": {
      "image/png": "[encoded data removed]",
      "text/plain": [
       "<Figure size 432x432 with 3 Axes>"
      ]
     },
     "metadata": {
      "needs_background": "light"
     },
     "output_type": "display_data"
    }
   ],
   "source": [
    "# select kind = reg, whicg will plot regression line and PDF(Prob density function)\n",
    "sns.jointplot(x = \"tip\", y = \"total_bill\",data= df32,kind=\"reg\")"
   ]
  },
  {
   "cell_type": "markdown",
   "metadata": {},
   "source": [
    "# Pair plot"
   ]
  },
  {
   "cell_type": "markdown",
   "metadata": {},
   "source": [
    "Pair plot also known as scatter plot , in which one variable in the same data row is matched with another variable's value,like this\n",
    "Showing all variables paired with all the other variables. Variables value should be integer or float.\n"
   ]
  },
  {
   "cell_type": "code",
   "execution_count": 127,
   "metadata": {},
   "outputs": [
    {
     "data": {
      "text/plain": [
       "<seaborn.axisgrid.PairGrid at 0x19a02139388>"
      ]
     },
     "execution_count": 127,
     "metadata": {},
     "output_type": "execute_result"
    },
    {
     "data": {
      "image/png": "[encoded data removed]",
      "text/plain": [
       "<Figure size 540x540 with 12 Axes>"
      ]
     },
     "metadata": {
      "needs_background": "light"
     },
     "output_type": "display_data"
    }
   ],
   "source": [
    "sns.pairplot(df32)"
   ]
  },
  {
   "cell_type": "code",
   "execution_count": 128,
   "metadata": {},
   "outputs": [
    {
     "data": {
      "text/plain": [
       "<seaborn.axisgrid.PairGrid at 0x19a02898dc8>"
      ]
     },
     "execution_count": 128,
     "metadata": {},
     "output_type": "execute_result"
    },
    {
     "data": {
      "image/png": "[encoded data removed]",
      "text/plain": [
       "<Figure size 612.625x540 with 12 Axes>"
      ]
     },
     "metadata": {
      "needs_background": "light"
     },
     "output_type": "display_data"
    }
   ],
   "source": [
    "# Lets further if you want to see above corelated scatter plots data with categorical variables. Eg. sex in df32\n",
    "sns.pairplot(df32,hue=\"sex\")"
   ]
  },
  {
   "cell_type": "markdown",
   "metadata": {},
   "source": [
    "# Dist Plot\n",
    "It helps us to check the distribution of the columns features"
   ]
  },
  {
   "cell_type": "code",
   "execution_count": 129,
   "metadata": {},
   "outputs": [
    {
     "data": {
      "text/plain": [
       "<matplotlib.axes._subplots.AxesSubplot at 0x19a04c25488>"
      ]
     },
     "execution_count": 129,
     "metadata": {},
     "output_type": "execute_result"
    },
    {
     "data": {
      "image/png": "[encoded data removed]",
      "text/plain": [
       "<Figure size 432x288 with 1 Axes>"
      ]
     },
     "metadata": {
      "needs_background": "light"
     },
     "output_type": "display_data"
    }
   ],
   "source": [
    "sns.distplot(df32[\"tip\"])"
   ]
  },
  {
   "cell_type": "code",
   "execution_count": 130,
   "metadata": {},
   "outputs": [
    {
     "data": {
      "text/plain": [
       "<matplotlib.axes._subplots.AxesSubplot at 0x19a03b4cf08>"
      ]
     },
     "execution_count": 130,
     "metadata": {},
     "output_type": "execute_result"
    },
    {
     "data": {
      "image/png": "[encoded data removed]",
      "text/plain": [
       "<Figure size 432x288 with 1 Axes>"
      ]
     },
     "metadata": {
      "needs_background": "light"
     },
     "output_type": "display_data"
    }
   ],
   "source": [
    "sns.distplot(df32[\"tip\"],kde= False,bins=10)"
   ]
  },
  {
   "cell_type": "code",
   "execution_count": 131,
   "metadata": {},
   "outputs": [
    {
     "data": {
      "text/plain": [
       "<matplotlib.axes._subplots.AxesSubplot at 0x19a03ba4c48>"
      ]
     },
     "execution_count": 131,
     "metadata": {},
     "output_type": "execute_result"
    },
    {
     "data": {
      "image/png": "[encoded data removed]",
      "text/plain": [
       "<Figure size 432x288 with 1 Axes>"
      ]
     },
     "metadata": {
      "needs_background": "light"
     },
     "output_type": "display_data"
    }
   ],
   "source": [
    "sns.distplot(df32[\"tip\"],kde= True,bins=10) # Y axis is in percentage"
   ]
  },
  {
   "cell_type": "markdown",
   "metadata": {},
   "source": [
    "# Categorical Plot\n",
    "Seaborn also very usefull to analyse categorical data points.\n",
    "1. Boxplot\n",
    "2. Violinplot\n",
    "3. Countplot\n",
    "4. Barplot"
   ]
  },
  {
   "cell_type": "code",
   "execution_count": 132,
   "metadata": {},
   "outputs": [
    {
     "data": {
      "text/html": [
       "<div>\n",
       "<style scoped>\n",
       "    .dataframe tbody tr th:only-of-type {\n",
       "        vertical-align: middle;\n",
       "    }\n",
       "\n",
       "    .dataframe tbody tr th {\n",
       "        vertical-align: top;\n",
       "    }\n",
       "\n",
       "    .dataframe thead th {\n",
       "        text-align: right;\n",
       "    }\n",
       "</style>\n",
       "<table border=\"1\" class=\"dataframe\">\n",
       "  <thead>\n",
       "    <tr style=\"text-align: right;\">\n",
       "      <th></th>\n",
       "      <th>total_bill</th>\n",
       "      <th>tip</th>\n",
       "      <th>sex</th>\n",
       "      <th>smoker</th>\n",
       "      <th>day</th>\n",
       "      <th>time</th>\n",
       "      <th>size</th>\n",
       "    </tr>\n",
       "  </thead>\n",
       "  <tbody>\n",
       "    <tr>\n",
       "      <th>0</th>\n",
       "      <td>16.99</td>\n",
       "      <td>1.01</td>\n",
       "      <td>Female</td>\n",
       "      <td>No</td>\n",
       "      <td>Sun</td>\n",
       "      <td>Dinner</td>\n",
       "      <td>2</td>\n",
       "    </tr>\n",
       "    <tr>\n",
       "      <th>1</th>\n",
       "      <td>10.34</td>\n",
       "      <td>1.66</td>\n",
       "      <td>Male</td>\n",
       "      <td>No</td>\n",
       "      <td>Sun</td>\n",
       "      <td>Dinner</td>\n",
       "      <td>3</td>\n",
       "    </tr>\n",
       "    <tr>\n",
       "      <th>2</th>\n",
       "      <td>21.01</td>\n",
       "      <td>3.50</td>\n",
       "      <td>Male</td>\n",
       "      <td>No</td>\n",
       "      <td>Sun</td>\n",
       "      <td>Dinner</td>\n",
       "      <td>3</td>\n",
       "    </tr>\n",
       "    <tr>\n",
       "      <th>3</th>\n",
       "      <td>23.68</td>\n",
       "      <td>3.31</td>\n",
       "      <td>Male</td>\n",
       "      <td>No</td>\n",
       "      <td>Sun</td>\n",
       "      <td>Dinner</td>\n",
       "      <td>2</td>\n",
       "    </tr>\n",
       "    <tr>\n",
       "      <th>4</th>\n",
       "      <td>24.59</td>\n",
       "      <td>3.61</td>\n",
       "      <td>Female</td>\n",
       "      <td>No</td>\n",
       "      <td>Sun</td>\n",
       "      <td>Dinner</td>\n",
       "      <td>4</td>\n",
       "    </tr>\n",
       "  </tbody>\n",
       "</table>\n",
       "</div>"
      ],
      "text/plain": [
       "   total_bill   tip     sex smoker  day    time  size\n",
       "0       16.99  1.01  Female     No  Sun  Dinner     2\n",
       "1       10.34  1.66    Male     No  Sun  Dinner     3\n",
       "2       21.01  3.50    Male     No  Sun  Dinner     3\n",
       "3       23.68  3.31    Male     No  Sun  Dinner     2\n",
       "4       24.59  3.61  Female     No  Sun  Dinner     4"
      ]
     },
     "execution_count": 132,
     "metadata": {},
     "output_type": "execute_result"
    }
   ],
   "source": [
    "df32.head()"
   ]
  },
  {
   "cell_type": "code",
   "execution_count": 133,
   "metadata": {},
   "outputs": [
    {
     "data": {
      "text/plain": [
       "<matplotlib.axes._subplots.AxesSubplot at 0x19a04dc3108>"
      ]
     },
     "execution_count": 133,
     "metadata": {},
     "output_type": "execute_result"
    },
    {
     "data": {
      "image/png": "[encoded data removed]",
      "text/plain": [
       "<Figure size 432x288 with 1 Axes>"
      ]
     },
     "metadata": {
      "needs_background": "light"
     },
     "output_type": "display_data"
    }
   ],
   "source": [
    "# Countplot\n",
    "sns.countplot(\"sex\",data=df32) # default choosen axis is x.  x = \"sex\""
   ]
  },
  {
   "cell_type": "code",
   "execution_count": 134,
   "metadata": {},
   "outputs": [
    {
     "data": {
      "text/plain": [
       "<matplotlib.axes._subplots.AxesSubplot at 0x19a04e23dc8>"
      ]
     },
     "execution_count": 134,
     "metadata": {},
     "output_type": "execute_result"
    },
    {
     "data": {
      "image/png": "[encoded data removed]",
      "text/plain": [
       "<Figure size 432x288 with 1 Axes>"
      ]
     },
     "metadata": {
      "needs_background": "light"
     },
     "output_type": "display_data"
    }
   ],
   "source": [
    "sns.countplot(y = \"sex\",data= df32)\n",
    "#sns.countplot(x = \"sex\",y = \"smoker\", data= df32) # Cannot pass values for both `x` and `y`, Only select x or y"
   ]
  },
  {
   "cell_type": "code",
   "execution_count": 135,
   "metadata": {},
   "outputs": [
    {
     "data": {
      "text/plain": [
       "<matplotlib.axes._subplots.AxesSubplot at 0x19a04e7fe88>"
      ]
     },
     "execution_count": 135,
     "metadata": {},
     "output_type": "execute_result"
    },
    {
     "data": {
      "image/png": "[encoded data removed]",
      "text/plain": [
       "<Figure size 432x288 with 1 Axes>"
      ]
     },
     "metadata": {
      "needs_background": "light"
     },
     "output_type": "display_data"
    }
   ],
   "source": [
    "# Bar Plot\n",
    "sns.barplot(x = \"day\", y = \"total_bill\", data=df32)\n"
   ]
  },
  {
   "cell_type": "code",
   "execution_count": 136,
   "metadata": {},
   "outputs": [
    {
     "data": {
      "text/plain": [
       "<matplotlib.axes._subplots.AxesSubplot at 0x19a04ee6508>"
      ]
     },
     "execution_count": 136,
     "metadata": {},
     "output_type": "execute_result"
    },
    {
     "data": {
      "image/png": "[encoded data removed]",
      "text/plain": [
       "<Figure size 432x288 with 1 Axes>"
      ]
     },
     "metadata": {
      "needs_background": "light"
     },
     "output_type": "display_data"
    }
   ],
   "source": [
    "# Box Plot\n",
    "sns.boxplot(\"sex\",\"total_bill\",data=df32)"
   ]
  },
  {
   "cell_type": "code",
   "execution_count": 137,
   "metadata": {},
   "outputs": [
    {
     "data": {
      "text/plain": [
       "<matplotlib.axes._subplots.AxesSubplot at 0x19a04f5f908>"
      ]
     },
     "execution_count": 137,
     "metadata": {},
     "output_type": "execute_result"
    },
    {
     "data": {
      "image/png": "[encoded data removed]",
      "text/plain": [
       "<Figure size 432x288 with 1 Axes>"
      ]
     },
     "metadata": {
      "needs_background": "light"
     },
     "output_type": "display_data"
    }
   ],
   "source": [
    "sns.boxplot(\"day\",\"total_bill\",data=df32,palette=\"rainbow\")"
   ]
  },
  {
   "cell_type": "code",
   "execution_count": 138,
   "metadata": {},
   "outputs": [
    {
     "data": {
      "text/plain": [
       "<matplotlib.axes._subplots.AxesSubplot at 0x19a04ff4848>"
      ]
     },
     "execution_count": 138,
     "metadata": {},
     "output_type": "execute_result"
    },
    {
     "data": {
      "image/png": "[encoded data removed]",
      "text/plain": [
       "<Figure size 432x288 with 1 Axes>"
      ]
     },
     "metadata": {
      "needs_background": "light"
     },
     "output_type": "display_data"
    }
   ],
   "source": [
    "sns.boxplot(data=df32,orient=\"v\")"
   ]
  },
  {
   "cell_type": "code",
   "execution_count": 139,
   "metadata": {},
   "outputs": [
    {
     "data": {
      "text/plain": [
       "<matplotlib.axes._subplots.AxesSubplot at 0x19a05096688>"
      ]
     },
     "execution_count": 139,
     "metadata": {},
     "output_type": "execute_result"
    },
    {
     "data": {
      "image/png": "[encoded data removed]",
      "text/plain": [
       "<Figure size 432x288 with 1 Axes>"
      ]
     },
     "metadata": {
      "needs_background": "light"
     },
     "output_type": "display_data"
    }
   ],
   "source": [
    "sns.boxplot(x = \"total_bill\",y = \"sex\",data=df32,hue=\"smoker\")"
   ]
  },
  {
   "cell_type": "code",
   "execution_count": 140,
   "metadata": {},
   "outputs": [
    {
     "data": {
      "text/html": [
       "<div>\n",
       "<style scoped>\n",
       "    .dataframe tbody tr th:only-of-type {\n",
       "        vertical-align: middle;\n",
       "    }\n",
       "\n",
       "    .dataframe tbody tr th {\n",
       "        vertical-align: top;\n",
       "    }\n",
       "\n",
       "    .dataframe thead th {\n",
       "        text-align: right;\n",
       "    }\n",
       "</style>\n",
       "<table border=\"1\" class=\"dataframe\">\n",
       "  <thead>\n",
       "    <tr style=\"text-align: right;\">\n",
       "      <th></th>\n",
       "      <th>total_bill</th>\n",
       "      <th>tip</th>\n",
       "      <th>sex</th>\n",
       "      <th>smoker</th>\n",
       "      <th>day</th>\n",
       "      <th>time</th>\n",
       "      <th>size</th>\n",
       "    </tr>\n",
       "  </thead>\n",
       "  <tbody>\n",
       "    <tr>\n",
       "      <th>0</th>\n",
       "      <td>16.99</td>\n",
       "      <td>1.01</td>\n",
       "      <td>Female</td>\n",
       "      <td>No</td>\n",
       "      <td>Sun</td>\n",
       "      <td>Dinner</td>\n",
       "      <td>2</td>\n",
       "    </tr>\n",
       "    <tr>\n",
       "      <th>1</th>\n",
       "      <td>10.34</td>\n",
       "      <td>1.66</td>\n",
       "      <td>Male</td>\n",
       "      <td>No</td>\n",
       "      <td>Sun</td>\n",
       "      <td>Dinner</td>\n",
       "      <td>3</td>\n",
       "    </tr>\n",
       "    <tr>\n",
       "      <th>2</th>\n",
       "      <td>21.01</td>\n",
       "      <td>3.50</td>\n",
       "      <td>Male</td>\n",
       "      <td>No</td>\n",
       "      <td>Sun</td>\n",
       "      <td>Dinner</td>\n",
       "      <td>3</td>\n",
       "    </tr>\n",
       "    <tr>\n",
       "      <th>3</th>\n",
       "      <td>23.68</td>\n",
       "      <td>3.31</td>\n",
       "      <td>Male</td>\n",
       "      <td>No</td>\n",
       "      <td>Sun</td>\n",
       "      <td>Dinner</td>\n",
       "      <td>2</td>\n",
       "    </tr>\n",
       "    <tr>\n",
       "      <th>4</th>\n",
       "      <td>24.59</td>\n",
       "      <td>3.61</td>\n",
       "      <td>Female</td>\n",
       "      <td>No</td>\n",
       "      <td>Sun</td>\n",
       "      <td>Dinner</td>\n",
       "      <td>4</td>\n",
       "    </tr>\n",
       "  </tbody>\n",
       "</table>\n",
       "</div>"
      ],
      "text/plain": [
       "   total_bill   tip     sex smoker  day    time  size\n",
       "0       16.99  1.01  Female     No  Sun  Dinner     2\n",
       "1       10.34  1.66    Male     No  Sun  Dinner     3\n",
       "2       21.01  3.50    Male     No  Sun  Dinner     3\n",
       "3       23.68  3.31    Male     No  Sun  Dinner     2\n",
       "4       24.59  3.61  Female     No  Sun  Dinner     4"
      ]
     },
     "execution_count": 140,
     "metadata": {},
     "output_type": "execute_result"
    }
   ],
   "source": [
    "df32.head()"
   ]
  },
  {
   "cell_type": "code",
   "execution_count": 141,
   "metadata": {},
   "outputs": [
    {
     "data": {
      "text/plain": [
       "<matplotlib.axes._subplots.AxesSubplot at 0x19a051489c8>"
      ]
     },
     "execution_count": 141,
     "metadata": {},
     "output_type": "execute_result"
    },
    {
     "data": {
      "image/png": "[encoded data removed]",
      "text/plain": [
       "<Figure size 432x288 with 1 Axes>"
      ]
     },
     "metadata": {
      "needs_background": "light"
     },
     "output_type": "display_data"
    }
   ],
   "source": [
    "sns.boxplot(x = \"time\",y = \"tip\" ,data= df32,order =[\"Dinner\", \"Lunch\"])"
   ]
  },
  {
   "cell_type": "code",
   "execution_count": 142,
   "metadata": {},
   "outputs": [
    {
     "data": {
      "text/plain": [
       "<matplotlib.axes._subplots.AxesSubplot at 0x19a051ae988>"
      ]
     },
     "execution_count": 142,
     "metadata": {},
     "output_type": "execute_result"
    },
    {
     "data": {
      "image/png": "[encoded data removed]",
      "text/plain": [
       "<Figure size 432x288 with 1 Axes>"
      ]
     },
     "metadata": {
      "needs_background": "light"
     },
     "output_type": "display_data"
    }
   ],
   "source": [
    "# Vilon plot\n",
    "# \n",
    "sns.violinplot(x = \"total_bill\", y = \"day\",data=df32,palette=\"rainbow\")"
   ]
  },
  {
   "cell_type": "code",
   "execution_count": null,
   "metadata": {},
   "outputs": [],
   "source": []
  }
 ],
 "metadata": {
  "kernelspec": {
   "display_name": "Python 3",
   "language": "python",
   "name": "python3"
  },
  "language_info": {
   "codemirror_mode": {
    "name": "ipython",
    "version": 3
   },
   "file_extension": ".py",
   "mimetype": "text/x-python",
   "name": "python",
   "nbconvert_exporter": "python",
   "pygments_lexer": "ipython3",
   "version": "3.7.6"
  }
 },
 "nbformat": 4,
 "nbformat_minor": 2
}
